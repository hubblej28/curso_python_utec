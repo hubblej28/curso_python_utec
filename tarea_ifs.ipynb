{
  "nbformat": 4,
  "nbformat_minor": 0,
  "metadata": {
    "colab": {
      "provenance": [],
      "authorship_tag": "ABX9TyNoFvy2SZWH+2hnv7rmfTg9",
      "include_colab_link": true
    },
    "kernelspec": {
      "name": "python3",
      "display_name": "Python 3"
    },
    "language_info": {
      "name": "python"
    }
  },
  "cells": [
    {
      "cell_type": "markdown",
      "metadata": {
        "id": "view-in-github",
        "colab_type": "text"
      },
      "source": [
        "<a href=\"https://colab.research.google.com/github/hubblej28/curso_python_utec/blob/main/tarea_ifs.ipynb\" target=\"_parent\"><img src=\"https://colab.research.google.com/assets/colab-badge.svg\" alt=\"Open In Colab\"/></a>"
      ]
    },
    {
      "cell_type": "code",
      "execution_count": null,
      "metadata": {
        "colab": {
          "base_uri": "https://localhost:8080/"
        },
        "id": "kXNPk5HiDg7-",
        "outputId": "a3d24183-095f-4875-a391-b6c562dc7e86"
      },
      "outputs": [
        {
          "output_type": "stream",
          "name": "stdout",
          "text": [
            "APROBADO\n"
          ]
        }
      ],
      "source": [
        "monto = 500\n",
        "if monto > 300 :\n",
        " print(\"APROBADO\")\n",
        "else:\n",
        "  print(\"DESAPROBADO\")\n",
        "\n"
      ]
    },
    {
      "cell_type": "code",
      "source": [
        "monto_1 = 300\n",
        "if monto_1 > 700 :\n",
        "  print(\"Monto aprobado\")\n",
        "elif monto_1 < 300:\n",
        "  print(\"Cumple limite\")\n",
        "else:\n",
        "  print(\"no cumple\")\n"
      ],
      "metadata": {
        "colab": {
          "base_uri": "https://localhost:8080/"
        },
        "id": "HZ0jxoiBGO1y",
        "outputId": "5f312eac-42cc-4227-b83d-5e9f20f0d072"
      },
      "execution_count": null,
      "outputs": [
        {
          "output_type": "stream",
          "name": "stdout",
          "text": [
            "no cumple\n"
          ]
        }
      ]
    },
    {
      "cell_type": "code",
      "source": [
        "monto = 101\n",
        "\n",
        "if monto > 700 :\n",
        "  print(\"Denegado\")\n",
        "elif monto > 100 :\n",
        "  print(\"Aprobado\")\n",
        "else :\n",
        "  print(\"Preaprobado\")\n"
      ],
      "metadata": {
        "colab": {
          "base_uri": "https://localhost:8080/"
        },
        "id": "rfZ-5ppCK3iZ",
        "outputId": "96cd5e8d-ac4b-4093-f5f8-dd960c623883"
      },
      "execution_count": null,
      "outputs": [
        {
          "output_type": "stream",
          "name": "stdout",
          "text": [
            "Aprobado\n"
          ]
        }
      ]
    },
    {
      "cell_type": "code",
      "source": [
        "ingresos = int(input(\"Registre sus ingresos:\"))\n",
        "\n",
        "if ingresos > 1000:\n",
        "  print(\"categoria ORO\")\n",
        "elif ingresos >= 500:\n",
        "  print(\"categoria PLATA\")\n",
        "else:\n",
        "  print(\"categoria BASICA\")"
      ],
      "metadata": {
        "colab": {
          "base_uri": "https://localhost:8080/"
        },
        "id": "UPtS0_1KNash",
        "outputId": "4cee538e-3b27-45d7-8a51-427008a09cf8"
      },
      "execution_count": null,
      "outputs": [
        {
          "output_type": "stream",
          "name": "stdout",
          "text": [
            "Registre sus ingresos:2000\n",
            "categoria ORO\n"
          ]
        }
      ]
    },
    {
      "cell_type": "code",
      "source": [
        "score = int(input(\"Registre su puntaje: \"))\n",
        "\n",
        "if score >= 800:\n",
        "  Tasa = \"10%\"\n",
        "elif score >= 700:\n",
        "  Tasa = \"14%\"\n",
        "else:\n",
        "  Tasa = \"20%\"\n",
        "print(\"Su tasa es : \"+Tasa)"
      ],
      "metadata": {
        "colab": {
          "base_uri": "https://localhost:8080/"
        },
        "id": "SYTzDBFTQtW5",
        "outputId": "95f5ef0e-4e52-43dd-902f-243485a96659"
      },
      "execution_count": null,
      "outputs": [
        {
          "output_type": "stream",
          "name": "stdout",
          "text": [
            "Registre su puntaje: 500\n",
            "Su tasa es : 20%\n"
          ]
        }
      ]
    },
    {
      "cell_type": "code",
      "source": [
        "ingreso = int(input(\"Registre su ingreso: \"))\n",
        "\n",
        "if ingreso >= 10000:\n",
        "  print(\"Prestamo hasta 80,000\")\n",
        "elif ingreso >= 7000:\n",
        "  print(\"Prestamo hasta 50,000\")\n",
        "else:\n",
        "  print(\"Prestamo hasta 20,000\")"
      ],
      "metadata": {
        "colab": {
          "base_uri": "https://localhost:8080/"
        },
        "id": "FP2iV48GZ_GA",
        "outputId": "8f257c98-6b08-492b-c0ba-faa6d9861f26"
      },
      "execution_count": null,
      "outputs": [
        {
          "output_type": "stream",
          "name": "stdout",
          "text": [
            "Registre su ingreso: 5000\n",
            "Prestamo hasta 20,000\n"
          ]
        }
      ]
    },
    {
      "cell_type": "code",
      "source": [
        "import random\n",
        "monto =int(input(\"Registre el monto solicitado: \"))\n",
        "ingreso_mensual =int(input(\"Registre su ingreso mensual: \"))\n",
        "\n",
        "historial1 = \"Bueno\"\n",
        "historial2 = \"Malo\"\n",
        "Historial_opciones = [historial1, historial2]\n",
        "Historial = random.choice(Historial_opciones)\n",
        "print (\"Historial de pagos: \"+ Historial)\n",
        "\n",
        "cliente1 = \"Normal\"\n",
        "cliente2 = \"Premium\"\n",
        "Cliente_opciones = [cliente1, cliente2]\n",
        "Cliente = random.choice(Cliente_opciones)\n",
        "print (\"Tipo de cliente: \"+ Cliente)\n",
        "\n",
        "deuda = random.randint(1000, 3000)\n",
        "print (\"Deuda total: \"+ str(deuda))\n",
        "\n",
        "#Evaluacion de aprobacion\n",
        "if ingreso_mensual >= 1500 and monto <= (5*ingreso_mensual) and Historial == \"Bueno\":\n",
        "  estado = \"Prestamo aprobado\"\n",
        "  #Asignacion de tasa\n",
        "  if Cliente == \"Premium\" and ingreso_mensual > 5000:\n",
        "    tasa = 0.08\n",
        "  else :\n",
        "    tasa = 0.12\n",
        "    #Riesgo crediticio\n",
        "    porcentaje_deuda = int(deuda/(ingreso_mensual*12)*100)\n",
        "    if porcentaje_deuda > 60:\n",
        "      riesgo = \"Alto\"\n",
        "    elif porcentaje_deuda > 30:\n",
        "      riesgo = \"Medio\"\n",
        "    else:\n",
        "      riesgo = \"Bajo\"\n",
        "else:\n",
        "  estado = \"Prestamo desaprobado\"\n",
        "\n",
        "if estado ==\"Prestamo aprobado\":\n",
        "  print(\" \")\n",
        "  print(\"Estado del prestamo: \"+estado)\n",
        "  print(\"Tasa de interes: \"+str(tasa*100)+\" %\")\n",
        "  print(\"Porcentaje de deuda sobre ingreso anual: \" + str(porcentaje_deuda) + \" %\")\n",
        "  print(\"Riesgo crediticio: \"+riesgo)\n",
        "else:\n",
        "  print(\"Prestamo desaprobado\")\n",
        "\n",
        "\n",
        "\n",
        "\n",
        "\n"
      ],
      "metadata": {
        "colab": {
          "base_uri": "https://localhost:8080/"
        },
        "id": "jBfyRbTaf4jJ",
        "outputId": "86d6a2fe-6fa5-4ef1-9065-98729b8f0204"
      },
      "execution_count": null,
      "outputs": [
        {
          "output_type": "stream",
          "name": "stdout",
          "text": [
            "Registre el monto solicitado: 9000\n",
            "Registre su ingreso mensual: 5500\n",
            "Historial de pagos: Bueno\n",
            "Tipo de cliente: Premium\n",
            "Deuda total: 1653\n",
            " \n",
            "Estado del prestamo: Prestamo aprobado\n",
            "Tasa de interes: 8.0 %\n",
            "Porcentaje de deuda sobre ingreso anual: 2 %\n",
            "Riesgo crediticio: Bajo\n"
          ]
        }
      ]
    }
  ]
}