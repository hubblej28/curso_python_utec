{
  "nbformat": 4,
  "nbformat_minor": 0,
  "metadata": {
    "colab": {
      "private_outputs": true,
      "provenance": [],
      "include_colab_link": true
    },
    "kernelspec": {
      "name": "python3",
      "display_name": "Python 3"
    },
    "language_info": {
      "name": "python"
    }
  },
  "cells": [
    {
      "cell_type": "markdown",
      "metadata": {
        "id": "view-in-github",
        "colab_type": "text"
      },
      "source": [
        "<a href=\"https://colab.research.google.com/github/hubblej28/curso_python_utec/blob/main/Laboratorios/Modulo_3/Sesion_2_importanciaVisualizacion.ipynb\" target=\"_parent\"><img src=\"https://colab.research.google.com/assets/colab-badge.svg\" alt=\"Open In Colab\"/></a>"
      ]
    },
    {
      "cell_type": "code",
      "execution_count": null,
      "metadata": {
        "id": "PU5EplOHMFF1"
      },
      "outputs": [],
      "source": [
        "import pandas as pd\n",
        "import numpy as np\n",
        "\n",
        "path= \"https://raw.githubusercontent.com/germaingarcia/Files_Lectures/refs/heads/main/PythonProgram/notassemestres.csv\"\n",
        "df=pd.read_csv(path)\n",
        "df"
      ]
    },
    {
      "cell_type": "markdown",
      "source": [
        "## promedio de cada curso\n",
        "`np.mean(\\#lista de números )`"
      ],
      "metadata": {
        "id": "5frYqaA0MQqc"
      }
    },
    {
      "cell_type": "code",
      "source": [
        "promedio =np.mean(df[\"S2_Matematica\"].values)\n",
        "print(promedio)"
      ],
      "metadata": {
        "id": "FcAktEaIMQQd"
      },
      "execution_count": null,
      "outputs": []
    },
    {
      "cell_type": "code",
      "source": [
        "promedio =np.mean(df[\"S2_Matematica\"].values)\n",
        "print(promedio)"
      ],
      "metadata": {
        "id": "rucvjpjNpLxI"
      },
      "execution_count": null,
      "outputs": []
    },
    {
      "cell_type": "markdown",
      "source": [
        "## varianza\n",
        "`np.var(\\#lista de números )`"
      ],
      "metadata": {
        "id": "x3deBJIlNi4B"
      }
    },
    {
      "cell_type": "code",
      "source": [
        "var_x = np.var(df[\"S2_Programacion\"].values)\n",
        "print(var_x)"
      ],
      "metadata": {
        "id": "7_enNjVfNiXu"
      },
      "execution_count": null,
      "outputs": []
    },
    {
      "cell_type": "markdown",
      "source": [
        "## Coeficiente de correlación.\n",
        "\n",
        "`np.corrcoef(\\#lista valores numéricos, \\#lista valores numéricos)`\n",
        "\n",
        "`np.corrcoef(x,y)`\n"
      ],
      "metadata": {
        "id": "RRPqnbAQOrtv"
      }
    },
    {
      "cell_type": "code",
      "source": [
        "corr_xy = np.corrcoef(df[\"S2_Programacion\"].values, df[\"S2_Matematica\"].values)[0, 1]\n",
        "print(corr_xy)"
      ],
      "metadata": {
        "id": "lQUOFFAHOrOa"
      },
      "execution_count": null,
      "outputs": []
    },
    {
      "cell_type": "markdown",
      "source": [
        "\n",
        "\n",
        "---\n",
        "\n"
      ],
      "metadata": {
        "id": "lL7vmRmvP4Tz"
      }
    },
    {
      "cell_type": "code",
      "source": [
        "import matplotlib.pyplot as plt\n",
        "plt.scatter(df[\"S1_Programacion\"].values, df[\"S1_Matematica\"].values)\n",
        "plt.show()"
      ],
      "metadata": {
        "id": "cWzX9F6AP3_j"
      },
      "execution_count": null,
      "outputs": []
    },
    {
      "cell_type": "markdown",
      "source": [
        "\n",
        "\n",
        "---\n",
        "\n"
      ],
      "metadata": {
        "id": "AEqD75xVQEs6"
      }
    },
    {
      "cell_type": "code",
      "source": [
        "notasalumnos= pd.read_csv(\"https://raw.githubusercontent.com/germaingarcia/Files_Lectures/refs/heads/main/PythonProgram/programaPythonNotas.csv\")"
      ],
      "metadata": {
        "id": "1UCoEmkiQEZd"
      },
      "execution_count": null,
      "outputs": []
    },
    {
      "cell_type": "code",
      "source": [
        "notasalumnos"
      ],
      "metadata": {
        "id": "RFg5jS-rUJEH"
      },
      "execution_count": null,
      "outputs": []
    },
    {
      "cell_type": "markdown",
      "source": [
        "Promedio\n",
        "\n",
        "---\n",
        "\n"
      ],
      "metadata": {
        "id": "8i44xLMAS7-O"
      }
    },
    {
      "cell_type": "code",
      "source": [
        "prom = np.mean(notasalumnos[\"tarea2\"])\n",
        "print(prom)"
      ],
      "metadata": {
        "id": "ntKTcUPUUSAj"
      },
      "execution_count": null,
      "outputs": []
    },
    {
      "cell_type": "code",
      "source": [
        "plt.scatter(notasalumnos[\"tarea1\"].values, notasalumnos[\"tarea2\"].values)\n",
        "plt.show()"
      ],
      "metadata": {
        "id": "2PwKCChFUS05"
      },
      "execution_count": null,
      "outputs": []
    }
  ]
}