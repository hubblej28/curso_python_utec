{
  "nbformat": 4,
  "nbformat_minor": 0,
  "metadata": {
    "colab": {
      "provenance": [],
      "authorship_tag": "ABX9TyPKrcENR4i1uI74SnrpgAiJ",
      "include_colab_link": true
    },
    "kernelspec": {
      "name": "python3",
      "display_name": "Python 3"
    },
    "language_info": {
      "name": "python"
    }
  },
  "cells": [
    {
      "cell_type": "markdown",
      "metadata": {
        "id": "view-in-github",
        "colab_type": "text"
      },
      "source": [
        "<a href=\"https://colab.research.google.com/github/hubblej28/curso_python_utec/blob/main/Laboratorios/Clase%20while.ipynb\" target=\"_parent\"><img src=\"https://colab.research.google.com/assets/colab-badge.svg\" alt=\"Open In Colab\"/></a>"
      ]
    },
    {
      "cell_type": "code",
      "execution_count": 1,
      "metadata": {
        "colab": {
          "base_uri": "https://localhost:8080/"
        },
        "id": "uPl7OKw4KzrE",
        "outputId": "66e2e6d4-18c4-4a0f-bd58-c88145a7df4c"
      },
      "outputs": [
        {
          "output_type": "stream",
          "name": "stdout",
          "text": [
            "{'Juan': 20, 'Cesar': 30, 'Richard': 45}\n"
          ]
        }
      ],
      "source": [
        "nombres = [\"Juan\", \"Cesar\", \"Richard\"]\n",
        "edades = [20, 30, 45]\n",
        "\n",
        "emparejados = dict(zip(nombres, edades))\n",
        "print(emparejados)"
      ]
    },
    {
      "cell_type": "code",
      "source": [
        "contador = 1\n",
        "while contador <= 10:\n",
        "  print(contador)\n",
        "  contador = contador + 1"
      ],
      "metadata": {
        "colab": {
          "base_uri": "https://localhost:8080/"
        },
        "id": "LtxPqZEETmgH",
        "outputId": "c748c869-663b-4df0-fd5b-21c6737129bc"
      },
      "execution_count": 4,
      "outputs": [
        {
          "output_type": "stream",
          "name": "stdout",
          "text": [
            "1\n",
            "2\n",
            "3\n",
            "4\n",
            "5\n",
            "6\n",
            "7\n",
            "8\n",
            "9\n",
            "10\n"
          ]
        }
      ]
    },
    {
      "cell_type": "code",
      "source": [
        "password = 1234\n",
        "while password == 1234:\n",
        "  print(\"Acceso concedido\")\n",
        "  break"
      ],
      "metadata": {
        "colab": {
          "base_uri": "https://localhost:8080/"
        },
        "id": "6VdSTQdKUXdu",
        "outputId": "6a1a2913-e2f9-42cb-beb8-fb08be9b8d1a"
      },
      "execution_count": 1,
      "outputs": [
        {
          "output_type": "stream",
          "name": "stdout",
          "text": [
            "Acceso concedido\n"
          ]
        }
      ]
    },
    {
      "cell_type": "code",
      "source": [
        "i = 1\n",
        "while i <=5:\n",
        "  print(i * 2)\n",
        "  i = i + 1"
      ],
      "metadata": {
        "colab": {
          "base_uri": "https://localhost:8080/"
        },
        "id": "xsBAJIX_UnLr",
        "outputId": "0cea6a8d-bc6d-4f7b-e70d-c4e633a3a278"
      },
      "execution_count": 7,
      "outputs": [
        {
          "output_type": "stream",
          "name": "stdout",
          "text": [
            "2\n",
            "4\n",
            "6\n",
            "8\n",
            "10\n"
          ]
        }
      ]
    },
    {
      "cell_type": "code",
      "source": [
        "intentos = 0\n",
        "clave = input(\"Ingrese clave: \")\n",
        "while clave != 1234:\n",
        "  intentos = intentos + 1\n",
        "  print(\"Cuenta de intentos fallidos: \",intentos)\n",
        "\n"
      ],
      "metadata": {
        "colab": {
          "base_uri": "https://localhost:8080/",
          "height": 356
        },
        "id": "Y_-cVWdJWT4t",
        "outputId": "77027da9-c08b-4a79-c5c9-03e0d911d87b"
      },
      "execution_count": 27,
      "outputs": [
        {
          "output_type": "error",
          "ename": "KeyboardInterrupt",
          "evalue": "Interrupted by user",
          "traceback": [
            "\u001b[0;31m---------------------------------------------------------------------------\u001b[0m",
            "\u001b[0;31mKeyboardInterrupt\u001b[0m                         Traceback (most recent call last)",
            "\u001b[0;32m/tmp/ipython-input-2986070616.py\u001b[0m in \u001b[0;36m<cell line: 0>\u001b[0;34m()\u001b[0m\n\u001b[1;32m      1\u001b[0m \u001b[0mintentos\u001b[0m \u001b[0;34m=\u001b[0m \u001b[0;36m1\u001b[0m\u001b[0;34m\u001b[0m\u001b[0;34m\u001b[0m\u001b[0m\n\u001b[0;32m----> 2\u001b[0;31m \u001b[0mclave\u001b[0m \u001b[0;34m=\u001b[0m \u001b[0minput\u001b[0m\u001b[0;34m(\u001b[0m\u001b[0;34m\"Ingrese clave: \"\u001b[0m\u001b[0;34m)\u001b[0m\u001b[0;34m\u001b[0m\u001b[0;34m\u001b[0m\u001b[0m\n\u001b[0m\u001b[1;32m      3\u001b[0m \u001b[0;32mwhile\u001b[0m \u001b[0mclave\u001b[0m \u001b[0;34m!=\u001b[0m \u001b[0;36m1234\u001b[0m\u001b[0;34m:\u001b[0m\u001b[0;34m\u001b[0m\u001b[0;34m\u001b[0m\u001b[0m\n\u001b[1;32m      4\u001b[0m   \u001b[0mintentos\u001b[0m \u001b[0;34m=\u001b[0m \u001b[0mintentos\u001b[0m \u001b[0;34m+\u001b[0m \u001b[0;36m1\u001b[0m\u001b[0;34m\u001b[0m\u001b[0;34m\u001b[0m\u001b[0m\n\u001b[1;32m      5\u001b[0m   \u001b[0mprint\u001b[0m\u001b[0;34m(\u001b[0m\u001b[0;34m\"Cuenta de intentos fallidos: \"\u001b[0m\u001b[0;34m,\u001b[0m\u001b[0mintentos\u001b[0m\u001b[0;34m)\u001b[0m\u001b[0;34m\u001b[0m\u001b[0;34m\u001b[0m\u001b[0m\n",
            "\u001b[0;32m/usr/local/lib/python3.12/dist-packages/ipykernel/kernelbase.py\u001b[0m in \u001b[0;36mraw_input\u001b[0;34m(self, prompt)\u001b[0m\n\u001b[1;32m   1175\u001b[0m                 \u001b[0;34m\"raw_input was called, but this frontend does not support input requests.\"\u001b[0m\u001b[0;34m\u001b[0m\u001b[0;34m\u001b[0m\u001b[0m\n\u001b[1;32m   1176\u001b[0m             )\n\u001b[0;32m-> 1177\u001b[0;31m         return self._input_request(\n\u001b[0m\u001b[1;32m   1178\u001b[0m             \u001b[0mstr\u001b[0m\u001b[0;34m(\u001b[0m\u001b[0mprompt\u001b[0m\u001b[0;34m)\u001b[0m\u001b[0;34m,\u001b[0m\u001b[0;34m\u001b[0m\u001b[0;34m\u001b[0m\u001b[0m\n\u001b[1;32m   1179\u001b[0m             \u001b[0mself\u001b[0m\u001b[0;34m.\u001b[0m\u001b[0m_parent_ident\u001b[0m\u001b[0;34m[\u001b[0m\u001b[0;34m\"shell\"\u001b[0m\u001b[0;34m]\u001b[0m\u001b[0;34m,\u001b[0m\u001b[0;34m\u001b[0m\u001b[0;34m\u001b[0m\u001b[0m\n",
            "\u001b[0;32m/usr/local/lib/python3.12/dist-packages/ipykernel/kernelbase.py\u001b[0m in \u001b[0;36m_input_request\u001b[0;34m(self, prompt, ident, parent, password)\u001b[0m\n\u001b[1;32m   1217\u001b[0m             \u001b[0;32mexcept\u001b[0m \u001b[0mKeyboardInterrupt\u001b[0m\u001b[0;34m:\u001b[0m\u001b[0;34m\u001b[0m\u001b[0;34m\u001b[0m\u001b[0m\n\u001b[1;32m   1218\u001b[0m                 \u001b[0;31m# re-raise KeyboardInterrupt, to truncate traceback\u001b[0m\u001b[0;34m\u001b[0m\u001b[0;34m\u001b[0m\u001b[0m\n\u001b[0;32m-> 1219\u001b[0;31m                 \u001b[0;32mraise\u001b[0m \u001b[0mKeyboardInterrupt\u001b[0m\u001b[0;34m(\u001b[0m\u001b[0;34m\"Interrupted by user\"\u001b[0m\u001b[0;34m)\u001b[0m \u001b[0;32mfrom\u001b[0m \u001b[0;32mNone\u001b[0m\u001b[0;34m\u001b[0m\u001b[0;34m\u001b[0m\u001b[0m\n\u001b[0m\u001b[1;32m   1220\u001b[0m             \u001b[0;32mexcept\u001b[0m \u001b[0mException\u001b[0m\u001b[0;34m:\u001b[0m\u001b[0;34m\u001b[0m\u001b[0;34m\u001b[0m\u001b[0m\n\u001b[1;32m   1221\u001b[0m                 \u001b[0mself\u001b[0m\u001b[0;34m.\u001b[0m\u001b[0mlog\u001b[0m\u001b[0;34m.\u001b[0m\u001b[0mwarning\u001b[0m\u001b[0;34m(\u001b[0m\u001b[0;34m\"Invalid Message:\"\u001b[0m\u001b[0;34m,\u001b[0m \u001b[0mexc_info\u001b[0m\u001b[0;34m=\u001b[0m\u001b[0;32mTrue\u001b[0m\u001b[0;34m)\u001b[0m\u001b[0;34m\u001b[0m\u001b[0;34m\u001b[0m\u001b[0m\n",
            "\u001b[0;31mKeyboardInterrupt\u001b[0m: Interrupted by user"
          ]
        }
      ]
    },
    {
      "cell_type": "code",
      "source": [
        "clave_correcta = \"1234\"\n",
        "intentos = 0\n",
        "clave = input(\"Ingrese la clave: \")\n",
        "\n",
        "while clave != clave_correcta:\n",
        "    intentos += 1\n",
        "    print(\"Clave incorrecta, intente de nuevo. Contador de intentos: \",intentos)\n",
        "    clave = input(\"Ingrese la clave: \")\n",
        "print(\"Clave correcta. Contador de intentos: \",intentos)"
      ],
      "metadata": {
        "colab": {
          "base_uri": "https://localhost:8080/"
        },
        "id": "D8miiWiSWqbu",
        "outputId": "e9e3db39-c1fe-467a-90af-c7e91e2070f5"
      },
      "execution_count": 33,
      "outputs": [
        {
          "output_type": "stream",
          "name": "stdout",
          "text": [
            "Ingrese la clave: 6657\n",
            "Clave incorrecta, intente de nuevo. Contador de intentos:  1\n",
            "Ingrese la clave: 455532\n",
            "Clave incorrecta, intente de nuevo. Contador de intentos:  2\n",
            "Ingrese la clave: 1234\n",
            "Clave correcta. Contador de intentos:  2\n"
          ]
        }
      ]
    },
    {
      "cell_type": "code",
      "source": [
        "stock = 1000\n",
        "print(\"Stock inicial: \", stock)\n",
        "extraccion = int(input(\"Ingrese extraccion: \"))\n",
        "\n",
        "while stock > 0:\n",
        "  stock = stock - extraccion\n",
        "  print(\"Stock restante: \",stock)\n",
        "  if stock > 0:\n",
        "    extraccion = int(input(\"Ingrese extraccion: \"))\n",
        "if stock <=0:\n",
        "  print (\"Fuera de stock\")"
      ],
      "metadata": {
        "colab": {
          "base_uri": "https://localhost:8080/"
        },
        "id": "4lCIQXV7cp41",
        "outputId": "8801d4bb-f495-437b-dd33-911057dd5d82"
      },
      "execution_count": 50,
      "outputs": [
        {
          "output_type": "stream",
          "name": "stdout",
          "text": [
            "Stock inicial:  1000\n",
            "Ingrese extraccion: 400\n",
            "Stock restante:  600\n",
            "Ingrese extraccion: 700\n",
            "Stock restante:  -100\n",
            "Fuera de stock\n"
          ]
        }
      ]
    },
    {
      "cell_type": "code",
      "source": [
        "right_pw = \"python123\"\n",
        "pw = input(\"Ingrese contraseña: \")\n",
        "while pw != right_pw:\n",
        "  pw = input(\"Contraseña incorrecta. Ingrese contraseña: \")\n",
        "\n",
        "if pw == right_pw:\n",
        "  print(\"acceso concedido\")"
      ],
      "metadata": {
        "colab": {
          "base_uri": "https://localhost:8080/"
        },
        "id": "pLOFg7PxlgIN",
        "outputId": "2bf23ae6-d942-489e-88a1-6a2b37f006a8"
      },
      "execution_count": 51,
      "outputs": [
        {
          "output_type": "stream",
          "name": "stdout",
          "text": [
            "Ingrese contraseña: 11\n",
            "Contraseña incorrecta. Ingrese contraseña: 1233\n",
            "Contraseña incorrecta. Ingrese contraseña: 5544\n",
            "Contraseña incorrecta. Ingrese contraseña: sssqweqwe78\n",
            "Contraseña incorrecta. Ingrese contraseña: pythom¿n123\n",
            "Contraseña incorrecta. Ingrese contraseña: python123\n",
            "acceso concedido\n"
          ]
        }
      ]
    },
    {
      "cell_type": "code",
      "source": [
        "number = \"\"\n",
        "while number != 0:\n",
        "  number = int(input(\"Ingrese numero: \"))\n",
        "  number = number\n",
        "  print(number)"
      ],
      "metadata": {
        "colab": {
          "base_uri": "https://localhost:8080/"
        },
        "id": "3XNx0Dn7o0v9",
        "outputId": "faf2d28e-d078-4bd9-c494-4d5c35c7b2e9"
      },
      "execution_count": 6,
      "outputs": [
        {
          "output_type": "stream",
          "name": "stdout",
          "text": [
            "Ingrese numero: 56\n",
            "56\n",
            "Ingrese numero: 1\n",
            "1\n",
            "Ingrese numero: 23\n",
            "23\n",
            "Ingrese numero: 4545\n",
            "4545\n",
            "Ingrese numero: 0\n",
            "0\n"
          ]
        }
      ]
    },
    {
      "cell_type": "code",
      "source": [
        "i = 0\n",
        "while i < 5:\n",
        "    i += 1\n",
        "    if i == 3:\n",
        "        continue\n",
        "    print(i)"
      ],
      "metadata": {
        "colab": {
          "base_uri": "https://localhost:8080/"
        },
        "id": "ONfoDgPotZgc",
        "outputId": "8a894cbc-726e-49fb-fcfd-6b84027a30bf"
      },
      "execution_count": 16,
      "outputs": [
        {
          "output_type": "stream",
          "name": "stdout",
          "text": [
            "1\n",
            "2\n",
            "4\n",
            "5\n"
          ]
        }
      ]
    },
    {
      "cell_type": "code",
      "source": [
        "secret_nmbr = 7\n",
        "nmbr = None\n",
        "while nmbr != secret_nmbr:\n",
        "  nmbr = int(input(\"Ingrese numero: \"))\n",
        "\n",
        "print(\"Has encontrado el numero secreto\")"
      ],
      "metadata": {
        "colab": {
          "base_uri": "https://localhost:8080/"
        },
        "id": "l_XgOojlyhCE",
        "outputId": "4f5da737-e0c5-4a45-b6c1-2fb38c9af239"
      },
      "execution_count": 32,
      "outputs": [
        {
          "output_type": "stream",
          "name": "stdout",
          "text": [
            "Ingrese numero: 66\n",
            "Ingrese numero: 8\n",
            "Ingrese numero: 778\n",
            "Ingrese numero: 7\n",
            "Has encontrado el numero secreto\n"
          ]
        }
      ]
    },
    {
      "cell_type": "code",
      "source": [
        "nota = int(input(\"Ingrese nota (0 - 20): \"))\n",
        "\n",
        "while nota >=20 or nota <= 0:\n",
        "  nota = int(input(\"Ingrese nota (0 - 20): \"))\n",
        "print(\"Nota: \", nota)"
      ],
      "metadata": {
        "colab": {
          "base_uri": "https://localhost:8080/"
        },
        "id": "XoFGT4Gbzdjt",
        "outputId": "1eed828f-55a6-4bfb-a0f2-b8181fb41973"
      },
      "execution_count": 34,
      "outputs": [
        {
          "output_type": "stream",
          "name": "stdout",
          "text": [
            "Ingrese nota (0 - 20): 32\n",
            "Ingrese nota (0 - 20): 40\n",
            "Ingrese nota (0 - 20): -5\n",
            "Ingrese nota (0 - 20): -20\n",
            "Ingrese nota (0 - 20): 15\n",
            "Nota:  15\n"
          ]
        }
      ]
    }
  ]
}