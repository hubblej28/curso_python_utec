{
  "nbformat": 4,
  "nbformat_minor": 0,
  "metadata": {
    "colab": {
      "provenance": [],
      "include_colab_link": true
    },
    "kernelspec": {
      "name": "python3",
      "display_name": "Python 3"
    },
    "language_info": {
      "name": "python"
    }
  },
  "cells": [
    {
      "cell_type": "markdown",
      "metadata": {
        "id": "view-in-github",
        "colab_type": "text"
      },
      "source": [
        "<a href=\"https://colab.research.google.com/github/hubblej28/curso_python_utec/blob/main/Laboratorios/Clase_7_Estructuras_Repetitivas_II.ipynb\" target=\"_parent\"><img src=\"https://colab.research.google.com/assets/colab-badge.svg\" alt=\"Open In Colab\"/></a>"
      ]
    },
    {
      "cell_type": "markdown",
      "source": [
        "**Calentamiento**"
      ],
      "metadata": {
        "id": "lz-tj29Txbh-"
      }
    },
    {
      "cell_type": "markdown",
      "source": [
        "1. Dada la lista [1000, 2500, 4000, 7000], imprime si cada ingreso es \"Bajo\" (<2000), \"Medio\" (2000-5000) o \"Alto\" (>5000)."
      ],
      "metadata": {
        "id": "uTVR3S8Bxert"
      }
    },
    {
      "cell_type": "markdown",
      "source": [
        "2. Dada la lista [\"pan\", \"leche\", \"café\", \"azúcar\"], imprime si \"café\" está en la lista."
      ],
      "metadata": {
        "id": "Qvv_2KFNxkQe"
      }
    },
    {
      "cell_type": "markdown",
      "source": [
        "3. De la lista [2500, 4000, 1500, 5000, 3200], cuenta cuántos superan los 3000."
      ],
      "metadata": {
        "id": "5-PEDwklxvmc"
      }
    },
    {
      "cell_type": "markdown",
      "source": [
        "4. Crea una lista que guarde los cuadrados de los números del 1 al 10."
      ],
      "metadata": {
        "id": "0j4JwEwYx1LL"
      }
    },
    {
      "cell_type": "markdown",
      "source": [
        "5. Dada una lista de clientes con ingresos, imprime solo los que tienen ingreso > 5000. (Ana: 4500, Sofia: 6000, Marcos: 7800, Adela: 2600, Isra: 8900)"
      ],
      "metadata": {
        "id": "AgGIsTuaydd_"
      }
    },
    {
      "cell_type": "markdown",
      "source": [
        "6. Usando for y range, genera un diccionario donde las llaves sean los números del 1 al 5 y los valores sean sus cubos."
      ],
      "metadata": {
        "id": "duJqL1C_yxWm"
      }
    },
    {
      "cell_type": "markdown",
      "source": [
        "7. Dada una lista de ingresos [1200, 2500, 3000, 4500, 5000], calcula el promedio."
      ],
      "metadata": {
        "id": "7sjawnWhy2Ju"
      }
    },
    {
      "cell_type": "markdown",
      "source": [
        "8. Un cliente tiene un préstamo de 100,000 a una tasa mensual fija de 1%. Se compromete a pagar 1,200 cada mes.\n",
        "Usando un for con range, simula los primeros 12 meses y guarda en un diccionario por cada mes:\n",
        "\n",
        "* Saldo inicial\n",
        "* Interés del mes\n",
        "* Pago realizado\n",
        "* Saldo final\n",
        "\n",
        "Finalmente, imprime el reporte mes a mes."
      ],
      "metadata": {
        "id": "_iOz0uxKy7sV"
      }
    },
    {
      "cell_type": "markdown",
      "source": [
        "interes = saldo * tasa\n",
        "saldo final = saldo + interes - pago"
      ],
      "metadata": {
        "id": "w7qSQQMpJNRv"
      }
    },
    {
      "cell_type": "code",
      "source": [
        "saldo = 100000\n",
        "tasa = 0.01\n",
        "pago = 1200\n",
        "reporte = {}\n",
        "\n",
        "for mes in range(1, 13):\n",
        "    interes = saldo * tasa\n",
        "    saldo_f = saldo + interes - pago\n",
        "    reporte[mes] = { \"Saldo inicial\" : round(saldo, 2), \"Interés\": round(interes, 2), \"Pago\": pago, \"Saldo final\": round(saldo_f, 2)}\n",
        "    saldo = saldo_f\n",
        "\n",
        "print(reporte)"
      ],
      "metadata": {
        "colab": {
          "base_uri": "https://localhost:8080/"
        },
        "id": "xsBcxMRxJ5H4",
        "outputId": "672dac99-825a-40a6-8ea5-e7b103a2f6cb"
      },
      "execution_count": null,
      "outputs": [
        {
          "output_type": "stream",
          "name": "stdout",
          "text": [
            "{1: {'Saldo inicial': 100000, 'Interés': 1000.0, 'Pago': 1200, 'Saldo final': 99800.0}, 2: {'Saldo inicial': 99800.0, 'Interés': 998.0, 'Pago': 1200, 'Saldo final': 99598.0}, 3: {'Saldo inicial': 99598.0, 'Interés': 995.98, 'Pago': 1200, 'Saldo final': 99393.98}, 4: {'Saldo inicial': 99393.98, 'Interés': 993.94, 'Pago': 1200, 'Saldo final': 99187.92}, 5: {'Saldo inicial': 99187.92, 'Interés': 991.88, 'Pago': 1200, 'Saldo final': 98979.8}, 6: {'Saldo inicial': 98979.8, 'Interés': 989.8, 'Pago': 1200, 'Saldo final': 98769.6}, 7: {'Saldo inicial': 98769.6, 'Interés': 987.7, 'Pago': 1200, 'Saldo final': 98557.29}, 8: {'Saldo inicial': 98557.29, 'Interés': 985.57, 'Pago': 1200, 'Saldo final': 98342.87}, 9: {'Saldo inicial': 98342.87, 'Interés': 983.43, 'Pago': 1200, 'Saldo final': 98126.29}, 10: {'Saldo inicial': 98126.29, 'Interés': 981.26, 'Pago': 1200, 'Saldo final': 97907.56}, 11: {'Saldo inicial': 97907.56, 'Interés': 979.08, 'Pago': 1200, 'Saldo final': 97686.63}, 12: {'Saldo inicial': 97686.63, 'Interés': 976.87, 'Pago': 1200, 'Saldo final': 97463.5}}\n"
          ]
        }
      ]
    },
    {
      "cell_type": "code",
      "source": [
        "for mes, datos in reporte.items():\n",
        "    print(f\"Mes {mes}: {datos}\")"
      ],
      "metadata": {
        "colab": {
          "base_uri": "https://localhost:8080/"
        },
        "id": "q4oDquohMIeq",
        "outputId": "99883bcf-57c9-47f7-ccf0-fe2a06f17f29"
      },
      "execution_count": null,
      "outputs": [
        {
          "output_type": "stream",
          "name": "stdout",
          "text": [
            "Mes 1: {'Saldo inicial': 100000, 'Interés': 1000.0, 'Pago': 1200, 'Saldo final': 99800.0}\n",
            "Mes 2: {'Saldo inicial': 99800.0, 'Interés': 998.0, 'Pago': 1200, 'Saldo final': 99598.0}\n",
            "Mes 3: {'Saldo inicial': 99598.0, 'Interés': 995.98, 'Pago': 1200, 'Saldo final': 99393.98}\n",
            "Mes 4: {'Saldo inicial': 99393.98, 'Interés': 993.94, 'Pago': 1200, 'Saldo final': 99187.92}\n",
            "Mes 5: {'Saldo inicial': 99187.92, 'Interés': 991.88, 'Pago': 1200, 'Saldo final': 98979.8}\n",
            "Mes 6: {'Saldo inicial': 98979.8, 'Interés': 989.8, 'Pago': 1200, 'Saldo final': 98769.6}\n",
            "Mes 7: {'Saldo inicial': 98769.6, 'Interés': 987.7, 'Pago': 1200, 'Saldo final': 98557.29}\n",
            "Mes 8: {'Saldo inicial': 98557.29, 'Interés': 985.57, 'Pago': 1200, 'Saldo final': 98342.87}\n",
            "Mes 9: {'Saldo inicial': 98342.87, 'Interés': 983.43, 'Pago': 1200, 'Saldo final': 98126.29}\n",
            "Mes 10: {'Saldo inicial': 98126.29, 'Interés': 981.26, 'Pago': 1200, 'Saldo final': 97907.56}\n",
            "Mes 11: {'Saldo inicial': 97907.56, 'Interés': 979.08, 'Pago': 1200, 'Saldo final': 97686.63}\n",
            "Mes 12: {'Saldo inicial': 97686.63, 'Interés': 976.87, 'Pago': 1200, 'Saldo final': 97463.5}\n"
          ]
        }
      ]
    },
    {
      "cell_type": "code",
      "source": [
        "saldo = 100000\n",
        "tasa = 0.01\n",
        "pago = 1200\n",
        "reporte = {}\n",
        "\n",
        "for mes in range(1, 13):\n",
        "    interes = saldo * tasa\n",
        "    saldo_f = saldo + interes - pago\n",
        "    reporte[mes] = { \"Saldo inicial\" : round(saldo, 2), \"Interés\": round(interes, 2), \"Pago\": pago, \"Saldo final\": round(saldo_f, 2)}\n",
        "    saldo = saldo_f\n",
        "    print(f\"Mes\",mes, reporte[mes])"
      ],
      "metadata": {
        "colab": {
          "base_uri": "https://localhost:8080/"
        },
        "id": "o5C8N7jTPfr3",
        "outputId": "67651fe3-bb6a-4133-cb28-e2704da0793a"
      },
      "execution_count": null,
      "outputs": [
        {
          "output_type": "stream",
          "name": "stdout",
          "text": [
            "Mes 1 {'Saldo inicial': 100000, 'Interés': 1000.0, 'Pago': 1200, 'Saldo final': 99800.0}\n",
            "Mes 2 {'Saldo inicial': 99800.0, 'Interés': 998.0, 'Pago': 1200, 'Saldo final': 99598.0}\n",
            "Mes 3 {'Saldo inicial': 99598.0, 'Interés': 995.98, 'Pago': 1200, 'Saldo final': 99393.98}\n",
            "Mes 4 {'Saldo inicial': 99393.98, 'Interés': 993.94, 'Pago': 1200, 'Saldo final': 99187.92}\n",
            "Mes 5 {'Saldo inicial': 99187.92, 'Interés': 991.88, 'Pago': 1200, 'Saldo final': 98979.8}\n",
            "Mes 6 {'Saldo inicial': 98979.8, 'Interés': 989.8, 'Pago': 1200, 'Saldo final': 98769.6}\n",
            "Mes 7 {'Saldo inicial': 98769.6, 'Interés': 987.7, 'Pago': 1200, 'Saldo final': 98557.29}\n",
            "Mes 8 {'Saldo inicial': 98557.29, 'Interés': 985.57, 'Pago': 1200, 'Saldo final': 98342.87}\n",
            "Mes 9 {'Saldo inicial': 98342.87, 'Interés': 983.43, 'Pago': 1200, 'Saldo final': 98126.29}\n",
            "Mes 10 {'Saldo inicial': 98126.29, 'Interés': 981.26, 'Pago': 1200, 'Saldo final': 97907.56}\n",
            "Mes 11 {'Saldo inicial': 97907.56, 'Interés': 979.08, 'Pago': 1200, 'Saldo final': 97686.63}\n",
            "Mes 12 {'Saldo inicial': 97686.63, 'Interés': 976.87, 'Pago': 1200, 'Saldo final': 97463.5}\n"
          ]
        }
      ]
    },
    {
      "cell_type": "code",
      "source": [
        "data = [(1, \"Luisa\", 5000),(2, \"Piero\", 7000), (3, \"Ale\", 1000)]"
      ],
      "metadata": {
        "id": "clq15xFkNvqF"
      },
      "execution_count": null,
      "outputs": []
    },
    {
      "cell_type": "code",
      "source": [
        "for x,y,z in data:\n",
        "    print(x,y)"
      ],
      "metadata": {
        "colab": {
          "base_uri": "https://localhost:8080/"
        },
        "id": "8JY36zyxOEj2",
        "outputId": "b8a4f78d-f742-4f61-be30-5675a5ce0235"
      },
      "execution_count": null,
      "outputs": [
        {
          "output_type": "stream",
          "name": "stdout",
          "text": [
            "1 Luisa\n",
            "2 Piero\n",
            "3 Ale\n"
          ]
        }
      ]
    },
    {
      "cell_type": "code",
      "source": [
        "for x,y in data:\n",
        "    print(x,y)"
      ],
      "metadata": {
        "id": "qUbEHzFCOmuA"
      },
      "execution_count": null,
      "outputs": []
    },
    {
      "cell_type": "code",
      "source": [
        "for x,y,z,w in data:\n",
        "    print(x,y,z)"
      ],
      "metadata": {
        "id": "4VVk4Oj_OpWh"
      },
      "execution_count": null,
      "outputs": []
    },
    {
      "cell_type": "code",
      "source": [
        "tasas = [0.05, 0.07, 0.08]\n",
        "tasas_ajustadas = []\n",
        "for y in tasas:\n",
        "    tasas_ajustadas.append(round(y + 0.01, 2))\n",
        "\n",
        "print(tasas_ajustadas)"
      ],
      "metadata": {
        "colab": {
          "base_uri": "https://localhost:8080/"
        },
        "id": "Aol9MXLS3hbH",
        "outputId": "abc141a5-07df-4cfd-c2e1-be231311b9c5"
      },
      "execution_count": null,
      "outputs": [
        {
          "output_type": "stream",
          "name": "stdout",
          "text": [
            "[0.06, 0.08, 0.09]\n"
          ]
        }
      ]
    },
    {
      "cell_type": "code",
      "source": [
        "tasas = [0.05, 0.07, 0.08]\n",
        "tasas_ajustadas = []\n",
        "for y in tasas:\n",
        "    tasas_ajustadas.append(round(y, 2)+ 0.01)\n",
        "\n",
        "print(tasas_ajustadas)"
      ],
      "metadata": {
        "colab": {
          "base_uri": "https://localhost:8080/"
        },
        "id": "jasdhi-25Szo",
        "outputId": "4e1b44ca-040b-4512-93a0-47045e0f7163"
      },
      "execution_count": null,
      "outputs": [
        {
          "output_type": "stream",
          "name": "stdout",
          "text": [
            "[0.060000000000000005, 0.08, 0.09]\n"
          ]
        }
      ]
    },
    {
      "cell_type": "markdown",
      "source": [
        "**Desafío por puntos**"
      ],
      "metadata": {
        "id": "YyA3_8Hf6DrE"
      }
    },
    {
      "cell_type": "markdown",
      "source": [
        "**Proyecto 1:**\n",
        "Evaluador de Créditos en Lote\n",
        "* Descripción: Un banco quiere procesar varias solicitudes de crédito.\n",
        "* Entrada: Lista de diccionarios con nombre, ingreso, score, deudas.\n",
        "* Proceso:\n",
        "    * Aprobar si ingreso ≥ 5000, score ≥ 700, deuda ≤ 40% ingreso.\n",
        "    * Asignar tasa 8% si premium y >5000, caso contrario 12%.\n",
        "    \n",
        "*Salida: Imprimir resultado de aprobación + tasa de cada cliente."
      ],
      "metadata": {
        "id": "O80QeGCd6GgN"
      }
    },
    {
      "cell_type": "markdown",
      "source": [
        "**Proyecto 2:** Simulador de Marketing Digital\n",
        "* Descripción: Evaluar el rendimiento de campañas de anuncios.\n",
        "* Entrada: Diccionario con clics, impresiones, conversiones, presupuesto.\n",
        "* Proceso:\n",
        "     *  Calcular CTR (clics/impresiones) y tasa de conversión.\n",
        "     *  Si CTR < 1% → campaña \"mala\", 1%-3% \"regular\", >3% \"buena\".\n",
        "     *  Usar un for para recorrer campañas y clasificar.\n",
        "     \n",
        "* Salida: Reporte con clasificación de cada campaña."
      ],
      "metadata": {
        "id": "Wv6tR_iv6qFw"
      }
    },
    {
      "cell_type": "markdown",
      "source": [],
      "metadata": {
        "id": "5d0YiYMD6hXs"
      }
    },
    {
      "cell_type": "markdown",
      "source": [],
      "metadata": {
        "id": "3gT7yIk769S2"
      }
    }
  ]
}