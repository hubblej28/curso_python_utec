{
  "nbformat": 4,
  "nbformat_minor": 0,
  "metadata": {
    "colab": {
      "provenance": [],
      "toc_visible": true,
      "authorship_tag": "ABX9TyMSg8pgKI1n3Jnc/bB8fZ1I",
      "include_colab_link": true
    },
    "kernelspec": {
      "name": "python3",
      "display_name": "Python 3"
    },
    "language_info": {
      "name": "python"
    }
  },
  "cells": [
    {
      "cell_type": "markdown",
      "metadata": {
        "id": "view-in-github",
        "colab_type": "text"
      },
      "source": [
        "<a href=\"https://colab.research.google.com/github/hubblej28/curso_python_utec/blob/main/Laboratorios/Mod2_Clase1_Listas.ipynb\" target=\"_parent\"><img src=\"https://colab.research.google.com/assets/colab-badge.svg\" alt=\"Open In Colab\"/></a>"
      ]
    },
    {
      "cell_type": "markdown",
      "source": [
        "[1] Ejemplos de resultados en Python (listas)"
      ],
      "metadata": {
        "id": "PzHNOJnL8ZBm"
      }
    },
    {
      "cell_type": "code",
      "source": [
        "[1.1]"
      ],
      "metadata": {
        "id": "m4xY-4FT8gkl"
      },
      "execution_count": null,
      "outputs": []
    },
    {
      "cell_type": "markdown",
      "source": [
        "import libreria ##Despues de la palabra import viene una libreria\n",
        "libreria.funcion ##Despues de una libreria viene una funcion"
      ],
      "metadata": {
        "id": "QoB2c2HH9CEs"
      }
    },
    {
      "cell_type": "code",
      "execution_count": null,
      "metadata": {
        "id": "fq-GYU5A6re9"
      },
      "outputs": [],
      "source": [
        "import re"
      ]
    },
    {
      "cell_type": "code",
      "source": [
        "texto = \"Mi correo personal es juan.diazv2810@gmail.com y mi correo corporativo es jdv@bilingualglobal.com\"\n",
        "print(texto)"
      ],
      "metadata": {
        "colab": {
          "base_uri": "https://localhost:8080/"
        },
        "id": "67Ofvjwi9RfF",
        "outputId": "534f5ff5-468f-43dd-ead8-34348acac0d6"
      },
      "execution_count": null,
      "outputs": [
        {
          "output_type": "stream",
          "name": "stdout",
          "text": [
            "Mi correo personal es juan.diazv2810@gmail.com y mi correo corporativo es jdv@bilingualglobal.com\n"
          ]
        }
      ]
    },
    {
      "cell_type": "code",
      "source": [
        "correos = re.findall(r'\\S+@\\S+',texto)\n",
        "print(correos)\n",
        "type(correos)"
      ],
      "metadata": {
        "colab": {
          "base_uri": "https://localhost:8080/"
        },
        "id": "J9993HMk9z_d",
        "outputId": "c93fbb7c-1157-4775-c5bd-fc89abb692dc"
      },
      "execution_count": null,
      "outputs": [
        {
          "output_type": "stream",
          "name": "stdout",
          "text": [
            "['juan.diazv2810@gmail.com', 'jdv@bilingualglobal.com']\n"
          ]
        },
        {
          "output_type": "execute_result",
          "data": {
            "text/plain": [
              "list"
            ]
          },
          "metadata": {},
          "execution_count": 4
        }
      ]
    },
    {
      "cell_type": "markdown",
      "source": [
        "[1.2] Usos de listas"
      ],
      "metadata": {
        "id": "NjvoL4RUA0PF"
      }
    },
    {
      "cell_type": "code",
      "source": [
        "import sys\n",
        "sys.path"
      ],
      "metadata": {
        "colab": {
          "base_uri": "https://localhost:8080/"
        },
        "id": "fM1XXYmpAzAN",
        "outputId": "785e72de-c145-4b49-a75e-b76397d52aa8"
      },
      "execution_count": null,
      "outputs": [
        {
          "output_type": "execute_result",
          "data": {
            "text/plain": [
              "['/content',\n",
              " '/env/python',\n",
              " '/usr/lib/python312.zip',\n",
              " '/usr/lib/python3.12',\n",
              " '/usr/lib/python3.12/lib-dynload',\n",
              " '',\n",
              " '/usr/local/lib/python3.12/dist-packages',\n",
              " '/usr/lib/python3/dist-packages',\n",
              " '/usr/local/lib/python3.12/dist-packages/IPython/extensions',\n",
              " '/root/.ipython']"
            ]
          },
          "metadata": {},
          "execution_count": 5
        }
      ]
    },
    {
      "cell_type": "markdown",
      "source": [
        "[1.3] Dataframes"
      ],
      "metadata": {
        "id": "tV0gBhguA6Ft"
      }
    },
    {
      "cell_type": "code",
      "source": [
        "import pandas as pd\n",
        "df = pd.read_csv(\"/content/clientes.csv\", sep = \";\")\n",
        "print(df)"
      ],
      "metadata": {
        "colab": {
          "base_uri": "https://localhost:8080/"
        },
        "id": "WEr07D7-A9Iw",
        "outputId": "de0ae336-0d32-455f-d750-8757d06c6017"
      },
      "execution_count": null,
      "outputs": [
        {
          "output_type": "stream",
          "name": "stdout",
          "text": [
            "    ID  EDAD  INGRESOS RIESGO  LINEA_TC\n",
            "0  123    36      1348      A     49924\n",
            "1  234    52      9479      A     28454\n",
            "2  345    60      7511      B     14250\n",
            "3  456    40      7992      C     32064\n",
            "4  567    58      2675      C      1485\n",
            "5  678    47      7086      D     29157\n",
            "6  789    31      4704      E     14945\n",
            "7  999    42      6245      E      8798\n"
          ]
        }
      ]
    },
    {
      "cell_type": "code",
      "source": [
        "variables = df.columns.to_list()\n",
        "variables"
      ],
      "metadata": {
        "colab": {
          "base_uri": "https://localhost:8080/"
        },
        "id": "1kChUWPPDIK1",
        "outputId": "fd96cac2-8eee-41ee-892b-4601b5a8ba41"
      },
      "execution_count": null,
      "outputs": [
        {
          "output_type": "execute_result",
          "data": {
            "text/plain": [
              "['ID', 'EDAD', 'INGRESOS', 'RIESGO', 'LINEA_TC']"
            ]
          },
          "metadata": {},
          "execution_count": 7
        }
      ]
    },
    {
      "cell_type": "markdown",
      "source": [
        "Actividad N001"
      ],
      "metadata": {
        "id": "oqqW8PwrEmh1"
      }
    },
    {
      "cell_type": "code",
      "source": [
        "lugares = ['Florencia', 'Roma', 'Huaraz', 'Cusco', 'Buenos Aires']\n",
        "print(f\"Mis lugares favoritos para vacacionar son \\n{lugares}\")"
      ],
      "metadata": {
        "colab": {
          "base_uri": "https://localhost:8080/"
        },
        "id": "YliKB19iDjpm",
        "outputId": "2e4a88dc-a02a-44a1-fcb4-13166add2718"
      },
      "execution_count": 10,
      "outputs": [
        {
          "output_type": "stream",
          "name": "stdout",
          "text": [
            "Mis lugares favoritos para vacacionar son \n",
            "['Florencia', 'Roma', 'Huaraz', 'Cusco', 'Buenos Aires']\n"
          ]
        }
      ]
    },
    {
      "cell_type": "code",
      "source": [
        "## Una lista homogenea es la que tiene todos sus elementos con el mismo tipo."
      ],
      "metadata": {
        "id": "pf4RFsNmFd9W"
      },
      "execution_count": null,
      "outputs": []
    },
    {
      "cell_type": "markdown",
      "source": [
        "Actividad N002"
      ],
      "metadata": {
        "id": "aDGEg9sNF64l"
      }
    },
    {
      "cell_type": "code",
      "source": [
        "nombre = 'Juan'\n",
        "apellido_paterno = 'Díaz'\n",
        "profesion = \"Ingeniero Civil\"\n",
        "edad = 28\n",
        "centro_laboral = \"Bilingual\"\n",
        "años_experiencia = 3\n",
        "\n",
        "info_personal = [nombre, apellido_paterno, profesion, edad, centro_laboral, años_experiencia]\n",
        "print(f\"Mi lista de información personal es: \\n{info_personal}\")\n",
        "type(info_personal)"
      ],
      "metadata": {
        "colab": {
          "base_uri": "https://localhost:8080/"
        },
        "id": "gxf_4r24F8yF",
        "outputId": "5504b5e9-fd77-422c-b081-c378656ff21f"
      },
      "execution_count": null,
      "outputs": [
        {
          "output_type": "stream",
          "name": "stdout",
          "text": [
            "Mi lista de información personal es: \n",
            "['Juan', 'Díaz', 'Ingeniero Civil', 28, 'Bilingual', 3]\n"
          ]
        },
        {
          "output_type": "execute_result",
          "data": {
            "text/plain": [
              "list"
            ]
          },
          "metadata": {},
          "execution_count": 43
        }
      ]
    },
    {
      "cell_type": "code",
      "source": [
        "materias = ['álgebra', 'aritmética', 'razonamiento verbal', 'trigonometría', 'geometría']\n",
        "materias[3]"
      ],
      "metadata": {
        "colab": {
          "base_uri": "https://localhost:8080/",
          "height": 36
        },
        "id": "K15eKoOJHuwN",
        "outputId": "e4432fc1-beef-403d-b8b4-664c3900bf83"
      },
      "execution_count": null,
      "outputs": [
        {
          "output_type": "execute_result",
          "data": {
            "text/plain": [
              "'trigonometría'"
            ],
            "application/vnd.google.colaboratory.intrinsic+json": {
              "type": "string"
            }
          },
          "metadata": {},
          "execution_count": 14
        }
      ]
    },
    {
      "cell_type": "code",
      "source": [
        "lugares[3]"
      ],
      "metadata": {
        "colab": {
          "base_uri": "https://localhost:8080/",
          "height": 36
        },
        "id": "pnQkRyaiIU61",
        "outputId": "befc5883-65f5-41f8-d97c-d6646dc1ccb0"
      },
      "execution_count": null,
      "outputs": [
        {
          "output_type": "execute_result",
          "data": {
            "text/plain": [
              "'Cusco'"
            ],
            "application/vnd.google.colaboratory.intrinsic+json": {
              "type": "string"
            }
          },
          "metadata": {},
          "execution_count": 15
        }
      ]
    },
    {
      "cell_type": "markdown",
      "source": [
        "Actividad N003"
      ],
      "metadata": {
        "id": "AdiiI5j9I4NV"
      }
    },
    {
      "cell_type": "code",
      "source": [
        "print(f\"De mis cinco lugares favoritos el que ocupa el puesto 3 es {lugares[2]}\")"
      ],
      "metadata": {
        "colab": {
          "base_uri": "https://localhost:8080/"
        },
        "id": "g29JK3mdIv_G",
        "outputId": "8f2368c3-0e36-4590-a9db-2699b6de165a"
      },
      "execution_count": null,
      "outputs": [
        {
          "output_type": "stream",
          "name": "stdout",
          "text": [
            "De mis cinco lugares favoritos el que ocupa el puesto 3 es Huaraz\n"
          ]
        }
      ]
    },
    {
      "cell_type": "code",
      "source": [
        "print(f\"De mis cinco lugares favoritos el que ocupa el puesto 5 es {lugares[-1].upper()}\")"
      ],
      "metadata": {
        "colab": {
          "base_uri": "https://localhost:8080/"
        },
        "id": "c7ZKFuutKWOG",
        "outputId": "ab87b5cd-3597-4b10-bf15-e868cc691090"
      },
      "execution_count": null,
      "outputs": [
        {
          "output_type": "stream",
          "name": "stdout",
          "text": [
            "De mis cinco lugares favoritos el que ocupa el puesto 5 es BUENOS AIRES\n"
          ]
        }
      ]
    },
    {
      "cell_type": "code",
      "source": [
        "type(lugares[-1])"
      ],
      "metadata": {
        "colab": {
          "base_uri": "https://localhost:8080/"
        },
        "id": "w1hhlxL_NgxG",
        "outputId": "b84cbf26-6112-400e-857c-204947086d5a"
      },
      "execution_count": null,
      "outputs": [
        {
          "output_type": "execute_result",
          "data": {
            "text/plain": [
              "str"
            ]
          },
          "metadata": {},
          "execution_count": 19
        }
      ]
    },
    {
      "cell_type": "markdown",
      "source": [
        "Actividad N004"
      ],
      "metadata": {
        "id": "YKH01JTDORQG"
      }
    },
    {
      "cell_type": "code",
      "source": [
        "print(f\"Hola, me llamo {info_personal[0]} {info_personal[1]} soy {info_personal[2]}, tengo {info_personal[3]} años, trabajo en la empresa {info_personal[4]} y tengo {info_personal[5]} años de experiencia profesional.\")"
      ],
      "metadata": {
        "colab": {
          "base_uri": "https://localhost:8080/"
        },
        "id": "cA--dUChOQf2",
        "outputId": "9cc70005-d812-40f1-a07d-f420ed7c9ac3"
      },
      "execution_count": null,
      "outputs": [
        {
          "output_type": "stream",
          "name": "stdout",
          "text": [
            "Hola, me llamo Juan Díaz soy Ingeniero Civil, tengo 28 años, trabajo en la empresa Bilingual y tengo 3 años de experiencia profesional.\n"
          ]
        }
      ]
    },
    {
      "cell_type": "markdown",
      "source": [
        "Actividad N005"
      ],
      "metadata": {
        "id": "qn4mx5yQQNI2"
      }
    },
    {
      "cell_type": "code",
      "source": [
        "marcas = ['Yeti','Santa Cruz','Pivot','Commencal','Ibis']\n",
        "print(f\"La lista marcas es: \\n{marcas}\")\n",
        "print(f\"El ultimo elemento de la lista marcas es: \\n{marcas[-1]}\")\n",
        "marcas.append('Devinci')\n",
        "print(f\"La nueva lista marcas es: \\n{marcas}\")"
      ],
      "metadata": {
        "colab": {
          "base_uri": "https://localhost:8080/"
        },
        "id": "aGVtnXrQQPen",
        "outputId": "fcefccc2-3b66-4ce0-fe89-bcd287d89550"
      },
      "execution_count": null,
      "outputs": [
        {
          "output_type": "stream",
          "name": "stdout",
          "text": [
            "La lista marcas es: \n",
            "['Yeti', 'Santa Cruz', 'Pivot', 'Commencal', 'Ibis']\n",
            "El ultimo elemento de la lista marcas es: \n",
            "Ibis\n",
            "La nueva lista marcas es: \n",
            "['Yeti', 'Santa Cruz', 'Pivot', 'Commencal', 'Ibis', 'Devinci']\n"
          ]
        }
      ]
    },
    {
      "cell_type": "code",
      "source": [
        "marcas = []\n",
        "for i in range(5):\n",
        "  ingreso_marcas = str(input(f\"Ingrese la marca # {i+1}: \"))\n",
        "  marcas.append(ingreso_marcas)\n",
        "print(marcas)\n",
        "marcas[-2] = \"\""
      ],
      "metadata": {
        "colab": {
          "base_uri": "https://localhost:8080/"
        },
        "id": "tMniHYf5TitW",
        "outputId": "849edea0-8824-4ca5-9949-25c8f937490e"
      },
      "execution_count": null,
      "outputs": [
        {
          "output_type": "stream",
          "name": "stdout",
          "text": [
            "Ingrese la marca # 1: aaaa\n",
            "Ingrese la marca # 2: bbbb\n",
            "Ingrese la marca # 3: cccc\n",
            "Ingrese la marca # 4: dddd\n",
            "Ingrese la marca # 5: eeee\n",
            "['aaaa', 'bbbb', 'cccc', 'dddd', 'eeee']\n"
          ]
        }
      ]
    },
    {
      "cell_type": "markdown",
      "source": [
        "Actividad N006"
      ],
      "metadata": {
        "id": "FigjiwoZVTcB"
      }
    },
    {
      "cell_type": "code",
      "source": [
        "print(f\"Mi lista de información personal es: \\n{info_personal}\")\n",
        "info_personal[4] = \"Yeti Cycles\"\n",
        "print(f\"Mi lista actualizada de información personal es: \\n{info_personal}\")"
      ],
      "metadata": {
        "colab": {
          "base_uri": "https://localhost:8080/"
        },
        "id": "N2iiu9rXUXse",
        "outputId": "2968d854-47be-48e9-c9c2-343ebd0adb45"
      },
      "execution_count": null,
      "outputs": [
        {
          "output_type": "stream",
          "name": "stdout",
          "text": [
            "Mi lista de información personal es: \n",
            "['Juan', 'Díaz', 'Ingeniero Civil', 28, 'Bilingual', 3]\n",
            "Mi lista actualizada de información personal es: \n",
            "['Juan', 'Díaz', 'Ingeniero Civil', 28, 'Yeti Cycles', 3]\n"
          ]
        }
      ]
    },
    {
      "cell_type": "markdown",
      "source": [
        "Actividad N008"
      ],
      "metadata": {
        "id": "fz_TclrpXBGv"
      }
    },
    {
      "cell_type": "code",
      "source": [
        "## método .insert()\n",
        "\n",
        "info_personal.insert(3,\"Universidad Ricardo Palma\")\n",
        "print(info_personal)\n",
        "print(f\"Hola, me llamo {info_personal[0]} {info_personal[1]} soy {info_personal[2]}, estudie en la {info_personal[3]}, tengo {info_personal[4]} años, trabajo en la empresa {info_personal[5]} y tengo {info_personal[6]} años de experiencia profesional.\")"
      ],
      "metadata": {
        "colab": {
          "base_uri": "https://localhost:8080/"
        },
        "id": "_OST9HYkXDQe",
        "outputId": "c1884296-d085-4d97-d80c-b345a067f3e9"
      },
      "execution_count": null,
      "outputs": [
        {
          "output_type": "stream",
          "name": "stdout",
          "text": [
            "['Juan', 'Díaz', 'Ingeniero Civil', 'Universidad Ricardo Palma', 28, 'Yeti Cycles', 3]\n",
            "Hola, me llamo Juan Díaz soy Ingeniero Civil, estudie en la Universidad Ricardo Palma, tengo 28 años, trabajo en la empresa Yeti Cycles y tengo 3 años de experiencia profesional.\n"
          ]
        }
      ]
    },
    {
      "cell_type": "code",
      "source": [
        "del materias[3]\n",
        "print (materias)"
      ],
      "metadata": {
        "colab": {
          "base_uri": "https://localhost:8080/"
        },
        "id": "lzJtBYr4Z9J2",
        "outputId": "7dc490c7-4b71-4e74-aa3f-b0a735a376e3"
      },
      "execution_count": null,
      "outputs": [
        {
          "output_type": "stream",
          "name": "stdout",
          "text": [
            "['álgebra', 'aritmética', 'razonamiento verbal', 'geometría']\n"
          ]
        }
      ]
    },
    {
      "cell_type": "markdown",
      "source": [
        "CLASE 2"
      ],
      "metadata": {
        "id": "zXxA6WxwQ9NR"
      }
    },
    {
      "cell_type": "code",
      "source": [
        "print(lugares)"
      ],
      "metadata": {
        "id": "RqW_Ivx7Qr0Y",
        "outputId": "1c53f065-f87f-48f6-80ff-d667cf6633c8",
        "colab": {
          "base_uri": "https://localhost:8080/"
        }
      },
      "execution_count": 11,
      "outputs": [
        {
          "output_type": "stream",
          "name": "stdout",
          "text": [
            "['Florencia', 'Roma', 'Huaraz', 'Cusco', 'Buenos Aires']\n"
          ]
        }
      ]
    },
    {
      "cell_type": "code",
      "source": [
        "ele_=lugares.pop()\n",
        "print(ele_)"
      ],
      "metadata": {
        "id": "kU6jTcmjQ0pi",
        "outputId": "cb6b9fe5-3a07-47c2-e487-29346364861c",
        "colab": {
          "base_uri": "https://localhost:8080/"
        }
      },
      "execution_count": 12,
      "outputs": [
        {
          "output_type": "stream",
          "name": "stdout",
          "text": [
            "Buenos Aires\n"
          ]
        }
      ]
    },
    {
      "cell_type": "code",
      "source": [
        "lugares.remove(\"Roma\")\n",
        "print(lugares)"
      ],
      "metadata": {
        "id": "U1sdT7YLRqs4",
        "outputId": "d41a30da-856c-4a5d-84eb-78ca6a2a7c62",
        "colab": {
          "base_uri": "https://localhost:8080/"
        }
      },
      "execution_count": 13,
      "outputs": [
        {
          "output_type": "stream",
          "name": "stdout",
          "text": [
            "['Florencia', 'Huaraz', 'Cusco']\n"
          ]
        }
      ]
    },
    {
      "cell_type": "code",
      "source": [
        "marcas1 = ['Yeti','Santa Cruz','Pivot','Commencal','Ibis']\n",
        "marcas1.remove(\"Pivot\")\n",
        "print(marcas1)"
      ],
      "metadata": {
        "id": "YRAIDz2vSD84",
        "outputId": "d1be337d-fac7-423f-d73a-d19f4f0b1e9d",
        "colab": {
          "base_uri": "https://localhost:8080/"
        }
      },
      "execution_count": 14,
      "outputs": [
        {
          "output_type": "stream",
          "name": "stdout",
          "text": [
            "['Yeti', 'Santa Cruz', 'Commencal', 'Ibis']\n"
          ]
        }
      ]
    },
    {
      "cell_type": "code",
      "source": [
        "stem = ['science','tecnology','engineering','maths']\n",
        "print(f\"La lista original stem es: \\n{stem}\")\n",
        "stem.sort()\n",
        "print((f\"La lista ordenada stem es: \\n{stem}\"))"
      ],
      "metadata": {
        "id": "5nyu5g6sTrKi",
        "outputId": "2f3c0ccb-edff-4593-f937-8f5f759de195",
        "colab": {
          "base_uri": "https://localhost:8080/"
        }
      },
      "execution_count": 22,
      "outputs": [
        {
          "output_type": "stream",
          "name": "stdout",
          "text": [
            "La lista original stem es: \n",
            "['science', 'tecnology', 'engineering', 'maths']\n",
            "La lista ordenada stem es: \n",
            "['engineering', 'maths', 'science', 'tecnology']\n"
          ]
        }
      ]
    },
    {
      "cell_type": "code",
      "source": [
        "paises = [\"China\", \"India\",\"Perú\", \"Chile\", \"Colombia\", \"Venezuela\"]\n",
        "print(f\"La lista de paises es: \\n{paises}\")"
      ],
      "metadata": {
        "id": "WV77kkbPVHog",
        "outputId": "191980d5-8554-40dc-aeb5-0def1c82b5e0",
        "colab": {
          "base_uri": "https://localhost:8080/"
        }
      },
      "execution_count": 23,
      "outputs": [
        {
          "output_type": "stream",
          "name": "stdout",
          "text": [
            "La lista de paises es: \n",
            "['China', 'India', 'Perú', 'Chile', 'Colombia', 'Venezuela']\n"
          ]
        }
      ]
    },
    {
      "cell_type": "markdown",
      "source": [
        "Sorted ordena de manera temporal"
      ],
      "metadata": {
        "id": "dqdk5zN0ZwkJ"
      }
    },
    {
      "cell_type": "code",
      "source": [
        "print(f\"La lista ordenada de manera descendente de paises es: \\n{sorted(paises, reverse=True)}\")"
      ],
      "metadata": {
        "id": "zgn8fWYWX_dw",
        "outputId": "d81e125c-e547-41e9-8dcb-e10dc620c146",
        "colab": {
          "base_uri": "https://localhost:8080/"
        }
      },
      "execution_count": 25,
      "outputs": [
        {
          "output_type": "stream",
          "name": "stdout",
          "text": [
            "La lista ordenada de manera descendente de paises es: \n",
            "['Venezuela', 'Perú', 'India', 'Colombia', 'China', 'Chile']\n"
          ]
        }
      ]
    },
    {
      "cell_type": "code",
      "source": [
        "print(paises)"
      ],
      "metadata": {
        "id": "DTYSPFVxY5NQ",
        "outputId": "96a72238-7167-4e85-dff3-ab56f5999453",
        "colab": {
          "base_uri": "https://localhost:8080/"
        }
      },
      "execution_count": 26,
      "outputs": [
        {
          "output_type": "stream",
          "name": "stdout",
          "text": [
            "['China', 'India', 'Perú', 'Chile', 'Colombia', 'Venezuela']\n"
          ]
        }
      ]
    },
    {
      "cell_type": "code",
      "source": [
        "conteo = 1\n",
        "productos = [\"Galletas\", \"Agua\", \"Fideos\", \"Tomates\"]\n",
        "print(f\"Mi lista de compra habitual en el supermercado es: \\n\")\n",
        "for i in productos:\n",
        "  print(f\"Producto{conteo}\", i)\n",
        "  conteo = conteo + 1\n"
      ],
      "metadata": {
        "id": "HpbzN-OAj5dg",
        "outputId": "443968d5-9fac-4577-e777-68edcddd719c",
        "colab": {
          "base_uri": "https://localhost:8080/"
        }
      },
      "execution_count": 42,
      "outputs": [
        {
          "output_type": "stream",
          "name": "stdout",
          "text": [
            "Mi lista de compra habitual en el supermercado es: \n",
            "\n",
            "Producto1 Galletas\n",
            "Producto2 Agua\n",
            "Producto3 Fideos\n",
            "Producto4 Tomates\n"
          ]
        }
      ]
    },
    {
      "cell_type": "code",
      "source": [
        "conteo = 1\n",
        "paises = [\"Noruega\", \"Nepal\", \"Egipto\", \"Japón\"]\n",
        "print(f\"Mi lista de paises por conocer es: \\n\")\n",
        "for i in paises:\n",
        "  print(f\"Pais{conteo}\", i)\n",
        "  conteo = conteo + 1\n",
        "print(\"\\nEstos paises se caracterizan por tener buenos paisajes\")"
      ],
      "metadata": {
        "id": "vDCGj5hcm1bL",
        "outputId": "8fd347f1-5754-453a-f662-1e029a459479",
        "colab": {
          "base_uri": "https://localhost:8080/"
        }
      },
      "execution_count": 46,
      "outputs": [
        {
          "output_type": "stream",
          "name": "stdout",
          "text": [
            "Mi lista de paises por conocer es: \n",
            "\n",
            "Pais1 Noruega\n",
            "Pais2 Nepal\n",
            "Pais3 Egipto\n",
            "Pais4 Japón\n",
            "\n",
            "Estos paises se caracterizan por tener buenos paisajes\n"
          ]
        }
      ]
    },
    {
      "cell_type": "code",
      "source": [
        "correlativos = list(range(10, 21))\n",
        "for i in correlativos:\n",
        "  print(i)"
      ],
      "metadata": {
        "id": "ccNSdc7VpDKQ",
        "outputId": "7a647066-074c-49e8-c0b0-b0c7e355b956",
        "colab": {
          "base_uri": "https://localhost:8080/"
        }
      },
      "execution_count": 47,
      "outputs": [
        {
          "output_type": "stream",
          "name": "stdout",
          "text": [
            "10\n",
            "11\n",
            "12\n",
            "13\n",
            "14\n",
            "15\n",
            "16\n",
            "17\n",
            "18\n",
            "19\n",
            "20\n"
          ]
        }
      ]
    },
    {
      "cell_type": "code",
      "source": [
        "pares = list(range(2,11,2))\n",
        "cuadrados = []\n",
        "for i in pares:\n",
        "  cuadrado = i**2\n",
        "  cuadrados.append(cuadrado)\n",
        "print(f\"La lista pares contiene los elementos: \\n{pares}\")\n",
        "print(f\"La lista cuadrados contiene los elementos \\n{cuadrados}\")\n",
        "print(f\"El promedio de los valores de la lista cuadrados es: {sum(cuadrados)/len(cuadrados)}\")"
      ],
      "metadata": {
        "id": "S6SGQ1Sfpu6S",
        "outputId": "69b10c40-8895-4407-8160-340895847cff",
        "colab": {
          "base_uri": "https://localhost:8080/"
        }
      },
      "execution_count": 51,
      "outputs": [
        {
          "output_type": "stream",
          "name": "stdout",
          "text": [
            "La lista pares contiene los elementos: \n",
            "[2, 4, 6, 8, 10]\n",
            "La lista cuadrados contiene los elementos \n",
            "[4, 16, 36, 64, 100]\n",
            "El promedio de los valores de la lista cuadrados es: 44.0\n"
          ]
        }
      ]
    },
    {
      "cell_type": "code",
      "source": [
        "correlativosn =[]\n",
        "for i in correlativos:\n",
        "  suma = i + 5\n",
        "  correlativosn.append(suma)\n",
        "print(correlativosn)"
      ],
      "metadata": {
        "id": "eIO5rH6mslEA",
        "outputId": "9f0664d4-5af5-406b-c5b2-d0387497f04f",
        "colab": {
          "base_uri": "https://localhost:8080/"
        }
      },
      "execution_count": 52,
      "outputs": [
        {
          "output_type": "stream",
          "name": "stdout",
          "text": [
            "[15, 16, 17, 18, 19, 20, 21, 22, 23, 24, 25]\n"
          ]
        }
      ]
    },
    {
      "cell_type": "code",
      "source": [
        "##con comprension\n",
        "correlativosn_2 = [i+5 for i in correlativos]\n",
        "print(f\"la lista correlativosn es: \\n{correlativosn_2}\")"
      ],
      "metadata": {
        "id": "epz658zztZEI",
        "outputId": "1006a3e4-bc30-45af-95ee-0612d9774cd4",
        "colab": {
          "base_uri": "https://localhost:8080/"
        }
      },
      "execution_count": 53,
      "outputs": [
        {
          "output_type": "stream",
          "name": "stdout",
          "text": [
            "la lista correlativosn es: \n",
            "[15, 16, 17, 18, 19, 20, 21, 22, 23, 24, 25]\n"
          ]
        }
      ]
    }
  ]
}