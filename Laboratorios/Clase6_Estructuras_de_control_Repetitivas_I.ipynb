{
  "nbformat": 4,
  "nbformat_minor": 0,
  "metadata": {
    "colab": {
      "provenance": [],
      "include_colab_link": true
    },
    "kernelspec": {
      "name": "python3",
      "display_name": "Python 3"
    },
    "language_info": {
      "name": "python"
    }
  },
  "cells": [
    {
      "cell_type": "markdown",
      "metadata": {
        "id": "view-in-github",
        "colab_type": "text"
      },
      "source": [
        "<a href=\"https://colab.research.google.com/github/hubblej28/curso_python_utec/blob/main/Laboratorios/Clase6_Estructuras_de_control_Repetitivas_I.ipynb\" target=\"_parent\"><img src=\"https://colab.research.google.com/assets/colab-badge.svg\" alt=\"Open In Colab\"/></a>"
      ]
    },
    {
      "cell_type": "markdown",
      "source": [
        "# Listas"
      ],
      "metadata": {
        "id": "upi-jSAWG5Dq"
      }
    },
    {
      "cell_type": "code",
      "source": [
        "ingresos = [ 10000, 20000, 35000, 5600 ]"
      ],
      "metadata": {
        "id": "GhUBvNe5G6p2"
      },
      "execution_count": null,
      "outputs": []
    },
    {
      "cell_type": "code",
      "source": [
        "ingresos.append(100000)"
      ],
      "metadata": {
        "id": "pbddLdpPHmfr"
      },
      "execution_count": null,
      "outputs": []
    },
    {
      "cell_type": "code",
      "source": [
        "ingresos"
      ],
      "metadata": {
        "colab": {
          "base_uri": "https://localhost:8080/"
        },
        "id": "a4ajkI-fHvlf",
        "outputId": "d03b3381-5670-446f-9f4c-de6d8a673336"
      },
      "execution_count": null,
      "outputs": [
        {
          "output_type": "execute_result",
          "data": {
            "text/plain": [
              "[10000, 20000, 35000, 5600, 100000]"
            ]
          },
          "metadata": {},
          "execution_count": 3
        }
      ]
    },
    {
      "cell_type": "code",
      "source": [
        "datos = [\"Angelica\", 27, \"Casada\",2500 ]"
      ],
      "metadata": {
        "id": "EifEUSTuI1An"
      },
      "execution_count": null,
      "outputs": []
    },
    {
      "cell_type": "code",
      "source": [
        "type(datos)"
      ],
      "metadata": {
        "colab": {
          "base_uri": "https://localhost:8080/"
        },
        "id": "M6IRPXRIJL6l",
        "outputId": "9aaccdf6-a325-409e-a6c5-f1405d11a88d"
      },
      "execution_count": null,
      "outputs": [
        {
          "output_type": "execute_result",
          "data": {
            "text/plain": [
              "list"
            ]
          },
          "metadata": {},
          "execution_count": 5
        }
      ]
    },
    {
      "cell_type": "code",
      "source": [
        "datos[3]"
      ],
      "metadata": {
        "colab": {
          "base_uri": "https://localhost:8080/"
        },
        "id": "WWMuyrmEKaiz",
        "outputId": "a2e7f349-7a41-43a3-9589-3b80ab470168"
      },
      "execution_count": null,
      "outputs": [
        {
          "output_type": "execute_result",
          "data": {
            "text/plain": [
              "2500"
            ]
          },
          "metadata": {},
          "execution_count": 6
        }
      ]
    },
    {
      "cell_type": "code",
      "source": [
        "datos[3] = 3000"
      ],
      "metadata": {
        "id": "48wgOxUmK4mL"
      },
      "execution_count": null,
      "outputs": []
    },
    {
      "cell_type": "code",
      "source": [
        "datos"
      ],
      "metadata": {
        "colab": {
          "base_uri": "https://localhost:8080/"
        },
        "id": "FoQ35uMbK7qy",
        "outputId": "300f474c-a2bc-4313-8133-6c35f01a347b"
      },
      "execution_count": null,
      "outputs": [
        {
          "output_type": "execute_result",
          "data": {
            "text/plain": [
              "['Angelica', 27, 'Casada', 3000]"
            ]
          },
          "metadata": {},
          "execution_count": 8
        }
      ]
    },
    {
      "cell_type": "code",
      "source": [
        "datos.append(\"Treinta y cinco\")"
      ],
      "metadata": {
        "id": "UO_jlVfwQ_cn"
      },
      "execution_count": null,
      "outputs": []
    },
    {
      "cell_type": "code",
      "source": [
        "datos.append(\"nueva campaña\")"
      ],
      "metadata": {
        "id": "tAncybRmRJTo"
      },
      "execution_count": null,
      "outputs": []
    },
    {
      "cell_type": "code",
      "source": [
        "campaña = 1"
      ],
      "metadata": {
        "id": "T8FTpPRHRR0w"
      },
      "execution_count": null,
      "outputs": []
    },
    {
      "cell_type": "code",
      "source": [
        "nueva_campaña = 3"
      ],
      "metadata": {
        "id": "9Z5LPhZORXR4"
      },
      "execution_count": null,
      "outputs": []
    },
    {
      "cell_type": "code",
      "source": [
        "datos.remove(3000)"
      ],
      "metadata": {
        "colab": {
          "base_uri": "https://localhost:8080/",
          "height": 144
        },
        "id": "01i39A0RLCuN",
        "outputId": "9d3963e3-3182-4234-9120-a2d877f135d8"
      },
      "execution_count": null,
      "outputs": [
        {
          "output_type": "error",
          "ename": "ValueError",
          "evalue": "list.remove(x): x not in list",
          "traceback": [
            "\u001b[0;31m---------------------------------------------------------------------------\u001b[0m",
            "\u001b[0;31mValueError\u001b[0m                                Traceback (most recent call last)",
            "\u001b[0;32m/tmp/ipython-input-2855914673.py\u001b[0m in \u001b[0;36m<cell line: 0>\u001b[0;34m()\u001b[0m\n\u001b[0;32m----> 1\u001b[0;31m \u001b[0mdatos\u001b[0m\u001b[0;34m.\u001b[0m\u001b[0mremove\u001b[0m\u001b[0;34m(\u001b[0m\u001b[0;36m3000\u001b[0m\u001b[0;34m)\u001b[0m\u001b[0;34m\u001b[0m\u001b[0;34m\u001b[0m\u001b[0m\n\u001b[0m",
            "\u001b[0;31mValueError\u001b[0m: list.remove(x): x not in list"
          ]
        }
      ]
    },
    {
      "cell_type": "code",
      "source": [
        "datos.remove(\"divorciada\")"
      ],
      "metadata": {
        "colab": {
          "base_uri": "https://localhost:8080/",
          "height": 144
        },
        "id": "vSeOxqZVLNXU",
        "outputId": "6671e3fd-96d1-4a11-c933-93f69281114e"
      },
      "execution_count": null,
      "outputs": [
        {
          "output_type": "error",
          "ename": "ValueError",
          "evalue": "list.remove(x): x not in list",
          "traceback": [
            "\u001b[0;31m---------------------------------------------------------------------------\u001b[0m",
            "\u001b[0;31mValueError\u001b[0m                                Traceback (most recent call last)",
            "\u001b[0;32m/tmp/ipython-input-3144508180.py\u001b[0m in \u001b[0;36m<cell line: 0>\u001b[0;34m()\u001b[0m\n\u001b[0;32m----> 1\u001b[0;31m \u001b[0mdatos\u001b[0m\u001b[0;34m.\u001b[0m\u001b[0mremove\u001b[0m\u001b[0;34m(\u001b[0m\u001b[0;34m\"divorciada\"\u001b[0m\u001b[0;34m)\u001b[0m\u001b[0;34m\u001b[0m\u001b[0;34m\u001b[0m\u001b[0m\n\u001b[0m",
            "\u001b[0;31mValueError\u001b[0m: list.remove(x): x not in list"
          ]
        }
      ]
    },
    {
      "cell_type": "code",
      "source": [
        "len(datos)"
      ],
      "metadata": {
        "colab": {
          "base_uri": "https://localhost:8080/"
        },
        "id": "duuOG_SQLgFx",
        "outputId": "09e44776-2099-45e3-95ec-9ca6be82241b"
      },
      "execution_count": null,
      "outputs": [
        {
          "output_type": "execute_result",
          "data": {
            "text/plain": [
              "3"
            ]
          },
          "metadata": {},
          "execution_count": 12
        }
      ]
    },
    {
      "cell_type": "code",
      "source": [
        "tasas = [ 0.1, 0.15, 0.11, 0.1, 0.23, 0.2,0.1, 0.1,0.2,0.1,0.15,0.1]\n",
        "tasas.count(0.1)"
      ],
      "metadata": {
        "colab": {
          "base_uri": "https://localhost:8080/"
        },
        "id": "bqohEMJkLuY2",
        "outputId": "0a24209f-3dca-4afa-e444-3f91e0ccf1b8"
      },
      "execution_count": null,
      "outputs": [
        {
          "output_type": "execute_result",
          "data": {
            "text/plain": [
              "6"
            ]
          },
          "metadata": {},
          "execution_count": 14
        }
      ]
    },
    {
      "cell_type": "code",
      "source": [
        "alumno = {\"nombre\": \"Eduardo\", \"edad\": 27}"
      ],
      "metadata": {
        "id": "dogqQRz6NvAu"
      },
      "execution_count": null,
      "outputs": []
    },
    {
      "cell_type": "code",
      "source": [
        "type(alumno)"
      ],
      "metadata": {
        "colab": {
          "base_uri": "https://localhost:8080/"
        },
        "id": "61k_vV0vOAdy",
        "outputId": "ab0ba2cd-c6c2-4e0f-9baf-3112e0e8a3f8"
      },
      "execution_count": null,
      "outputs": [
        {
          "output_type": "execute_result",
          "data": {
            "text/plain": [
              "dict"
            ]
          },
          "metadata": {},
          "execution_count": 16
        }
      ]
    },
    {
      "cell_type": "code",
      "source": [
        "alumno[0]"
      ],
      "metadata": {
        "colab": {
          "base_uri": "https://localhost:8080/",
          "height": 144
        },
        "id": "czknGtucOFfu",
        "outputId": "160b4732-6004-4630-ff21-992f63286705"
      },
      "execution_count": null,
      "outputs": [
        {
          "output_type": "error",
          "ename": "KeyError",
          "evalue": "0",
          "traceback": [
            "\u001b[0;31m---------------------------------------------------------------------------\u001b[0m",
            "\u001b[0;31mKeyError\u001b[0m                                  Traceback (most recent call last)",
            "\u001b[0;32m/tmp/ipython-input-1304708031.py\u001b[0m in \u001b[0;36m<cell line: 0>\u001b[0;34m()\u001b[0m\n\u001b[0;32m----> 1\u001b[0;31m \u001b[0malumno\u001b[0m\u001b[0;34m[\u001b[0m\u001b[0;36m0\u001b[0m\u001b[0;34m]\u001b[0m\u001b[0;34m\u001b[0m\u001b[0;34m\u001b[0m\u001b[0m\n\u001b[0m",
            "\u001b[0;31mKeyError\u001b[0m: 0"
          ]
        }
      ]
    },
    {
      "cell_type": "code",
      "source": [
        "datos_credito = {\"Cliente\": \"Luis\", \"Detalle\": {\"Monto\": 5000, \"Plazo\":12, \"Tasa\":0.22}}"
      ],
      "metadata": {
        "id": "XRKMF7skSGGL"
      },
      "execution_count": null,
      "outputs": []
    },
    {
      "cell_type": "code",
      "source": [
        "datos_credito"
      ],
      "metadata": {
        "colab": {
          "base_uri": "https://localhost:8080/"
        },
        "id": "98lBTpkASqAB",
        "outputId": "5f554975-fb36-44e4-c9f6-8c6aa1a62b7b"
      },
      "execution_count": null,
      "outputs": [
        {
          "output_type": "execute_result",
          "data": {
            "text/plain": [
              "{'Cliente': 'Luis', 'Detalle': {'Monto': 5000, 'Plazo': 12, 'Tasa': 0.22}}"
            ]
          },
          "metadata": {},
          "execution_count": 23
        }
      ]
    },
    {
      "cell_type": "code",
      "source": [
        "range(5)"
      ],
      "metadata": {
        "colab": {
          "base_uri": "https://localhost:8080/"
        },
        "id": "H80tMG6rTfkt",
        "outputId": "b6477723-dd99-4682-9652-d53b8d043ab1"
      },
      "execution_count": null,
      "outputs": [
        {
          "output_type": "execute_result",
          "data": {
            "text/plain": [
              "range(0, 5)"
            ]
          },
          "metadata": {},
          "execution_count": 24
        }
      ]
    },
    {
      "cell_type": "code",
      "source": [
        "range(2,6)"
      ],
      "metadata": {
        "colab": {
          "base_uri": "https://localhost:8080/"
        },
        "id": "VgyI2NVSUjt_",
        "outputId": "b43649cc-5e2d-4964-d4ac-04702c63ca8f"
      },
      "execution_count": null,
      "outputs": [
        {
          "output_type": "execute_result",
          "data": {
            "text/plain": [
              "range(2, 6)"
            ]
          },
          "metadata": {},
          "execution_count": 28
        }
      ]
    },
    {
      "cell_type": "code",
      "source": [
        "range(0,10,2)"
      ],
      "metadata": {
        "colab": {
          "base_uri": "https://localhost:8080/"
        },
        "id": "MSetBB_7UrLu",
        "outputId": "326a3fa3-635b-458d-a1e7-4500d7cdcbca"
      },
      "execution_count": null,
      "outputs": [
        {
          "output_type": "execute_result",
          "data": {
            "text/plain": [
              "range(0, 10, 2)"
            ]
          },
          "metadata": {},
          "execution_count": 29
        }
      ]
    },
    {
      "cell_type": "code",
      "source": [
        "range(10,2)"
      ],
      "metadata": {
        "colab": {
          "base_uri": "https://localhost:8080/"
        },
        "id": "9njAqK6QU4HD",
        "outputId": "0672123f-cf9e-42ee-bc84-aa11f940cf9b"
      },
      "execution_count": null,
      "outputs": [
        {
          "output_type": "execute_result",
          "data": {
            "text/plain": [
              "range(10, 2)"
            ]
          },
          "metadata": {},
          "execution_count": 30
        }
      ]
    },
    {
      "cell_type": "code",
      "source": [
        "range(10,2,-1)"
      ],
      "metadata": {
        "colab": {
          "base_uri": "https://localhost:8080/"
        },
        "id": "FLjSU2M1VcKK",
        "outputId": "15c6485a-03d1-4276-9217-e1dc68861876"
      },
      "execution_count": null,
      "outputs": [
        {
          "output_type": "execute_result",
          "data": {
            "text/plain": [
              "range(10, 2, -1)"
            ]
          },
          "metadata": {},
          "execution_count": 31
        }
      ]
    },
    {
      "cell_type": "code",
      "source": [
        "datos"
      ],
      "metadata": {
        "colab": {
          "base_uri": "https://localhost:8080/"
        },
        "id": "3qa1ndl3TuKr",
        "outputId": "a3fb03ee-6757-48be-adfa-9ec22af5c8b2"
      },
      "execution_count": null,
      "outputs": [
        {
          "output_type": "execute_result",
          "data": {
            "text/plain": [
              "['Angelica', 27, 'Casada', 'Treinta y cinco', 'nueva campaña']"
            ]
          },
          "metadata": {},
          "execution_count": 25
        }
      ]
    },
    {
      "cell_type": "code",
      "source": [
        "datos[1] = 28"
      ],
      "metadata": {
        "id": "08W0pZkOTxsr"
      },
      "execution_count": null,
      "outputs": []
    },
    {
      "cell_type": "code",
      "source": [
        "datos"
      ],
      "metadata": {
        "colab": {
          "base_uri": "https://localhost:8080/"
        },
        "id": "GR2VhIQNT4_w",
        "outputId": "78da820b-e1bb-437c-b82f-323e2e3f5664"
      },
      "execution_count": null,
      "outputs": [
        {
          "output_type": "execute_result",
          "data": {
            "text/plain": [
              "['Angelica', 28, 'Casada', 'Treinta y cinco', 'nueva campaña']"
            ]
          },
          "metadata": {},
          "execution_count": 27
        }
      ]
    },
    {
      "cell_type": "markdown",
      "source": [
        "# Diccionarios"
      ],
      "metadata": {
        "id": "ZXZB5T0_yOyz"
      }
    },
    {
      "cell_type": "code",
      "source": [
        "cliente = {\n",
        "    \"nombre\": \"Ana\",\n",
        "    \"edad\": 35,\n",
        "    \"ingreso\": 4500,\n",
        "    \"morosidades\": 0\n",
        "}\n",
        "print(cliente[\"ingreso\"])  # Acceder al ingreso del cliente"
      ],
      "metadata": {
        "id": "XoMaweyb2JzS",
        "colab": {
          "base_uri": "https://localhost:8080/"
        },
        "outputId": "7ce69755-5acb-4cf0-e167-10b06a4677c5"
      },
      "execution_count": null,
      "outputs": [
        {
          "output_type": "stream",
          "name": "stdout",
          "text": [
            "4500\n"
          ]
        }
      ]
    },
    {
      "cell_type": "code",
      "source": [
        "cliente = {\n",
        "    \"nombre\": \"Ana\",\n",
        "    \"edad\": 35,\n",
        "    \"ingreso\": 4500,\n",
        "    \"morosidades\": 0\n",
        "}\n",
        "print(cliente[\"ingreso\"])\n",
        "print(cliente[\"nombre\"])\n",
        "print(cliente[\"edad\"])"
      ],
      "metadata": {
        "colab": {
          "base_uri": "https://localhost:8080/"
        },
        "id": "2BAAR44NaBjH",
        "outputId": "71d9102d-b880-43f6-c698-5ea53c629d4a"
      },
      "execution_count": null,
      "outputs": [
        {
          "output_type": "stream",
          "name": "stdout",
          "text": [
            "4500\n",
            "Ana\n",
            "35\n"
          ]
        }
      ]
    },
    {
      "cell_type": "code",
      "source": [
        "print(cliente[\"nombre\"])"
      ],
      "metadata": {
        "colab": {
          "base_uri": "https://localhost:8080/"
        },
        "id": "m9-TPW2JYH45",
        "outputId": "ee68f6a3-993a-4a8b-cd77-038ea00e95d3"
      },
      "execution_count": null,
      "outputs": [
        {
          "output_type": "stream",
          "name": "stdout",
          "text": [
            "Ana\n"
          ]
        }
      ]
    },
    {
      "cell_type": "code",
      "source": [
        "cliente[\"edad\"]"
      ],
      "metadata": {
        "colab": {
          "base_uri": "https://localhost:8080/"
        },
        "id": "uTG_-NfkYmRh",
        "outputId": "79bb3c86-d01a-4e78-acbe-ec53c2c5e82c"
      },
      "execution_count": null,
      "outputs": [
        {
          "output_type": "execute_result",
          "data": {
            "text/plain": [
              "35"
            ]
          },
          "metadata": {},
          "execution_count": 34
        }
      ]
    },
    {
      "cell_type": "code",
      "source": [],
      "metadata": {
        "id": "Cg1KlLMnYwX3"
      },
      "execution_count": null,
      "outputs": []
    },
    {
      "cell_type": "code",
      "source": [
        "nuevo_cliente = {}\n",
        "nuevo_cliente[\"nombre\"] = \"Luis\"\n",
        "nuevo_cliente[\"ingreso\"] = 3000"
      ],
      "metadata": {
        "id": "c2pSZDxqVdUL"
      },
      "execution_count": null,
      "outputs": []
    },
    {
      "cell_type": "code",
      "source": [
        "cliente"
      ],
      "metadata": {
        "colab": {
          "base_uri": "https://localhost:8080/"
        },
        "id": "dm0pWqnNTO8n",
        "outputId": "d7c997fd-4a4a-4e54-bca8-fc8e9c53b8c0"
      },
      "execution_count": null,
      "outputs": [
        {
          "output_type": "execute_result",
          "data": {
            "text/plain": [
              "{'nombre': 'Ana', 'edad': 35, 'ingreso': 4500, 'morosidades': 0}"
            ]
          },
          "metadata": {},
          "execution_count": 2
        }
      ]
    },
    {
      "cell_type": "markdown",
      "source": [
        "**Cómo acceder a valores:**\n",
        "\n",
        "Usando la clave: diccionario[\"clave\"]"
      ],
      "metadata": {
        "id": "w4ylLTfU2aeH"
      }
    },
    {
      "cell_type": "markdown",
      "source": [
        "**Añadir nuevo par clave-valor:**"
      ],
      "metadata": {
        "id": "jmS8eewO2fFC"
      }
    },
    {
      "cell_type": "code",
      "execution_count": null,
      "metadata": {
        "id": "uUEYtzY9x5Gm"
      },
      "outputs": [],
      "source": [
        "cliente[\"tipo_credito\"] = \"Hipotecario\""
      ]
    },
    {
      "cell_type": "code",
      "source": [
        "print(cliente)"
      ],
      "metadata": {
        "colab": {
          "base_uri": "https://localhost:8080/"
        },
        "id": "TFgRgtCta5pc",
        "outputId": "791329a7-a03d-47f1-959e-df42187be171"
      },
      "execution_count": null,
      "outputs": [
        {
          "output_type": "stream",
          "name": "stdout",
          "text": [
            "{'nombre': 'Ana', 'edad': 35, 'ingreso': 4500, 'morosidades': 0, 'tipo_credito': 'Hipotecario'}\n"
          ]
        }
      ]
    },
    {
      "cell_type": "code",
      "source": [
        "cliente"
      ],
      "metadata": {
        "colab": {
          "base_uri": "https://localhost:8080/"
        },
        "id": "uOPTNHXcTWHg",
        "outputId": "9fa5b30f-7574-49db-fbfe-a3918ec18c57"
      },
      "execution_count": null,
      "outputs": [
        {
          "output_type": "execute_result",
          "data": {
            "text/plain": [
              "{'nombre': 'Ana',\n",
              " 'edad': 35,\n",
              " 'ingreso': 4500,\n",
              " 'morosidades': 0,\n",
              " 'tipo_credito': 'Hipotecario'}"
            ]
          },
          "metadata": {},
          "execution_count": 4
        }
      ]
    },
    {
      "cell_type": "markdown",
      "source": [
        "**Empezar con un diccionario vacío:**"
      ],
      "metadata": {
        "id": "51g4lCo92lwQ"
      }
    },
    {
      "cell_type": "code",
      "source": [
        "nuevo_cliente = {}"
      ],
      "metadata": {
        "id": "j7ByM54CUXZ6"
      },
      "execution_count": null,
      "outputs": []
    },
    {
      "cell_type": "code",
      "source": [
        "nuevo_cliente[\"nombre\"] = \"Luis\"\n",
        "nuevo_cliente[\"ingreso\"] = 3000"
      ],
      "metadata": {
        "id": "tpK5NSue2mx3"
      },
      "execution_count": null,
      "outputs": []
    },
    {
      "cell_type": "code",
      "source": [
        "nuevo_cliente"
      ],
      "metadata": {
        "colab": {
          "base_uri": "https://localhost:8080/"
        },
        "id": "MCYr7d-wbTd2",
        "outputId": "540d79c4-fb61-4c47-831c-0782df66d93a"
      },
      "execution_count": null,
      "outputs": [
        {
          "output_type": "execute_result",
          "data": {
            "text/plain": [
              "{'nombre': 'Luis', 'ingreso': 3000}"
            ]
          },
          "metadata": {},
          "execution_count": 43
        }
      ]
    },
    {
      "cell_type": "markdown",
      "source": [
        "**Modificar valores:**"
      ],
      "metadata": {
        "id": "_sa6x1ct2rOy"
      }
    },
    {
      "cell_type": "code",
      "source": [
        "nuevo_cliente[\"ingreso\"] = 5000"
      ],
      "metadata": {
        "id": "6pQI6-vr2vpI"
      },
      "execution_count": null,
      "outputs": []
    },
    {
      "cell_type": "code",
      "source": [
        "nuevo_cliente"
      ],
      "metadata": {
        "colab": {
          "base_uri": "https://localhost:8080/"
        },
        "id": "AZN4np6dbcWx",
        "outputId": "cc8e1131-da4c-46d8-8f6a-53f548856cf0"
      },
      "execution_count": null,
      "outputs": [
        {
          "output_type": "execute_result",
          "data": {
            "text/plain": [
              "{'nombre': 'Luis', 'ingreso': 5000}"
            ]
          },
          "metadata": {},
          "execution_count": 45
        }
      ]
    },
    {
      "cell_type": "code",
      "source": [
        "del nuevo_cliente[\"nombre\"]"
      ],
      "metadata": {
        "id": "fzAB7u9SboOE"
      },
      "execution_count": null,
      "outputs": []
    },
    {
      "cell_type": "code",
      "source": [
        "nuevo_cliente"
      ],
      "metadata": {
        "colab": {
          "base_uri": "https://localhost:8080/"
        },
        "id": "sT1OYvP2btkP",
        "outputId": "0a2307b0-df59-4e38-cccf-1718a607c408"
      },
      "execution_count": null,
      "outputs": [
        {
          "output_type": "execute_result",
          "data": {
            "text/plain": [
              "{'ingreso': 5000}"
            ]
          },
          "metadata": {},
          "execution_count": 47
        }
      ]
    },
    {
      "cell_type": "markdown",
      "source": [
        "**Eliminar pares clave-valor:**"
      ],
      "metadata": {
        "id": "DUHgSOL22xrI"
      }
    },
    {
      "cell_type": "code",
      "source": [
        "clientes = {\n",
        "    \"001\": {\"nombre\": \"Ana\", \"ingreso\": 4000},\n",
        "    \"002\": {\"nombre\": \"Luis\", \"ingreso\": 3000}\n",
        "}"
      ],
      "metadata": {
        "id": "Aq7-4wBo205G"
      },
      "execution_count": null,
      "outputs": []
    },
    {
      "cell_type": "code",
      "source": [
        "animales = {\n",
        "  \"001\": {\"nombre\": \"Elefante\", \"patas\": 4},\n",
        "  \"002\": {\"nombre\": \"Buitre\", \"patas\": 2}.\n",
        "  \"003\": {\"nombre\": \"Cocodrilo\", \"patas\": 4}}"
      ],
      "metadata": {
        "id": "2cq67o4TXklZ"
      },
      "execution_count": null,
      "outputs": []
    },
    {
      "cell_type": "code",
      "source": [
        "dicFamiliar1={}\n",
        "dicFamiliar1[\"nombre\"]=\"Renato\"\n",
        "dicFamiliar1[\"edad\"]=33\n",
        "dicFamiliar1[\"genero\"]=\"M\"\n",
        "dicFamiliar2={}\n",
        "dicFamiliar2[\"nombre\"]=\"Malu\"\n",
        "dicFamiliar2[\"edad\"]=35\n",
        "dicFamiliar2[\"genero\"]=\"F\"\n",
        "dicFamiliares={\n",
        "    \"1\":dicFamiliar1,\n",
        "    \"2\":dicFamiliar2\n",
        "}\n",
        "print(dicFamiliares)"
      ],
      "metadata": {
        "colab": {
          "base_uri": "https://localhost:8080/"
        },
        "id": "b6BSFpMGY29g",
        "outputId": "a06801dc-2feb-4494-d143-48e0c0e82400"
      },
      "execution_count": null,
      "outputs": [
        {
          "output_type": "stream",
          "name": "stdout",
          "text": [
            "{'1': {'nombre': 'Renato', 'edad': 33, 'genero': 'M'}, '2': {'nombre': 'Malu', 'edad': 35, 'genero': 'F'}}\n"
          ]
        }
      ]
    },
    {
      "cell_type": "code",
      "source": [
        "dicFamiliares['1']['edad']= 30"
      ],
      "metadata": {
        "id": "IsaZP5OVZCtg"
      },
      "execution_count": null,
      "outputs": []
    },
    {
      "cell_type": "code",
      "source": [
        "dicFamiliares['2']['ingreso']= 2400\n",
        "dicFamiliares"
      ],
      "metadata": {
        "colab": {
          "base_uri": "https://localhost:8080/"
        },
        "id": "-tDQ01T3aasV",
        "outputId": "feaba115-18c8-4ae4-d11d-34b557842006"
      },
      "execution_count": null,
      "outputs": [
        {
          "output_type": "execute_result",
          "data": {
            "text/plain": [
              "{'1': {'nombre': 'Renato', 'edad': 30, 'genero': 'M'},\n",
              " '2': {'nombre': 'Malu', 'edad': 35, 'genero': 'F', 'ingreso': 2400}}"
            ]
          },
          "metadata": {},
          "execution_count": 11
        }
      ]
    },
    {
      "cell_type": "code",
      "source": [
        "dicFamiliares"
      ],
      "metadata": {
        "colab": {
          "base_uri": "https://localhost:8080/"
        },
        "id": "cJk_SQLgZkyH",
        "outputId": "57b86cb5-632e-4bfb-97c8-2e6962d95c96"
      },
      "execution_count": null,
      "outputs": [
        {
          "output_type": "execute_result",
          "data": {
            "text/plain": [
              "{'2': {'nombre': 'Malu', 'edad': 35, 'genero': 'F', 'ingreso': 2400}}"
            ]
          },
          "metadata": {},
          "execution_count": 13
        }
      ]
    },
    {
      "cell_type": "code",
      "source": [
        "del dicFamiliares['1']"
      ],
      "metadata": {
        "id": "N1D4rbUdbDHZ"
      },
      "execution_count": null,
      "outputs": []
    },
    {
      "cell_type": "code",
      "source": [
        "clientes"
      ],
      "metadata": {
        "colab": {
          "base_uri": "https://localhost:8080/"
        },
        "id": "pG2RXxw_WTD2",
        "outputId": "375a89aa-e08d-4a85-dd04-4474ac2aee26"
      },
      "execution_count": null,
      "outputs": [
        {
          "output_type": "execute_result",
          "data": {
            "text/plain": [
              "{'001': {'nombre': 'Ana', 'ingreso': 4000},\n",
              " '002': {'nombre': 'Luis', 'ingreso': 3000}}"
            ]
          },
          "metadata": {},
          "execution_count": 8
        }
      ]
    },
    {
      "cell_type": "markdown",
      "source": [
        "**Ejercicio 1:**\n",
        "\n",
        "Crea un diccionario para un producto financiero con claves como nombre, tasa de interés y tipo. Luego accede a la tasa de interés y modifícala.\n",
        "\n",
        "\n",
        "\n"
      ],
      "metadata": {
        "id": "83NKUBXf23zf"
      }
    },
    {
      "cell_type": "markdown",
      "source": [
        "**Ejercicio 2:**\n",
        "\n",
        "Crea un diccionario de 3 clientes con su nombre e ingresos. Agrega un nuevo cliente. Luego, elimina uno de los existentes."
      ],
      "metadata": {
        "id": "Czi-iYwt27Lr"
      }
    },
    {
      "cell_type": "markdown",
      "source": [
        "**Ejercicio3:**\n",
        "\n",
        "Crea un diccionario para la campaña Black friday que tiene 1200 clics, 45 conversiones y un costo de 600 dólares"
      ],
      "metadata": {
        "id": "yvSeWY8eb2EO"
      }
    },
    {
      "cell_type": "markdown",
      "source": [
        "**Ejercicio 4:**\n",
        "\n",
        "Crea un diccionario de una solicitud de crédito para Pedro con 6000 de ingreso, una deuda de 2000 soles y un buen historial"
      ],
      "metadata": {
        "id": "Q1ilf37ecNYp"
      }
    },
    {
      "cell_type": "code",
      "source": [],
      "metadata": {
        "id": "YouER3kZb1mz"
      },
      "execution_count": null,
      "outputs": []
    },
    {
      "cell_type": "code",
      "source": [
        "turnos = [100, 120, 110, 130, 150]\n",
        "\n",
        "for i in range(len(turnos)):\n",
        "    print(\"Turno\", i+1, \"→ Producción:\", turnos[i])"
      ],
      "metadata": {
        "colab": {
          "base_uri": "https://localhost:8080/"
        },
        "id": "UWcInyuOc_Zs",
        "outputId": "644e390d-28c5-4acc-e80b-06be4b4967da"
      },
      "execution_count": null,
      "outputs": [
        {
          "output_type": "stream",
          "name": "stdout",
          "text": [
            "Turno 1 → Producción: 100\n",
            "Turno 2 → Producción: 120\n",
            "Turno 3 → Producción: 110\n",
            "Turno 4 → Producción: 130\n",
            "Turno 5 → Producción: 150\n"
          ]
        }
      ]
    },
    {
      "cell_type": "markdown",
      "source": [
        "# 2. For en Python"
      ],
      "metadata": {
        "id": "w2oBkGm-3IZi"
      }
    },
    {
      "cell_type": "markdown",
      "source": [
        "**Sintaxis básica:**\n"
      ],
      "metadata": {
        "id": "tJGAMI9Q3TwI"
      }
    },
    {
      "cell_type": "code",
      "source": [
        "clientes = [\"Ana\", \"Luis\", \"Sofía\"]\n",
        "clientes"
      ],
      "metadata": {
        "colab": {
          "base_uri": "https://localhost:8080/"
        },
        "id": "bhySobixlvf3",
        "outputId": "4aa94b90-d3a0-47e5-9b81-49d56f34a70e"
      },
      "execution_count": null,
      "outputs": [
        {
          "output_type": "execute_result",
          "data": {
            "text/plain": [
              "['Ana', 'Luis', 'Sofía']"
            ]
          },
          "metadata": {},
          "execution_count": 49
        }
      ]
    },
    {
      "cell_type": "code",
      "source": [
        "for y in clientes:\n",
        "    print(y)"
      ],
      "metadata": {
        "id": "lGd8GFjZ26u5",
        "colab": {
          "base_uri": "https://localhost:8080/"
        },
        "outputId": "5ef09464-2f92-4cc7-d955-b608d2dae248"
      },
      "execution_count": null,
      "outputs": [
        {
          "output_type": "stream",
          "name": "stdout",
          "text": [
            "Ana\n",
            "Luis\n",
            "Sofía\n"
          ]
        }
      ]
    },
    {
      "cell_type": "code",
      "source": [
        "y"
      ],
      "metadata": {
        "colab": {
          "base_uri": "https://localhost:8080/",
          "height": 35
        },
        "id": "3pDdZxr4nqal",
        "outputId": "970cbdf8-ee0d-4128-cbdb-a296bf120063"
      },
      "execution_count": null,
      "outputs": [
        {
          "output_type": "execute_result",
          "data": {
            "text/plain": [
              "'Sofía'"
            ],
            "application/vnd.google.colaboratory.intrinsic+json": {
              "type": "string"
            }
          },
          "metadata": {},
          "execution_count": 51
        }
      ]
    },
    {
      "cell_type": "code",
      "source": [
        "lista_clientes[0]"
      ],
      "metadata": {
        "colab": {
          "base_uri": "https://localhost:8080/",
          "height": 35
        },
        "id": "aJLHWYWumvfN",
        "outputId": "06e04634-d442-4e81-bfa8-c5b913f5bd0f"
      },
      "execution_count": null,
      "outputs": [
        {
          "output_type": "execute_result",
          "data": {
            "text/plain": [
              "'Ana'"
            ],
            "application/vnd.google.colaboratory.intrinsic+json": {
              "type": "string"
            }
          },
          "metadata": {},
          "execution_count": 16
        }
      ]
    },
    {
      "cell_type": "markdown",
      "source": [
        "**¿Por qué es repetitiva?**\n",
        "\n",
        "Porque ejecuta el mismo bloque de código por cada elemento en la secuencia."
      ],
      "metadata": {
        "id": "zbzptSdD3cZ6"
      }
    },
    {
      "cell_type": "code",
      "source": [
        "ingresos = [1000, 2000, 3000, 2000, 1500, 2300, 2345]\n",
        "for x in ingresos:\n",
        "    print(\"Ingreso anual:\", x * 12)"
      ],
      "metadata": {
        "id": "ddfuukXf3a-T",
        "colab": {
          "base_uri": "https://localhost:8080/"
        },
        "outputId": "5ee65cc7-842e-4346-f1e2-8d3f147cecd9"
      },
      "execution_count": null,
      "outputs": [
        {
          "output_type": "stream",
          "name": "stdout",
          "text": [
            "Ingreso anual: 12000\n",
            "Ingreso anual: 24000\n",
            "Ingreso anual: 36000\n",
            "Ingreso anual: 24000\n",
            "Ingreso anual: 18000\n",
            "Ingreso anual: 27600\n",
            "Ingreso anual: 28140\n"
          ]
        }
      ]
    },
    {
      "cell_type": "markdown",
      "source": [
        "Usar la estructura FOR para calcular el ingreso anual (ingreso *12) sin mostrar el cálculo, finalmente mostrar la lista completa"
      ],
      "metadata": {
        "id": "6UOcbN-eqcbK"
      }
    },
    {
      "cell_type": "code",
      "source": [
        "ingresos"
      ],
      "metadata": {
        "colab": {
          "base_uri": "https://localhost:8080/"
        },
        "id": "zXac6g4SqbWb",
        "outputId": "45a1fa33-574d-4c24-efbc-ed1d2d83636a"
      },
      "execution_count": null,
      "outputs": [
        {
          "output_type": "execute_result",
          "data": {
            "text/plain": [
              "[1000, 2000, 3000, 2000, 1500, 2300, 2345]"
            ]
          },
          "metadata": {},
          "execution_count": 24
        }
      ]
    },
    {
      "cell_type": "code",
      "source": [
        "for ingreso in ingresos:\n",
        "    ingreso_anual = ingreso * 12\n",
        "\n",
        "ingresos"
      ],
      "metadata": {
        "colab": {
          "base_uri": "https://localhost:8080/"
        },
        "id": "3qfiLQC5qxOS",
        "outputId": "0ec3bae8-bf57-4701-f053-cd3948d705c6"
      },
      "execution_count": null,
      "outputs": [
        {
          "output_type": "execute_result",
          "data": {
            "text/plain": [
              "[1000, 2000, 3000, 2000, 1500, 2300, 2345]"
            ]
          },
          "metadata": {},
          "execution_count": 25
        }
      ]
    },
    {
      "cell_type": "code",
      "source": [
        "for ingreso in ingresos:\n",
        "    ingreso * 12\n",
        "    print(ingreso)"
      ],
      "metadata": {
        "colab": {
          "base_uri": "https://localhost:8080/"
        },
        "id": "qzUnQPoeszHA",
        "outputId": "67bdd5b3-01bd-430d-b54c-231f6bb33ce6"
      },
      "execution_count": null,
      "outputs": [
        {
          "output_type": "stream",
          "name": "stdout",
          "text": [
            "1000\n",
            "2000\n",
            "3000\n",
            "2000\n",
            "1500\n",
            "2300\n",
            "2345\n"
          ]
        }
      ]
    },
    {
      "cell_type": "code",
      "source": [
        "for ingreso in ingresos:\n",
        "    ingresos[0] = ingreso * 12\n",
        "\n",
        "ingresos"
      ],
      "metadata": {
        "colab": {
          "base_uri": "https://localhost:8080/"
        },
        "id": "qOoyDbS1ujmE",
        "outputId": "16146383-a9a1-4059-dec7-1ffccd49e60a"
      },
      "execution_count": null,
      "outputs": [
        {
          "output_type": "execute_result",
          "data": {
            "text/plain": [
              "[28140, 2000, 3000, 2000, 1500, 2300, 2345]"
            ]
          },
          "metadata": {},
          "execution_count": 31
        }
      ]
    },
    {
      "cell_type": "markdown",
      "source": [
        "Ejemplo 2: Recorrer un diccionario de clientes"
      ],
      "metadata": {
        "id": "yTflWWvp3hI1"
      }
    },
    {
      "cell_type": "code",
      "source": [
        "for id_cliente in clientes:\n",
        "    print(\"ID:\", id_cliente, \"Ingreso:\", clientes[id_cliente][\"ingreso\"])"
      ],
      "metadata": {
        "id": "1jReTnvu3kG0"
      },
      "execution_count": null,
      "outputs": []
    },
    {
      "cell_type": "code",
      "source": [
        "cliente = {\n",
        "    \"nombre\": \"Ana\",\n",
        "    \"edad\": 35,\n",
        "    \"ingreso\": 4500,\n",
        "    \"morosidades\": 0\n",
        "}"
      ],
      "metadata": {
        "id": "5_0mfMT9m_Wk"
      },
      "execution_count": null,
      "outputs": []
    },
    {
      "cell_type": "code",
      "source": [
        "for x in cliente:\n",
        "    print(x)"
      ],
      "metadata": {
        "colab": {
          "base_uri": "https://localhost:8080/"
        },
        "id": "ig59fHNHmWRZ",
        "outputId": "b261f3c6-fcfc-4b6b-852b-43e73de171c3"
      },
      "execution_count": null,
      "outputs": [
        {
          "output_type": "stream",
          "name": "stdout",
          "text": [
            "nombre\n",
            "edad\n",
            "ingreso\n",
            "morosidades\n"
          ]
        }
      ]
    },
    {
      "cell_type": "code",
      "source": [
        "for x in cliente:\n",
        "    print(cliente[x])"
      ],
      "metadata": {
        "colab": {
          "base_uri": "https://localhost:8080/"
        },
        "id": "MffWPQolm7yS",
        "outputId": "dc895cd5-00b9-43c3-8848-33c4b7fc9000"
      },
      "execution_count": null,
      "outputs": [
        {
          "output_type": "stream",
          "name": "stdout",
          "text": [
            "Ana\n",
            "35\n",
            "4500\n",
            "0\n"
          ]
        }
      ]
    },
    {
      "cell_type": "markdown",
      "source": [
        "Ejemplo 3: Contar cuántos clientes tienen ingreso > 3000"
      ],
      "metadata": {
        "id": "wQeoR3Lz3mpd"
      }
    },
    {
      "cell_type": "code",
      "source": [
        "contador = 0\n",
        "for cliente in clientes.values():\n",
        "    if cliente[\"ingreso\"] > 3000:\n",
        "        contador += 1\n",
        "print(\"Clientes con alto ingreso:\", contador)"
      ],
      "metadata": {
        "id": "BO6QccEn3pvU"
      },
      "execution_count": null,
      "outputs": []
    },
    {
      "cell_type": "markdown",
      "source": [
        "Ejemplo 4: Crear una lista con tasas ajustadas"
      ],
      "metadata": {
        "id": "Z1DZYAfj3sRL"
      }
    },
    {
      "cell_type": "code",
      "source": [
        "tasas = [0.05, 0.07, 0.08]\n",
        "tasas_ajustadas = []\n",
        "for tasa in tasas:\n",
        "    tasas_ajustadas.append(tasa + 0.01)\n",
        "print(tasas_ajustadas)"
      ],
      "metadata": {
        "id": "jerZ3Pbp3v_-"
      },
      "execution_count": null,
      "outputs": []
    },
    {
      "cell_type": "markdown",
      "source": [
        "Ejemplo 5: Reporte de evaluación"
      ],
      "metadata": {
        "id": "vDmAijzk30aP"
      }
    },
    {
      "cell_type": "code",
      "source": [
        "clientes = [\"Ana\", \"Luis\", \"Sofía\"]\n",
        "for nombre in clientes:\n",
        "    print(f\"Evaluación enviada a {nombre}\")"
      ],
      "metadata": {
        "id": "b4ah9HGJ32bn"
      },
      "execution_count": null,
      "outputs": []
    },
    {
      "cell_type": "markdown",
      "source": [
        "# Ejercicios FOR"
      ],
      "metadata": {
        "id": "Hi1GFwG1eL2x"
      }
    },
    {
      "cell_type": "markdown",
      "source": [
        "1. Usa un for con range para imprimir los números del 1 al 10.\n",
        "\n",
        "2. Dada la lista clientes = [\"Ana\", \"Luis\", \"Pedro\", \"María\"], imprime cada nombre con un mensaje:\n",
        "Cliente: <nombre>\n",
        "\n",
        "3. Dada la lista ventas = [100, 200, 300, 400], usa un for para calcular la suma total.\n",
        "\n",
        "4. Usa un for con range para imprimir la tabla del 5 (del 1 al 10)."
      ],
      "metadata": {
        "id": "4jY2meGLdoFB"
      }
    },
    {
      "cell_type": "markdown",
      "source": [],
      "metadata": {
        "id": "GdEPt1QVeKSu"
      }
    }
  ]
}