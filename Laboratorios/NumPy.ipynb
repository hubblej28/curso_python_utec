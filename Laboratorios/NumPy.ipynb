{
  "nbformat": 4,
  "nbformat_minor": 0,
  "metadata": {
    "colab": {
      "provenance": [],
      "authorship_tag": "ABX9TyP/gtVJ9VQFsBwErDG6E7PQ",
      "include_colab_link": true
    },
    "kernelspec": {
      "name": "python3",
      "display_name": "Python 3"
    },
    "language_info": {
      "name": "python"
    }
  },
  "cells": [
    {
      "cell_type": "markdown",
      "metadata": {
        "id": "view-in-github",
        "colab_type": "text"
      },
      "source": [
        "<a href=\"https://colab.research.google.com/github/hubblej28/curso_python_utec/blob/main/Laboratorios/NumPy.ipynb\" target=\"_parent\"><img src=\"https://colab.research.google.com/assets/colab-badge.svg\" alt=\"Open In Colab\"/></a>"
      ]
    },
    {
      "cell_type": "code",
      "execution_count": 1,
      "metadata": {
        "id": "risLOX4DCO7x"
      },
      "outputs": [],
      "source": [
        "# Llamar a la libreria\n",
        "\n",
        "import numpy as np"
      ]
    },
    {
      "cell_type": "code",
      "source": [
        "#Crear un arreglo en numpy\n",
        "\n",
        "arr_1 = np.array([2,4,6])\n",
        "\n",
        "print(f\"El arreglo es \\n{arr_1}\")\n",
        "print(f\"El tipo de objeto es \\n {type(arr_1)}\")"
      ],
      "metadata": {
        "colab": {
          "base_uri": "https://localhost:8080/"
        },
        "id": "C4_uzKtvjz0V",
        "outputId": "bc64f571-7ae9-49f5-89c1-c30194f6b62b"
      },
      "execution_count": 2,
      "outputs": [
        {
          "output_type": "stream",
          "name": "stdout",
          "text": [
            "El arreglo es \n",
            "[2 4 6]\n",
            "El tipo de objeto es \n",
            " <class 'numpy.ndarray'>\n"
          ]
        }
      ]
    },
    {
      "cell_type": "code",
      "source": [
        "arr_2 = np.array([[0,1,2,3],[4,5,6,7], [8,9,10,11]])\n",
        "print(f\"El arreglo es \\n{arr_2}\")\n",
        "print(f\"El tipo de objeto es {type(arr_2)}\")"
      ],
      "metadata": {
        "colab": {
          "base_uri": "https://localhost:8080/"
        },
        "id": "62i3XZ6bk9tr",
        "outputId": "5b47aaac-c121-4cae-b0ab-ad59b411e67d"
      },
      "execution_count": 3,
      "outputs": [
        {
          "output_type": "stream",
          "name": "stdout",
          "text": [
            "El arreglo es \n",
            "[[ 0  1  2  3]\n",
            " [ 4  5  6  7]\n",
            " [ 8  9 10 11]]\n",
            "El tipo de objeto es <class 'numpy.ndarray'>\n"
          ]
        }
      ]
    },
    {
      "cell_type": "code",
      "source": [
        "lista_1 = [[0,1,2,3],[4,5,6,7], [8,9,10,11]]\n",
        "print(f\"El primer elemento de la lista de listas es {lista_1[0]}\")\n",
        "\n",
        "print(\"*** Operaciones matemáticas con la lista***\")\n",
        "\n",
        "print(f\"El valor mínimo es {min(lista_1[0])}\")\n",
        "print(f\"El valor máximo es {max(lista_1[0])}\")\n",
        "print(f\"El valor total es {sum(lista_1[0])}\")\n",
        "print(f\"El valor promedio es {sum(lista_1[0])/len(lista_1[0])}\")"
      ],
      "metadata": {
        "colab": {
          "base_uri": "https://localhost:8080/"
        },
        "id": "F68Lw5V9l09u",
        "outputId": "f0a52f72-53f9-4ae3-8c76-66b014627ff2"
      },
      "execution_count": 8,
      "outputs": [
        {
          "output_type": "stream",
          "name": "stdout",
          "text": [
            "El primer elemento de la lista de listas es [0, 1, 2, 3]\n",
            "*** Operaciones matemáticas con la lista***\n",
            "El valor mínimo es 0\n",
            "El valor máximo es 3\n",
            "El valor total es 6\n",
            "El valor promedio es 1.5\n"
          ]
        }
      ]
    },
    {
      "cell_type": "code",
      "source": [
        "## Operaciones con 2 listas\n",
        "l1 = [1,2,3]\n",
        "l2 = [4,5,6]\n",
        "\n",
        "print(f\"El resultado de trabajar con dos listas y el símbolo + es \\n{l1 +l2}\\n\")\n",
        "print(f\"El resultado de sumar ambas listas es \\n{sum(l1)+sum(l2)}\")"
      ],
      "metadata": {
        "colab": {
          "base_uri": "https://localhost:8080/"
        },
        "id": "JurhFgmum6xa",
        "outputId": "ccbe7fc4-6adf-4120-9b72-5f91cea071c6"
      },
      "execution_count": 11,
      "outputs": [
        {
          "output_type": "stream",
          "name": "stdout",
          "text": [
            "El resultado de trabajar con dos listas y el símbolo + es \n",
            "[1, 2, 3, 4, 5, 6]\n",
            "\n",
            "El resultado de sumar ambas listas es \n",
            "21\n"
          ]
        }
      ]
    },
    {
      "cell_type": "code",
      "source": [
        "# Operaciones matemáticas con arreglos de NumPy\n",
        "arr_4 = np.array([1,2,3,4,5])\n",
        "arr_5 = np.array([10,20,30,40,50])\n",
        "print(f\"El primer arreglo es \\n{arr_4}\")\n",
        "print(f\"\\nEl segundo arreglo es \\n{arr_5}\")"
      ],
      "metadata": {
        "colab": {
          "base_uri": "https://localhost:8080/"
        },
        "id": "3Zzg13F1nl7S",
        "outputId": "fb39e575-ad24-41a5-8200-e3490402c459"
      },
      "execution_count": 12,
      "outputs": [
        {
          "output_type": "stream",
          "name": "stdout",
          "text": [
            "El primer arreglo es \n",
            "[1 2 3 4 5]\n",
            "\n",
            "El segundo arreglo es \n",
            "[10 20 30 40 50]\n"
          ]
        }
      ]
    },
    {
      "cell_type": "code",
      "source": [
        "arr_r1 = arr_4 + arr_5\n",
        "arr_r2 = arr_5 - arr_4\n",
        "print(f\"La suma de ambos arreglos es \\n{arr_r1}\")\n",
        "print(f\"\\nLa diferencia de ambos arreglos es \\n{arr_r2}\")"
      ],
      "metadata": {
        "colab": {
          "base_uri": "https://localhost:8080/"
        },
        "id": "OH7hwGTepq-i",
        "outputId": "e16f708c-4d30-4ab1-abf3-d80dc9c438fe"
      },
      "execution_count": 13,
      "outputs": [
        {
          "output_type": "stream",
          "name": "stdout",
          "text": [
            "La suma de ambos arreglos es \n",
            "[11 22 33 44 55]\n",
            "\n",
            "La diferencia de ambos arreglos es \n",
            "[ 9 18 27 36 45]\n"
          ]
        }
      ]
    },
    {
      "cell_type": "code",
      "source": [
        "data_array = np.array([\n",
        "    [35,10,1,3500,12000],\n",
        "    [50,25,3,6000,30000],\n",
        "    [23,2,0,50,1500],\n",
        "    [42,15,2,1000,2800]\n",
        "])\n",
        "print(data_array)"
      ],
      "metadata": {
        "colab": {
          "base_uri": "https://localhost:8080/"
        },
        "id": "zJTuif-CqCI7",
        "outputId": "db371320-a1b3-422e-b482-f315a58614df"
      },
      "execution_count": 14,
      "outputs": [
        {
          "output_type": "stream",
          "name": "stdout",
          "text": [
            "[[   35    10     1  3500 12000]\n",
            " [   50    25     3  6000 30000]\n",
            " [   23     2     0    50  1500]\n",
            " [   42    15     2  1000  2800]]\n"
          ]
        }
      ]
    },
    {
      "cell_type": "code",
      "source": [
        "type(data_array)"
      ],
      "metadata": {
        "colab": {
          "base_uri": "https://localhost:8080/"
        },
        "id": "BIRdGJIZrWVC",
        "outputId": "dfb41589-dfb5-488a-a632-54004f4fa919"
      },
      "execution_count": 15,
      "outputs": [
        {
          "output_type": "execute_result",
          "data": {
            "text/plain": [
              "numpy.ndarray"
            ]
          },
          "metadata": {},
          "execution_count": 15
        }
      ]
    }
  ]
}