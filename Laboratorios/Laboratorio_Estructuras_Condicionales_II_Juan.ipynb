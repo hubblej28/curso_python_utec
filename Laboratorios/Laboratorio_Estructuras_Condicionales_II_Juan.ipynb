{
  "nbformat": 4,
  "nbformat_minor": 0,
  "metadata": {
    "colab": {
      "provenance": [],
      "include_colab_link": true
    },
    "kernelspec": {
      "name": "python3",
      "display_name": "Python 3"
    },
    "language_info": {
      "name": "python"
    }
  },
  "cells": [
    {
      "cell_type": "markdown",
      "metadata": {
        "id": "view-in-github",
        "colab_type": "text"
      },
      "source": [
        "<a href=\"https://colab.research.google.com/github/hubblej28/curso_python_utec/blob/main/Laboratorios/Laboratorio_Estructuras_Condicionales_II_Juan.ipynb\" target=\"_parent\"><img src=\"https://colab.research.google.com/assets/colab-badge.svg\" alt=\"Open In Colab\"/></a>"
      ]
    },
    {
      "cell_type": "markdown",
      "source": [
        "**Calentamiento -  Estructuras condicionales 1**\n",
        "\n",
        "Formar 4 grupos y evaluar un ejercicio, de acuerdo a la indicación"
      ],
      "metadata": {
        "id": "6qqpHgyGmo5l"
      }
    },
    {
      "cell_type": "markdown",
      "source": [
        "1. Evaluar si una persona puede solicitar un crédito personal: ingreso ≥ 1500.\n",
        "\n",
        "2. Determinar si un cliente recibe bono: si es \"premium\", bono de 10%; si es \"normal\", 5%.\n",
        "3. Validar si una deuda está en riesgo: bajo (<30%), medio (30-50%), alto (>50%).\n",
        "4. Aprobar un préstamo solo si score ≥ 700 y deuda ≤ 40% del ingreso."
      ],
      "metadata": {
        "id": "DABBdDp-mwE-"
      }
    },
    {
      "cell_type": "markdown",
      "source": [
        "Resolución 3"
      ],
      "metadata": {
        "id": "FxKEpdr-3P-J"
      }
    },
    {
      "cell_type": "code",
      "source": [
        "#Declaración de variables\n",
        "ingreso = float(input(\"Coloque su ingreso mensual:\"))\n",
        "deuda = float(input(\"Coloque su deuda mensual:\"))\n",
        "\n",
        "#Cálculo de la deuda en riesgo\n",
        "Ratio_deuda_en_riesgo = (deuda/ingreso)*100\n",
        "\n",
        "#Clasificación de riesgo\n",
        "if Ratio_deuda_en_riesgo < 30:\n",
        "  print(\"Su deuda está en riesgo bajo\")\n",
        "elif 30 <= Ratio_deuda_en_riesgo <= 50:\n",
        "  print(\"Su deuda está en riesgo medio\")\n",
        "else:\n",
        "  print(\"Su deuda está en riesgo alto\")\n"
      ],
      "metadata": {
        "colab": {
          "base_uri": "https://localhost:8080/"
        },
        "id": "g875lg5X3OQ5",
        "outputId": "1fb42c39-cc48-4b79-c8b6-ad99db65c0b5"
      },
      "execution_count": null,
      "outputs": [
        {
          "output_type": "stream",
          "name": "stdout",
          "text": [
            "Coloque su ingreso mensual:1300\n",
            "Coloque su deuda mensual:800\n",
            "Su deuda está en riesgo alto\n"
          ]
        }
      ]
    },
    {
      "cell_type": "markdown",
      "source": [
        "**Resolución del Quiz**\n",
        "\n",
        "Usamos los 4 grupos previos y se resuelve en grupo todos los ejercicios"
      ],
      "metadata": {
        "id": "QGvvRVSLnPXt"
      }
    },
    {
      "cell_type": "markdown",
      "source": [
        "Ejercicio 1"
      ],
      "metadata": {
        "id": "5Z7tVMgJBGvw"
      }
    },
    {
      "cell_type": "code",
      "source": [
        "ingreso = 4000\n",
        "score = 750\n",
        "\n",
        "if ingreso >= 5000 and score >= 700:\n",
        "    print(\"Aprobado\")\n",
        "else:\n",
        "    print(\"Rechazado\")"
      ],
      "metadata": {
        "colab": {
          "base_uri": "https://localhost:8080/"
        },
        "id": "hZRdXS9MBGC5",
        "outputId": "042b9f38-cc52-45f5-a1db-d494b3e11fa4"
      },
      "execution_count": null,
      "outputs": [
        {
          "output_type": "stream",
          "name": "stdout",
          "text": [
            "Rechazado\n"
          ]
        }
      ]
    },
    {
      "cell_type": "markdown",
      "source": [
        "Ejercicio 2"
      ],
      "metadata": {
        "id": "_sJW7V3EBqTe"
      }
    },
    {
      "cell_type": "code",
      "source": [],
      "metadata": {
        "id": "nQBfzZMvBvic"
      },
      "execution_count": null,
      "outputs": []
    },
    {
      "cell_type": "code",
      "source": [
        "cliente = \"premium\"\n",
        "ingreso = 5800\n",
        "\n",
        "if cliente == \"premium\" and ingreso > 5000:\n",
        "    x = 2\n",
        "else:\n",
        "    print(\"tasa_2\")\n",
        "\n"
      ],
      "metadata": {
        "id": "hIgavc_0FBiX"
      },
      "execution_count": null,
      "outputs": []
    },
    {
      "cell_type": "code",
      "source": [
        "tasa"
      ],
      "metadata": {
        "colab": {
          "base_uri": "https://localhost:8080/"
        },
        "id": "1WjRhQ9WH-JL",
        "outputId": "55aa3b0d-3d12-4d48-fb59-b23c1a345cbf"
      },
      "execution_count": null,
      "outputs": [
        {
          "output_type": "execute_result",
          "data": {
            "text/plain": [
              "0.12"
            ]
          },
          "metadata": {},
          "execution_count": 11
        }
      ]
    },
    {
      "cell_type": "code",
      "source": [
        "tem"
      ],
      "metadata": {
        "colab": {
          "base_uri": "https://localhost:8080/",
          "height": 144
        },
        "id": "aDjY3d9HHj8F",
        "outputId": "758bffd3-c9a0-44fd-c7e9-bdb6baf131e8"
      },
      "execution_count": null,
      "outputs": [
        {
          "output_type": "error",
          "ename": "NameError",
          "evalue": "name 'tem' is not defined",
          "traceback": [
            "\u001b[0;31m---------------------------------------------------------------------------\u001b[0m",
            "\u001b[0;31mNameError\u001b[0m                                 Traceback (most recent call last)",
            "\u001b[0;32m/tmp/ipython-input-3530923701.py\u001b[0m in \u001b[0;36m<cell line: 0>\u001b[0;34m()\u001b[0m\n\u001b[0;32m----> 1\u001b[0;31m \u001b[0mtem\u001b[0m\u001b[0;34m\u001b[0m\u001b[0;34m\u001b[0m\u001b[0m\n\u001b[0m",
            "\u001b[0;31mNameError\u001b[0m: name 'tem' is not defined"
          ]
        }
      ]
    },
    {
      "cell_type": "code",
      "source": [
        "cliente = \"premium\"\n",
        "ingreso = 4500\n",
        "\n",
        "if cliente == \"premium\" and ingreso > 5000:\n",
        "    tasa = 0.08\n",
        "else:\n",
        "    tasa = 0.12"
      ],
      "metadata": {
        "id": "2BFga8GSFVVp"
      },
      "execution_count": null,
      "outputs": []
    },
    {
      "cell_type": "markdown",
      "source": [
        "**Challenge Individual**\n",
        "\n",
        "Resuleve los dos ejercicios y coloca tu resultado en el drive indicado en clase"
      ],
      "metadata": {
        "id": "TZNlFWcznnD3"
      }
    },
    {
      "cell_type": "markdown",
      "source": [
        "1. Determinar si un cliente puede obtener crédito de auto (ingreso ≥ 4000 y deuda ≤ 35%)\n",
        "\n",
        "2. Asignar un tipo de tarjeta según score: Saphire (≥750), Signature (≥650), Light (otro caso)"
      ],
      "metadata": {
        "id": "fqR38hF7oM_W"
      }
    },
    {
      "cell_type": "markdown",
      "source": [
        "**Estructuras Condicionales II**"
      ],
      "metadata": {
        "id": "xhh4okHLrzmN"
      }
    },
    {
      "cell_type": "markdown",
      "source": [
        "Un pastelero quiere asegurarse de que se tienen todos los ingredientes básicos antes de preparar galletas: harina, azúcar y huevos.\n",
        "\n",
        "Si falta alguno, debe mostrar qué ingrediente falta.\n",
        "Solo si están todos, mostrar: \"Puedes comenzar a preparar las galletas\".\n"
      ],
      "metadata": {
        "id": "nHfAJ_tRtM_I"
      }
    },
    {
      "cell_type": "code",
      "source": [
        "harina = False\n",
        "azucar = True\n",
        "huevos = True\n",
        "\n",
        "if harina:\n",
        "    if azucar:\n",
        "        if huevos:\n",
        "            print(\"Puedes comenzar a preparar las galletas\")\n",
        "        else:\n",
        "            print(\"Faltan huevos, no se puede iniciar\")\n",
        "    else:\n",
        "        print(\"Falta azúcar, no se puede iniciar\")\n",
        "else:\n",
        "    print(\"Falta harina, no se puede iniciar\")\n"
      ],
      "metadata": {
        "id": "dgVURgSdrzF1",
        "colab": {
          "base_uri": "https://localhost:8080/"
        },
        "outputId": "acdfeeaf-c61b-43b6-c234-32e02d8a03fb"
      },
      "execution_count": null,
      "outputs": [
        {
          "output_type": "stream",
          "name": "stdout",
          "text": [
            "Falta harina, no se puede iniciar\n"
          ]
        }
      ]
    },
    {
      "cell_type": "markdown",
      "source": [
        "Para hornear galletas, se debe verificar lo siguiente:\n",
        "1. El horno debe estar encendido.\n",
        "2. La temperatura debe ser al menos 180 °C.\n",
        "3. El tiempo debe ser mínimo 15 minutos.\n",
        "4. Si todas las condiciones se cumplen → mostrar \"Las galletas están listas\".\n",
        "5. Si alguna no se cumple → indicar exactamente qué falta (ejemplo: horno apagado, baja temperatura, poco tiempo)."
      ],
      "metadata": {
        "id": "NMx_wxC6tlCy"
      }
    },
    {
      "cell_type": "code",
      "source": [
        "horno_encendido = True\n",
        "temperatura = 180  # en grados\n",
        "tiempo = 15  # en minutos\n",
        "\n",
        "if horno_encendido:\n",
        "    if temperatura >= 180:\n",
        "        if tiempo >= 15:\n",
        "            print(\"Las galletas están listas\")\n",
        "        else:\n",
        "            print(\"Se necesita más tiempo\")\n",
        "    else:\n",
        "        print(\"El horno no está lo suficientemente caliente\")\n",
        "else:\n",
        "    print(\"El horno está apagado\")"
      ],
      "metadata": {
        "id": "Qre-5WHpsmlS"
      },
      "execution_count": null,
      "outputs": []
    },
    {
      "cell_type": "markdown",
      "source": [
        "Una fábrica de galletas clasifica la calidad verificando tres aspectos:\n",
        "1. El color debe ser \"dorado\".\n",
        "2. La textura debe ser \"crujiente\".\n",
        "3. El sabor debe ser \"dulce\".\n",
        "    * Si las tres condiciones se cumplen → mostrar \"Las galletas pasaron el\n",
        "control de calidad\".\n",
        "    * En caso contrario → mostrar cuál característica no cumple el estándar."
      ],
      "metadata": {
        "id": "ha-v4FPit031"
      }
    },
    {
      "cell_type": "code",
      "source": [
        "color = \"dorado\"\n",
        "textura = \"crujiente\"\n",
        "sabor = \"dulce\"\n",
        "\n",
        "if color == \"dorado\":\n",
        "    if textura == \"crujiente\":\n",
        "        if sabor == \"dulce\":\n",
        "            print(\"Las galletas pasaron el control de calidad\")\n",
        "        else:\n",
        "            print(\"El sabor no es adecuado\")\n",
        "    else:\n",
        "        print(\"La textura no es adecuada\")\n",
        "else:\n",
        "    print(\"El color no es adecuado\")\n"
      ],
      "metadata": {
        "id": "RPG_U4Tbsx55"
      },
      "execution_count": null,
      "outputs": []
    },
    {
      "cell_type": "code",
      "execution_count": null,
      "metadata": {
        "id": "d30vLaxSmfgo"
      },
      "outputs": [],
      "source": [
        "cliente = \"premium\"\n",
        "ingreso = 4500\n",
        "\n",
        "if cliente == \"premium\" and ingreso > 5000:\n",
        "    tasa = 0.08\n",
        "else:\n",
        "    tasa = 0.12\n",
        "\n",
        "print(tasa)"
      ]
    },
    {
      "cell_type": "markdown",
      "source": [
        "Ejercicios de práctica"
      ],
      "metadata": {
        "id": "w2osARxYUply"
      }
    },
    {
      "cell_type": "markdown",
      "source": [
        "1. Clasificación de glucosa en sangre:\n",
        "* Si < 100 → “Normal”\n",
        "* Entre 100 y 125 → “Prediabetes”\n",
        "* ≥ 126 → “Diabetes”."
      ],
      "metadata": {
        "id": "w0TOdEggUxPx"
      }
    },
    {
      "cell_type": "code",
      "source": [
        "nivel_glucosa = int(input(\"Ingrese nivel de glucosa en la sangre: \"))\n",
        "if nivel_glucosa >= 126:\n",
        "  print(\"Diabetes\")\n",
        "elif nivel_glucosa >= 100:\n",
        "  print(\"Prediabetes\")\n",
        "else:\n",
        "  print(\"Normal\")"
      ],
      "metadata": {
        "id": "__4viErABcph"
      },
      "execution_count": null,
      "outputs": []
    },
    {
      "cell_type": "markdown",
      "source": [
        "2. Examen de colesterol:\n",
        "* Si colesterol < 200 y triglicéridos < 150 → “Perfil sano”.\n",
        "* Si uno de los dos está en rango límite → “Perfil en riesgo”.\n",
        "* Si ambos están altos → “Perfil crítico”."
      ],
      "metadata": {
        "id": "BEM2eatXU2ZZ"
      }
    },
    {
      "cell_type": "markdown",
      "source": [
        "3. Prueba de COVID-19:\n",
        "* Si resultado PCR es positivo y síntomas = “sí” → “Caso confirmado”.\n",
        "* Si PCR positivo y síntomas = “no” → “Caso asintomático”.\n",
        "* Si PCR negativo → “Descartado”."
      ],
      "metadata": {
        "id": "EdioxFeaU--S"
      }
    },
    {
      "cell_type": "markdown",
      "source": [
        "4. Clasificación de pacientes según edad y presión arterial:\n",
        "* Menor de 40 y presión < 120 → “Normal”.\n",
        "* Mayor o igual a 40 y presión ≥ 140 → “Hipertensión”.\n",
        "* Otros casos → “Revisar con médico”."
      ],
      "metadata": {
        "id": "gdc2l8IDVK4i"
      }
    },
    {
      "cell_type": "markdown",
      "source": [
        "5. Clasificación de campaña según clics y conversiones:\n",
        "* Si CTR > 5% y conversiones > 100 → “Campaña exitosa”.\n",
        "* Si CTR > 5% y conversiones ≤ 100 → “Optimizar ventas”.\n",
        "* Si CTR < 2% → “Campaña ineficaz”."
      ],
      "metadata": {
        "id": "3GF7eS-hVRuV"
      }
    },
    {
      "cell_type": "markdown",
      "source": [
        "6. Clasificación de clientes según engagement:\n",
        "* Likes > 500 y shares > 100 → “Alta interacción”.\n",
        "* Likes > 200 y shares entre 50 y 100 → “Media interacción”.\n",
        "* Menos que eso → “Baja interacción”.\n",
        "\n",
        "\n",
        "7. Segmentación de usuarios por visitas web:\n",
        "* Si visitas ≥ 20 y compras ≥ 2 → “Cliente recurrente”.\n",
        "* Si visitas ≥ 10 pero sin compras → “Cliente curioso”.\n",
        "* Menos de 10 visitas → “Prospecto frío”."
      ],
      "metadata": {
        "id": "wC-_3kiJVgJl"
      }
    },
    {
      "cell_type": "markdown",
      "source": [
        "8. Clasificación de equipos de protección:\n",
        "* Si turno = “noche” y zona = “profunda” → “Equipo completo obligatorio”.\n",
        "* Si turno = “día” y zona = “superficie” → “Equipo básico”.\n",
        "* Otros casos → “Equipo estándar”.\n",
        "\n",
        "\n",
        "9. Productividad de un minero:\n",
        "* Si extrae ≥ 100 kg/día → “Alto rendimiento”.\n",
        "* Si entre 50 y 100 → “Rendimiento normal”.\n",
        "* Si < 50 → “Rendimiento bajo”.\n",
        "\n",
        "\n",
        "10. Permiso de acceso a zona peligrosa:\n",
        "* Si trabajador tiene experiencia > 5 años y capacitación especial → acceso permitido.\n",
        "* Si experiencia < 5 años pero capacitación = sí → acceso con supervisión.\n",
        "* Caso contrario → acceso denegado."
      ],
      "metadata": {
        "id": "trGrq5uZVv1a"
      }
    },
    {
      "cell_type": "markdown",
      "source": [
        "11. Clasificación de cliente por compras:\n",
        "* Si compra > 1000 soles y frecuencia ≥ 5 → “Cliente VIP”.\n",
        "* Si compra > 500 y frecuencia entre 2 y 4 → “Cliente frecuente”.\n",
        "* Caso contrario → “Cliente ocasional”.\n",
        "\n",
        "\n",
        "12. Evaluación de ventas mensuales:\n",
        "* Si ventas ≥ meta y devoluciones ≤ 5% → “Meta alcanzada con éxito”.\n",
        "* Si ventas ≥ meta pero devoluciones > 5% → “Meta con problemas de calidad”.\n",
        "* Si ventas < meta → “Meta no alcanzada”.\n",
        "\n",
        "\n",
        "13. Promoción de descuentos:\n",
        "* Si cliente es “nuevo” y compra > 200 → descuento 20%.\n",
        "* Si cliente es “frecuente” y compra > 500 → descuento 15%.\n",
        "* Caso contrario → sin descuento.\n",
        "\n",
        "\n",
        "14. Clasificación de producto más vendido:\n",
        "* Si unidades vendidas ≥ 1000 y margen ≥ 20% → “Producto estrella”.\n",
        "* Si unidades ≥ 500 y margen < 20% → “Producto de volumen”.\n",
        "* Menos ventas → “Producto de baja rotación”."
      ],
      "metadata": {
        "id": "3ooTqCVYWFaT"
      }
    }
  ]
}