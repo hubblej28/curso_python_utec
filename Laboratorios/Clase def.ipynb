{
  "nbformat": 4,
  "nbformat_minor": 0,
  "metadata": {
    "colab": {
      "provenance": [],
      "authorship_tag": "ABX9TyOBILNRA5MFMkRSbdNFUzM5",
      "include_colab_link": true
    },
    "kernelspec": {
      "name": "python3",
      "display_name": "Python 3"
    },
    "language_info": {
      "name": "python"
    }
  },
  "cells": [
    {
      "cell_type": "markdown",
      "metadata": {
        "id": "view-in-github",
        "colab_type": "text"
      },
      "source": [
        "<a href=\"https://colab.research.google.com/github/hubblej28/curso_python_utec/blob/main/Laboratorios/Clase%20def.ipynb\" target=\"_parent\"><img src=\"https://colab.research.google.com/assets/colab-badge.svg\" alt=\"Open In Colab\"/></a>"
      ]
    },
    {
      "cell_type": "code",
      "execution_count": 4,
      "metadata": {
        "colab": {
          "base_uri": "https://localhost:8080/"
        },
        "id": "TaXrgCkr2Zle",
        "outputId": "53fc21a5-bc1d-403d-d6bb-03049a466f1b"
      },
      "outputs": [
        {
          "output_type": "stream",
          "name": "stdout",
          "text": [
            "Retiro (0 para salir):0\n",
            "Fin. Saldo: 100\n",
            "Retiro (0 para salir):60\n",
            "Fin. Saldo: 40\n",
            "Retiro (0 para salir):90\n",
            "Saldo insuficiente\n"
          ]
        }
      ],
      "source": [
        "saldo = 100\n",
        "while True:\n",
        "  retiro = int(input(\"Retiro (0 para salir):\"))\n",
        "  saldo -= retiro\n",
        "  if saldo <= 0:\n",
        "    break\n",
        "  print(\"Fin. Saldo:\", saldo)\n",
        "\n",
        "print(\"Saldo insuficiente\")"
      ]
    },
    {
      "cell_type": "code",
      "source": [
        "def sumar_todos(*args):\n",
        "    return sum(args)\n",
        "\n",
        "print(sumar_todos(1,2,5))"
      ],
      "metadata": {
        "colab": {
          "base_uri": "https://localhost:8080/"
        },
        "id": "ayacEWpL87mj",
        "outputId": "7f5f2583-0147-4e46-9b77-8053e0e0518e"
      },
      "execution_count": 6,
      "outputs": [
        {
          "output_type": "stream",
          "name": "stdout",
          "text": [
            "8\n"
          ]
        }
      ]
    },
    {
      "cell_type": "code",
      "source": [
        "#lista que contiene tuplas\n",
        "clientes = [(1500, 700), (1800, 2000), (3000, 100)]"
      ],
      "metadata": {
        "id": "jwxA42kXI_Bw"
      },
      "execution_count": 7,
      "outputs": []
    },
    {
      "cell_type": "markdown",
      "source": [
        "Un **kwarg guarda diccionarios y sus valores"
      ],
      "metadata": {
        "id": "cbdghUqsJLIp"
      }
    },
    {
      "cell_type": "code",
      "source": [
        "def mostrar_info(**kwargs):\n",
        "  for clave, valor in kwargs.items():\n",
        "      print(f\"{clave}:{valor}\")\n",
        "\n",
        "mostrar_info(nombre=\"Alberto\", edad = 31, deporte = \"running\")"
      ],
      "metadata": {
        "colab": {
          "base_uri": "https://localhost:8080/"
        },
        "id": "NLrsF9CyJPEI",
        "outputId": "86f40525-fe49-4e16-8ecc-3b48d7122c84"
      },
      "execution_count": 8,
      "outputs": [
        {
          "output_type": "stream",
          "name": "stdout",
          "text": [
            "nombre:Alberto\n",
            "edad:31\n",
            "deporte:running\n"
          ]
        }
      ]
    },
    {
      "cell_type": "code",
      "source": [
        "def mostrar_info2(**kwargs):\n",
        "    return[f\"{clave}:{valor}\" for clave, valor in kwargs.items()]\n",
        "mostrar_info2(nombre=\"Alberto\", edad = 31, deporte = \"running\")"
      ],
      "metadata": {
        "colab": {
          "base_uri": "https://localhost:8080/"
        },
        "id": "j7rXoL6mLbng",
        "outputId": "66d16c35-8c69-4c35-ea6a-4d3980c989c9"
      },
      "execution_count": 11,
      "outputs": [
        {
          "output_type": "execute_result",
          "data": {
            "text/plain": [
              "['nombre:Alberto', 'edad:31', 'deporte:running']"
            ]
          },
          "metadata": {},
          "execution_count": 11
        }
      ]
    },
    {
      "cell_type": "code",
      "source": [
        "def funcion_mixta(*args, **kwargs):\n",
        "    print(\"Posicionales:\", args)\n",
        "    print(\"Nombrados:\", kwargs)\n",
        "\n",
        "funcion_mixta(10, 20, 30, nombre=\"Moni\", deporte=\"tennis\")"
      ],
      "metadata": {
        "colab": {
          "base_uri": "https://localhost:8080/"
        },
        "id": "jaurs32zMpgA",
        "outputId": "a11accea-aaac-4668-985d-0f1fa9264bdf"
      },
      "execution_count": 13,
      "outputs": [
        {
          "output_type": "stream",
          "name": "stdout",
          "text": [
            "Posicionales: (10, 20, 30)\n",
            "Nombrados: {'nombre': 'Moni', 'deporte': 'tennis'}\n"
          ]
        }
      ]
    },
    {
      "cell_type": "code",
      "source": [
        "mensual = float(input(\"Ingrese ingreso mensual: \"))\n",
        "def ingreso_anual(mensual):\n",
        "    return(mensual*12)\n",
        "print (\"Ingreso anual: \", ingreso_anual(mensual))"
      ],
      "metadata": {
        "colab": {
          "base_uri": "https://localhost:8080/"
        },
        "id": "lsywEeVPPFrf",
        "outputId": "82c086e7-ada0-4e22-dc85-12e6827ed9e7"
      },
      "execution_count": 17,
      "outputs": [
        {
          "output_type": "stream",
          "name": "stdout",
          "text": [
            "Ingrese ingreso mensual: 10\n",
            "Ingreso anual:  120.0\n"
          ]
        }
      ]
    },
    {
      "cell_type": "code",
      "source": [
        "def cpc(gasto, clics):\n",
        "    if clics == 0:\n",
        "      print(\"0\")\n",
        "    else:\n",
        "      print(cpc)\n",
        "    return(gasto/clics)\n",
        "\n",
        ""
      ],
      "metadata": {
        "id": "iJhI2_u9P0OX"
      },
      "execution_count": 31,
      "outputs": []
    },
    {
      "cell_type": "code",
      "source": [
        "cpc(100, 2)"
      ],
      "metadata": {
        "colab": {
          "base_uri": "https://localhost:8080/"
        },
        "id": "1layU11iSsNQ",
        "outputId": "0d5e7392-a167-48f1-a996-e6379e6c12c8"
      },
      "execution_count": 33,
      "outputs": [
        {
          "output_type": "stream",
          "name": "stdout",
          "text": [
            "<function cpc at 0x7f1703a6e8e0>\n"
          ]
        },
        {
          "output_type": "execute_result",
          "data": {
            "text/plain": [
              "50.0"
            ]
          },
          "metadata": {},
          "execution_count": 33
        }
      ]
    },
    {
      "cell_type": "code",
      "source": [
        "def concat_ws(sep, *palabras):\n",
        "    return(sep.join(palabras))\n",
        "concat_ws(\"Hola\", \"soy\", \"Juan\")\n"
      ],
      "metadata": {
        "colab": {
          "base_uri": "https://localhost:8080/",
          "height": 36
        },
        "id": "sz_hJpNTTVbX",
        "outputId": "56570989-bc92-4c8b-a615-c86f237e5321"
      },
      "execution_count": 52,
      "outputs": [
        {
          "output_type": "execute_result",
          "data": {
            "text/plain": [
              "'soyHolaJuan'"
            ],
            "application/vnd.google.colaboratory.intrinsic+json": {
              "type": "string"
            }
          },
          "metadata": {},
          "execution_count": 52
        }
      ]
    },
    {
      "cell_type": "code",
      "source": [
        "def a(**opciones):\n",
        "    return(opciones)\n",
        "\n",
        "a(nombre = \"Juan\", apellido = \"Díaz\", profesion = \"Ingeniero\")"
      ],
      "metadata": {
        "colab": {
          "base_uri": "https://localhost:8080/"
        },
        "id": "3_epFEPKXhQ_",
        "outputId": "b6db9d70-c54f-4722-ef18-2ede34cae6fc"
      },
      "execution_count": 55,
      "outputs": [
        {
          "output_type": "execute_result",
          "data": {
            "text/plain": [
              "{'nombre': 'Juan', 'apellido': 'Díaz', 'profesion': 'Ingeniero'}"
            ]
          },
          "metadata": {},
          "execution_count": 55
        }
      ]
    }
  ]
}