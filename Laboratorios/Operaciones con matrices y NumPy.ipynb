{
  "nbformat": 4,
  "nbformat_minor": 0,
  "metadata": {
    "colab": {
      "provenance": [],
      "authorship_tag": "ABX9TyPiGgBf03lXnV/TJV2fM6U0",
      "include_colab_link": true
    },
    "kernelspec": {
      "name": "python3",
      "display_name": "Python 3"
    },
    "language_info": {
      "name": "python"
    }
  },
  "cells": [
    {
      "cell_type": "markdown",
      "metadata": {
        "id": "view-in-github",
        "colab_type": "text"
      },
      "source": [
        "<a href=\"https://colab.research.google.com/github/hubblej28/curso_python_utec/blob/main/Laboratorios/Operaciones%20con%20matrices%20y%20NumPy.ipynb\" target=\"_parent\"><img src=\"https://colab.research.google.com/assets/colab-badge.svg\" alt=\"Open In Colab\"/></a>"
      ]
    },
    {
      "cell_type": "code",
      "execution_count": 1,
      "metadata": {
        "id": "uckDkDXyGwDu"
      },
      "outputs": [],
      "source": [
        "import numpy as np"
      ]
    },
    {
      "cell_type": "code",
      "source": [
        "arreglo_2 = np.array([11,12,13,14])\n",
        "arreglo_3 = np.array([1,2,3,4])\n",
        "\n",
        "arreglo_4 = arreglo_2 + arreglo_3\n",
        "\n",
        "print(f\"El resultado de la suma de ambos arreglos es \\n{arreglo_4}\")"
      ],
      "metadata": {
        "colab": {
          "base_uri": "https://localhost:8080/"
        },
        "id": "5Y5zu5_BILTR",
        "outputId": "e5b878c9-72fb-4a80-aa8e-3eaa12741ebb"
      },
      "execution_count": 3,
      "outputs": [
        {
          "output_type": "stream",
          "name": "stdout",
          "text": [
            "El resultado de la suma de ambos arreglos es \n",
            "[12 14 16 18]\n"
          ]
        }
      ]
    },
    {
      "cell_type": "code",
      "source": [
        "# len() cuantifica la cantidad de elementos en una lista\n",
        "# size cuantifica la cantidad de elementos en un arreglo NumPy\n",
        "\n",
        "if arreglo_2.size == arreglo_3.size:\n",
        "  arreglo_4 = np.add(arreglo_2,arreglo_3)\n",
        "\n",
        "else:\n",
        "  print(\"Los arreglos tienen distintos tamaños\")\n",
        "print(f\"La suma de los arreglos es \\n{arreglo_4}\")"
      ],
      "metadata": {
        "colab": {
          "base_uri": "https://localhost:8080/"
        },
        "id": "HsRRHtyrImSn",
        "outputId": "ad7fa8d0-9945-4673-cc8c-db1c11c3edea"
      },
      "execution_count": 8,
      "outputs": [
        {
          "output_type": "stream",
          "name": "stdout",
          "text": [
            "La suma de los arreglos es \n",
            "[12 14 16 18]\n"
          ]
        }
      ]
    },
    {
      "cell_type": "code",
      "source": [
        "#Multiplicacion de matrices\n",
        "\n",
        "mat_A = np.array([[1,1],[0,1]])\n",
        "mat_B = np.array([[2,0],[3,4]])\n",
        "\n",
        "print(f\"La primera matriz a multiplicar es \\n{mat_A}\")\n",
        "print(f\"\\nLa segunda matriz a multiplicar es \\n{mat_B}\")"
      ],
      "metadata": {
        "colab": {
          "base_uri": "https://localhost:8080/"
        },
        "id": "HagkZ78OJ3rz",
        "outputId": "64b0646b-6c97-4e23-96f7-cd1ad2740350"
      },
      "execution_count": 12,
      "outputs": [
        {
          "output_type": "stream",
          "name": "stdout",
          "text": [
            "La primera matriz a multiplicar es \n",
            "[[1 1]\n",
            " [0 1]]\n",
            "\n",
            "La segunda matriz a multiplicar es \n",
            "[[2 0]\n",
            " [3 4]]\n"
          ]
        }
      ]
    },
    {
      "cell_type": "code",
      "source": [
        "#Para multiplicar matrices es importante conocer el tamaño de sus dimensiones\n",
        "#Verificar el tamaño de las dimensiones de las matrices\n",
        "\n",
        "t_dim_mA = mat_A.shape\n",
        "t_dim_mB = mat_B.shape\n",
        "\n",
        "print(f\"El tamaño de las dimensiones de la matriz A es {t_dim_mA}\")\n",
        "print(f\"El tamaño de las dimensiones de la matriz B es {t_dim_mB}\")"
      ],
      "metadata": {
        "colab": {
          "base_uri": "https://localhost:8080/"
        },
        "id": "omqxkqZPKkZr",
        "outputId": "609a2665-87f1-4dc9-826e-eb3813e67d2a"
      },
      "execution_count": 13,
      "outputs": [
        {
          "output_type": "stream",
          "name": "stdout",
          "text": [
            "El tamaño de las dimensiones de la matriz A es (2, 2)\n",
            "El tamaño de las dimensiones de la matriz B es (2, 2)\n"
          ]
        }
      ]
    },
    {
      "cell_type": "code",
      "source": [
        "#Verificar las dimensiones de ambas matrices\n",
        "if t_dim_mA[1] == t_dim_mB[0]:\n",
        "  mat_C = np.dot(mat_A,mat_B)\n",
        "  print(f\"El resultado de la multiplicación de ambas matrices es: \\n{mat_C}\")\n",
        "else:\n",
        "  print(\"No es posible multiplicar las matrices\")"
      ],
      "metadata": {
        "colab": {
          "base_uri": "https://localhost:8080/"
        },
        "id": "B2psPGCkLMw3",
        "outputId": "881516bd-0ec2-478b-f361-fb942a4c1750"
      },
      "execution_count": 14,
      "outputs": [
        {
          "output_type": "stream",
          "name": "stdout",
          "text": [
            "El resultado de la multiplicación de ambas matrices es: \n",
            "[[5 4]\n",
            " [3 4]]\n"
          ]
        }
      ]
    },
    {
      "cell_type": "markdown",
      "source": [
        "Ejemplo 02"
      ],
      "metadata": {
        "id": "eYn6YkWSOLK3"
      }
    },
    {
      "cell_type": "code",
      "source": [
        "m_A = np.array([[1,0,2],[3,1,1],[2,1,1]])\n",
        "m_B = np.array([[1,0],[3,1],[2,1]])\n",
        "\n",
        "print(f\"La matriz A es \\n{m_A}\")\n",
        "print(f\"\\nLa matriz B es \\n{m_B}\")"
      ],
      "metadata": {
        "colab": {
          "base_uri": "https://localhost:8080/"
        },
        "id": "TMF5ds9KOKg6",
        "outputId": "8a378e2a-4a45-4a62-8d55-e3b561366cba"
      },
      "execution_count": 15,
      "outputs": [
        {
          "output_type": "stream",
          "name": "stdout",
          "text": [
            "La matriz A es \n",
            "[[1 0 2]\n",
            " [3 1 1]\n",
            " [2 1 1]]\n",
            "\n",
            "La matriz B es \n",
            "[[1 0]\n",
            " [3 1]\n",
            " [2 1]]\n"
          ]
        }
      ]
    },
    {
      "cell_type": "code",
      "source": [
        "#Para multiplicar matrices es importante conocer el tamaño de sus dimensiones\n",
        "#Verificar el tamaño de las dimensiones de las matrices\n",
        "\n",
        "t_dim_m_A = m_A.shape\n",
        "t_dim_m_B = m_B.shape\n",
        "\n",
        "print(f\"El tamaño de las dimensiones de la matriz A es {t_dim_m_A}\")\n",
        "print(f\"El tamaño de las dimensiones de la matriz B es {t_dim_m_B}\")"
      ],
      "metadata": {
        "colab": {
          "base_uri": "https://localhost:8080/"
        },
        "id": "P69GNohQOwQg",
        "outputId": "a3ab44d5-1130-493e-ec13-1533784d0313"
      },
      "execution_count": 16,
      "outputs": [
        {
          "output_type": "stream",
          "name": "stdout",
          "text": [
            "El tamaño de las dimensiones de la matriz A es (3, 3)\n",
            "El tamaño de las dimensiones de la matriz B es (3, 2)\n"
          ]
        }
      ]
    },
    {
      "cell_type": "code",
      "source": [
        "#Verificar las dimensiones de ambas matrices\n",
        "if t_dim_m_A[1] == t_dim_m_B[0]:\n",
        "  mat_C = np.dot(m_A,m_B)\n",
        "  print(f\"El resultado de la multiplicación de ambas matrices es: \\n{mat_C}\")\n",
        "else:\n",
        "  print(\"No es posible multiplicar las matrices\")"
      ],
      "metadata": {
        "colab": {
          "base_uri": "https://localhost:8080/"
        },
        "id": "eH-lYyFSPV8u",
        "outputId": "0b48a51e-0b86-4d3a-9ac4-44a927d7ee34"
      },
      "execution_count": 17,
      "outputs": [
        {
          "output_type": "stream",
          "name": "stdout",
          "text": [
            "El resultado de la multiplicación de ambas matrices es: \n",
            "[[5 2]\n",
            " [8 2]\n",
            " [7 2]]\n"
          ]
        }
      ]
    },
    {
      "cell_type": "markdown",
      "source": [
        "Ejemplo 03"
      ],
      "metadata": {
        "id": "-BK0x0HMQfrT"
      }
    },
    {
      "cell_type": "code",
      "source": [
        "#Crear un arreglo con la función .arange()\n",
        "mat_7 = np.arange(15)\n",
        "\n",
        "print(f\"El arreglo es: \\n{mat_7}\")\n",
        "print(f\"La matriz resultante tiene {mat_7.ndim} dimensiones\")\n",
        "print(f\"El tamaño de las dimensiones es: \\n{mat_7.shape}\")\n",
        "print(f\"La cantidad de elementos de la matriz es {mat_7.size}\")"
      ],
      "metadata": {
        "colab": {
          "base_uri": "https://localhost:8080/"
        },
        "id": "FSz7ZRbZQhvd",
        "outputId": "b58d898e-a242-45e0-d604-9c1c2f6f4476"
      },
      "execution_count": 23,
      "outputs": [
        {
          "output_type": "stream",
          "name": "stdout",
          "text": [
            "El arreglo es: \n",
            "[ 0  1  2  3  4  5  6  7  8  9 10 11 12 13 14]\n",
            "La matriz resultante tiene 1 dimensiones\n",
            "El tamaño de las dimensiones es: \n",
            "(15,)\n",
            "La cantidad de elementos de la matriz es 15\n"
          ]
        }
      ]
    },
    {
      "cell_type": "code",
      "source": [
        "# Matriz de una dimensión la vamos a convertir en una matriz de distinta dimensión"
      ],
      "metadata": {
        "id": "1DEsfLPiSDtk"
      },
      "execution_count": null,
      "outputs": []
    },
    {
      "cell_type": "code",
      "source": [
        "mat_7 = mat_7.reshape(3,5)\n",
        "\n",
        "print(f\"El arreglo es: \\n{mat_7}\")\n",
        "print(f\"\\nLa matriz resultante tiene {mat_7.ndim} dimensiones\")\n",
        "print(f\"\\nEl tamaño de las dimensiones es: \\n{mat_7.shape}\")\n",
        "print(f\"\\nLa cantidad de elementos de la matriz es {mat_7.size}\")"
      ],
      "metadata": {
        "colab": {
          "base_uri": "https://localhost:8080/"
        },
        "id": "ESyIvBibSJFV",
        "outputId": "15236059-ad28-49a3-aa1f-df3fd467119b"
      },
      "execution_count": 26,
      "outputs": [
        {
          "output_type": "stream",
          "name": "stdout",
          "text": [
            "El arreglo es: \n",
            "[[ 0  1  2  3  4]\n",
            " [ 5  6  7  8  9]\n",
            " [10 11 12 13 14]]\n",
            "\n",
            "La matriz resultante tiene 2 dimensiones\n",
            "\n",
            "El tamaño de las dimensiones es: \n",
            "(3, 5)\n",
            "\n",
            "La cantidad de elementos de la matriz es 15\n"
          ]
        }
      ]
    },
    {
      "cell_type": "markdown",
      "source": [
        "Ejemplo 4"
      ],
      "metadata": {
        "id": "CZJCtB1HS2IL"
      }
    },
    {
      "cell_type": "code",
      "source": [
        "mat_9 = np.zeros((4,4))"
      ],
      "metadata": {
        "id": "gLOe0lURS12X"
      },
      "execution_count": 29,
      "outputs": []
    },
    {
      "cell_type": "code",
      "source": [
        "print(f\"El arreglo es: \\n{mat_9}\")\n",
        "print(f\"\\nLa matriz resultante tiene {mat_9.ndim} dimensiones\")\n",
        "print(f\"\\nEl tamaño de las dimensiones es: \\n{mat_9.shape}\")\n",
        "print(f\"\\nLa cantidad de elementos de la matriz es {mat_9.size}\")"
      ],
      "metadata": {
        "colab": {
          "base_uri": "https://localhost:8080/"
        },
        "id": "XxyU5LkETBsR",
        "outputId": "0f71c36f-8212-40a2-e02d-2bac50a4c3dd"
      },
      "execution_count": 30,
      "outputs": [
        {
          "output_type": "stream",
          "name": "stdout",
          "text": [
            "El arreglo es: \n",
            "[[0. 0. 0. 0.]\n",
            " [0. 0. 0. 0.]\n",
            " [0. 0. 0. 0.]\n",
            " [0. 0. 0. 0.]]\n",
            "\n",
            "La matriz resultante tiene 2 dimensiones\n",
            "\n",
            "El tamaño de las dimensiones es: \n",
            "(4, 4)\n",
            "\n",
            "La cantidad de elementos de la matriz es 16\n"
          ]
        }
      ]
    },
    {
      "cell_type": "markdown",
      "source": [
        "Ejemplo 5"
      ],
      "metadata": {
        "id": "Zs7cBZd7TfvP"
      }
    },
    {
      "cell_type": "code",
      "source": [
        "# Crear un arreglo con la función .linspace()\n",
        "# 50 => pto de partida\n",
        "# 60 => pto de llegada\n",
        "# 20 => nro de elementos\n",
        "\n",
        "mat_10 = np.linspace(50,60,20)\n",
        "\n",
        "print(f\"El arreglo es: \\n{mat_10}\")\n",
        "print(f\"\\nLa matriz resultante tiene {mat_10.ndim} dimensiones\")\n",
        "print(f\"\\nEl tamaño de las dimensiones es: \\n{mat_10.shape}\")\n",
        "print(f\"\\nLa cantidad de elementos de la matriz es {mat_10.size}\")"
      ],
      "metadata": {
        "colab": {
          "base_uri": "https://localhost:8080/"
        },
        "id": "0DTvAg3lTgpt",
        "outputId": "835daa91-8f0c-4fc6-b10e-9dca5c4fc5b3"
      },
      "execution_count": 32,
      "outputs": [
        {
          "output_type": "stream",
          "name": "stdout",
          "text": [
            "El arreglo es: \n",
            "[50.         50.52631579 51.05263158 51.57894737 52.10526316 52.63157895\n",
            " 53.15789474 53.68421053 54.21052632 54.73684211 55.26315789 55.78947368\n",
            " 56.31578947 56.84210526 57.36842105 57.89473684 58.42105263 58.94736842\n",
            " 59.47368421 60.        ]\n",
            "\n",
            "La matriz resultante tiene 1 dimensiones\n",
            "\n",
            "El tamaño de las dimensiones es: \n",
            "(20,)\n",
            "\n",
            "La cantidad de elementos de la matriz es 20\n"
          ]
        }
      ]
    },
    {
      "cell_type": "code",
      "source": [
        "mat_10 = mat_10.reshape(4,5)\n",
        "print(f\"El arreglo es: \\n{mat_10}\")\n",
        "print(f\"\\nLa matriz resultante tiene {mat_10.ndim} dimensiones\")\n",
        "print(f\"\\nEl tamaño de las dimensiones es: \\n{mat_10.shape}\")\n",
        "print(f\"\\nLa cantidad de elementos de la matriz es {mat_10.size}\")"
      ],
      "metadata": {
        "colab": {
          "base_uri": "https://localhost:8080/"
        },
        "id": "xxAJIkIVT7bL",
        "outputId": "9aac3146-7e01-4ede-db35-2488d0e0ba38"
      },
      "execution_count": 38,
      "outputs": [
        {
          "output_type": "stream",
          "name": "stdout",
          "text": [
            "El arreglo es: \n",
            "[[50.         50.52631579 51.05263158 51.57894737 52.10526316]\n",
            " [52.63157895 53.15789474 53.68421053 54.21052632 54.73684211]\n",
            " [55.26315789 55.78947368 56.31578947 56.84210526 57.36842105]\n",
            " [57.89473684 58.42105263 58.94736842 59.47368421 60.        ]]\n",
            "\n",
            "La matriz resultante tiene 2 dimensiones\n",
            "\n",
            "El tamaño de las dimensiones es: \n",
            "(4, 5)\n",
            "\n",
            "La cantidad de elementos de la matriz es 20\n"
          ]
        }
      ]
    },
    {
      "cell_type": "code",
      "source": [
        "#.ravel() permite llevar un arreglo de cualquier dimensionalidad a una sola dimensión\n",
        "mat_10 = mat_10.ravel()\n",
        "print(f\"El arreglo es: \\n{mat_10}\")\n",
        "print(f\"\\nLa matriz resultante tiene {mat_10.ndim} dimensiones\")\n",
        "print(f\"\\nEl tamaño de las dimensiones es: \\n{mat_10.shape}\")\n",
        "print(f\"\\nLa cantidad de elementos de la matriz es {mat_10.size}\")"
      ],
      "metadata": {
        "colab": {
          "base_uri": "https://localhost:8080/"
        },
        "id": "xuJJiFpnUnId",
        "outputId": "27839477-c24f-4e10-cb00-7b530cb32bb2"
      },
      "execution_count": 35,
      "outputs": [
        {
          "output_type": "stream",
          "name": "stdout",
          "text": [
            "El arreglo es: \n",
            "[50.         50.52631579 51.05263158 51.57894737 52.10526316 52.63157895\n",
            " 53.15789474 53.68421053 54.21052632 54.73684211 55.26315789 55.78947368\n",
            " 56.31578947 56.84210526 57.36842105 57.89473684 58.42105263 58.94736842\n",
            " 59.47368421 60.        ]\n",
            "\n",
            "La matriz resultante tiene 1 dimensiones\n",
            "\n",
            "El tamaño de las dimensiones es: \n",
            "(20,)\n",
            "\n",
            "La cantidad de elementos de la matriz es 20\n"
          ]
        }
      ]
    },
    {
      "cell_type": "markdown",
      "source": [
        "Ejemplo 6"
      ],
      "metadata": {
        "id": "scbiSbtoVszT"
      }
    },
    {
      "cell_type": "code",
      "source": [
        "#Crear arreglo con 30 elementos usando .arange\n",
        "#Cambiar diemnsionalidad a (2,3,5)\n",
        "# 1er elemento = #matrices\n",
        "# 2do elemento = # filas de cada matriz\n",
        "# 3er elemento = # columnas de cada matriz\n",
        "\n",
        "mat_11 = np.arange(30)\n",
        "mat_11 = mat_11.reshape(2,3,5)\n",
        "\n",
        "print(f\"El arreglo es: \\n{mat_11}\")\n",
        "print(f\"\\nLa matriz resultante tiene {mat_11.ndim} dimensiones\")\n",
        "print(f\"\\nEl tamaño de las dimensiones es: \\n{mat_11.shape}\")\n",
        "print(f\"\\nLa cantidad de elementos de la matriz es {mat_11.size}\")"
      ],
      "metadata": {
        "colab": {
          "base_uri": "https://localhost:8080/"
        },
        "id": "_698RW0UVt2F",
        "outputId": "5d183145-cc5a-4e13-a61f-ac4448a4eb0f"
      },
      "execution_count": 41,
      "outputs": [
        {
          "output_type": "stream",
          "name": "stdout",
          "text": [
            "El arreglo es: \n",
            "[[[ 0  1  2  3  4]\n",
            "  [ 5  6  7  8  9]\n",
            "  [10 11 12 13 14]]\n",
            "\n",
            " [[15 16 17 18 19]\n",
            "  [20 21 22 23 24]\n",
            "  [25 26 27 28 29]]]\n",
            "\n",
            "La matriz resultante tiene 3 dimensiones\n",
            "\n",
            "El tamaño de las dimensiones es: \n",
            "(2, 3, 5)\n",
            "\n",
            "La cantidad de elementos de la matriz es 30\n"
          ]
        }
      ]
    },
    {
      "cell_type": "markdown",
      "source": [
        "Ejercicio propuesto"
      ],
      "metadata": {
        "id": "y0twaj6dWj5k"
      }
    },
    {
      "cell_type": "code",
      "source": [
        "mat_12 = np.zeros((6,2,3))\n",
        "\n",
        "print(f\"El arreglo es: \\n{mat_12}\")\n",
        "print(f\"\\nLa matriz resultante tiene {mat_12.ndim} dimensiones\")\n",
        "print(f\"\\nEl tamaño de las dimensiones es: \\n{mat_12.shape}\")\n",
        "print(f\"\\nLa cantidad de elementos de la matriz es {mat_12.size}\")"
      ],
      "metadata": {
        "colab": {
          "base_uri": "https://localhost:8080/"
        },
        "id": "NRNYfMmzWl8w",
        "outputId": "24c30459-b704-47cb-865a-5da153d0f928"
      },
      "execution_count": 44,
      "outputs": [
        {
          "output_type": "stream",
          "name": "stdout",
          "text": [
            "El arreglo es: \n",
            "[[[0. 0. 0.]\n",
            "  [0. 0. 0.]]\n",
            "\n",
            " [[0. 0. 0.]\n",
            "  [0. 0. 0.]]\n",
            "\n",
            " [[0. 0. 0.]\n",
            "  [0. 0. 0.]]\n",
            "\n",
            " [[0. 0. 0.]\n",
            "  [0. 0. 0.]]\n",
            "\n",
            " [[0. 0. 0.]\n",
            "  [0. 0. 0.]]\n",
            "\n",
            " [[0. 0. 0.]\n",
            "  [0. 0. 0.]]]\n",
            "\n",
            "La matriz resultante tiene 3 dimensiones\n",
            "\n",
            "El tamaño de las dimensiones es: \n",
            "(6, 2, 3)\n",
            "\n",
            "La cantidad de elementos de la matriz es 36\n"
          ]
        }
      ]
    },
    {
      "cell_type": "code",
      "source": [
        "mat_13 = np.arange(36).reshape(6,2,3)\n",
        "print(f\"El arreglo es: \\n{mat_13}\")\n",
        "print(f\"\\nLa matriz resultante tiene {mat_13.ndim} dimensiones\")\n",
        "print(f\"\\nEl tamaño de las dimensiones es: \\n{mat_13.shape}\")\n",
        "print(f\"\\nLa cantidad de elementos de la matriz es {mat_13.size}\")"
      ],
      "metadata": {
        "colab": {
          "base_uri": "https://localhost:8080/"
        },
        "id": "Z4OQG0kjYSf_",
        "outputId": "c23eb9f4-267b-42fd-b9ea-9f75707e4919"
      },
      "execution_count": 45,
      "outputs": [
        {
          "output_type": "stream",
          "name": "stdout",
          "text": [
            "El arreglo es: \n",
            "[[[ 0  1  2]\n",
            "  [ 3  4  5]]\n",
            "\n",
            " [[ 6  7  8]\n",
            "  [ 9 10 11]]\n",
            "\n",
            " [[12 13 14]\n",
            "  [15 16 17]]\n",
            "\n",
            " [[18 19 20]\n",
            "  [21 22 23]]\n",
            "\n",
            " [[24 25 26]\n",
            "  [27 28 29]]\n",
            "\n",
            " [[30 31 32]\n",
            "  [33 34 35]]]\n",
            "\n",
            "La matriz resultante tiene 3 dimensiones\n",
            "\n",
            "El tamaño de las dimensiones es: \n",
            "(6, 2, 3)\n",
            "\n",
            "La cantidad de elementos de la matriz es 36\n"
          ]
        }
      ]
    },
    {
      "cell_type": "markdown",
      "source": [
        "Actividad 36"
      ],
      "metadata": {
        "id": "9NkGkdC-Y8Eb"
      }
    },
    {
      "cell_type": "code",
      "source": [
        "from google.colab import files\n",
        "\n",
        "uploaded = files.upload()"
      ],
      "metadata": {
        "colab": {
          "base_uri": "https://localhost:8080/",
          "height": 73
        },
        "id": "jzGfkHukY9lG",
        "outputId": "874a2a4a-9b88-4378-f78f-e6b5f1f4afdc"
      },
      "execution_count": 46,
      "outputs": [
        {
          "output_type": "display_data",
          "data": {
            "text/plain": [
              "<IPython.core.display.HTML object>"
            ],
            "text/html": [
              "\n",
              "     <input type=\"file\" id=\"files-7d02ddae-0fc6-4c3d-b63c-535eda5299e0\" name=\"files[]\" multiple disabled\n",
              "        style=\"border:none\" />\n",
              "     <output id=\"result-7d02ddae-0fc6-4c3d-b63c-535eda5299e0\">\n",
              "      Upload widget is only available when the cell has been executed in the\n",
              "      current browser session. Please rerun this cell to enable.\n",
              "      </output>\n",
              "      <script>// Copyright 2017 Google LLC\n",
              "//\n",
              "// Licensed under the Apache License, Version 2.0 (the \"License\");\n",
              "// you may not use this file except in compliance with the License.\n",
              "// You may obtain a copy of the License at\n",
              "//\n",
              "//      http://www.apache.org/licenses/LICENSE-2.0\n",
              "//\n",
              "// Unless required by applicable law or agreed to in writing, software\n",
              "// distributed under the License is distributed on an \"AS IS\" BASIS,\n",
              "// WITHOUT WARRANTIES OR CONDITIONS OF ANY KIND, either express or implied.\n",
              "// See the License for the specific language governing permissions and\n",
              "// limitations under the License.\n",
              "\n",
              "/**\n",
              " * @fileoverview Helpers for google.colab Python module.\n",
              " */\n",
              "(function(scope) {\n",
              "function span(text, styleAttributes = {}) {\n",
              "  const element = document.createElement('span');\n",
              "  element.textContent = text;\n",
              "  for (const key of Object.keys(styleAttributes)) {\n",
              "    element.style[key] = styleAttributes[key];\n",
              "  }\n",
              "  return element;\n",
              "}\n",
              "\n",
              "// Max number of bytes which will be uploaded at a time.\n",
              "const MAX_PAYLOAD_SIZE = 100 * 1024;\n",
              "\n",
              "function _uploadFiles(inputId, outputId) {\n",
              "  const steps = uploadFilesStep(inputId, outputId);\n",
              "  const outputElement = document.getElementById(outputId);\n",
              "  // Cache steps on the outputElement to make it available for the next call\n",
              "  // to uploadFilesContinue from Python.\n",
              "  outputElement.steps = steps;\n",
              "\n",
              "  return _uploadFilesContinue(outputId);\n",
              "}\n",
              "\n",
              "// This is roughly an async generator (not supported in the browser yet),\n",
              "// where there are multiple asynchronous steps and the Python side is going\n",
              "// to poll for completion of each step.\n",
              "// This uses a Promise to block the python side on completion of each step,\n",
              "// then passes the result of the previous step as the input to the next step.\n",
              "function _uploadFilesContinue(outputId) {\n",
              "  const outputElement = document.getElementById(outputId);\n",
              "  const steps = outputElement.steps;\n",
              "\n",
              "  const next = steps.next(outputElement.lastPromiseValue);\n",
              "  return Promise.resolve(next.value.promise).then((value) => {\n",
              "    // Cache the last promise value to make it available to the next\n",
              "    // step of the generator.\n",
              "    outputElement.lastPromiseValue = value;\n",
              "    return next.value.response;\n",
              "  });\n",
              "}\n",
              "\n",
              "/**\n",
              " * Generator function which is called between each async step of the upload\n",
              " * process.\n",
              " * @param {string} inputId Element ID of the input file picker element.\n",
              " * @param {string} outputId Element ID of the output display.\n",
              " * @return {!Iterable<!Object>} Iterable of next steps.\n",
              " */\n",
              "function* uploadFilesStep(inputId, outputId) {\n",
              "  const inputElement = document.getElementById(inputId);\n",
              "  inputElement.disabled = false;\n",
              "\n",
              "  const outputElement = document.getElementById(outputId);\n",
              "  outputElement.innerHTML = '';\n",
              "\n",
              "  const pickedPromise = new Promise((resolve) => {\n",
              "    inputElement.addEventListener('change', (e) => {\n",
              "      resolve(e.target.files);\n",
              "    });\n",
              "  });\n",
              "\n",
              "  const cancel = document.createElement('button');\n",
              "  inputElement.parentElement.appendChild(cancel);\n",
              "  cancel.textContent = 'Cancel upload';\n",
              "  const cancelPromise = new Promise((resolve) => {\n",
              "    cancel.onclick = () => {\n",
              "      resolve(null);\n",
              "    };\n",
              "  });\n",
              "\n",
              "  // Wait for the user to pick the files.\n",
              "  const files = yield {\n",
              "    promise: Promise.race([pickedPromise, cancelPromise]),\n",
              "    response: {\n",
              "      action: 'starting',\n",
              "    }\n",
              "  };\n",
              "\n",
              "  cancel.remove();\n",
              "\n",
              "  // Disable the input element since further picks are not allowed.\n",
              "  inputElement.disabled = true;\n",
              "\n",
              "  if (!files) {\n",
              "    return {\n",
              "      response: {\n",
              "        action: 'complete',\n",
              "      }\n",
              "    };\n",
              "  }\n",
              "\n",
              "  for (const file of files) {\n",
              "    const li = document.createElement('li');\n",
              "    li.append(span(file.name, {fontWeight: 'bold'}));\n",
              "    li.append(span(\n",
              "        `(${file.type || 'n/a'}) - ${file.size} bytes, ` +\n",
              "        `last modified: ${\n",
              "            file.lastModifiedDate ? file.lastModifiedDate.toLocaleDateString() :\n",
              "                                    'n/a'} - `));\n",
              "    const percent = span('0% done');\n",
              "    li.appendChild(percent);\n",
              "\n",
              "    outputElement.appendChild(li);\n",
              "\n",
              "    const fileDataPromise = new Promise((resolve) => {\n",
              "      const reader = new FileReader();\n",
              "      reader.onload = (e) => {\n",
              "        resolve(e.target.result);\n",
              "      };\n",
              "      reader.readAsArrayBuffer(file);\n",
              "    });\n",
              "    // Wait for the data to be ready.\n",
              "    let fileData = yield {\n",
              "      promise: fileDataPromise,\n",
              "      response: {\n",
              "        action: 'continue',\n",
              "      }\n",
              "    };\n",
              "\n",
              "    // Use a chunked sending to avoid message size limits. See b/62115660.\n",
              "    let position = 0;\n",
              "    do {\n",
              "      const length = Math.min(fileData.byteLength - position, MAX_PAYLOAD_SIZE);\n",
              "      const chunk = new Uint8Array(fileData, position, length);\n",
              "      position += length;\n",
              "\n",
              "      const base64 = btoa(String.fromCharCode.apply(null, chunk));\n",
              "      yield {\n",
              "        response: {\n",
              "          action: 'append',\n",
              "          file: file.name,\n",
              "          data: base64,\n",
              "        },\n",
              "      };\n",
              "\n",
              "      let percentDone = fileData.byteLength === 0 ?\n",
              "          100 :\n",
              "          Math.round((position / fileData.byteLength) * 100);\n",
              "      percent.textContent = `${percentDone}% done`;\n",
              "\n",
              "    } while (position < fileData.byteLength);\n",
              "  }\n",
              "\n",
              "  // All done.\n",
              "  yield {\n",
              "    response: {\n",
              "      action: 'complete',\n",
              "    }\n",
              "  };\n",
              "}\n",
              "\n",
              "scope.google = scope.google || {};\n",
              "scope.google.colab = scope.google.colab || {};\n",
              "scope.google.colab._files = {\n",
              "  _uploadFiles,\n",
              "  _uploadFilesContinue,\n",
              "};\n",
              "})(self);\n",
              "</script> "
            ]
          },
          "metadata": {}
        },
        {
          "output_type": "stream",
          "name": "stdout",
          "text": [
            "Saving mult_arreglos.png to mult_arreglos (1).png\n"
          ]
        }
      ]
    },
    {
      "cell_type": "code",
      "source": [
        "import IPython\n",
        "from IPython.display import Image,display\n",
        "display(Image(filename=\"mult_arreglos.png\"))"
      ],
      "metadata": {
        "colab": {
          "base_uri": "https://localhost:8080/",
          "height": 213
        },
        "id": "N3oVY1yzZgXc",
        "outputId": "42559134-e5de-4497-f5a3-b0abe275141e"
      },
      "execution_count": 47,
      "outputs": [
        {
          "output_type": "display_data",
          "data": {
            "image/png": "[encoded data removed]",
            "text/plain": [
              "<IPython.core.display.Image object>"
            ]
          },
          "metadata": {}
        }
      ]
    },
    {
      "cell_type": "code",
      "source": [
        "A = np.array([[1,2,3],[3,2,1]])\n",
        "B = np.array([[0,2],[1,-1],[0,1]])\n",
        "\n",
        "print(f\"La primera matriz a multiplicar es \\n{A}\")\n",
        "print(f\"\\nLa segunda matriz a multiplicar es \\n{B}\")"
      ],
      "metadata": {
        "colab": {
          "base_uri": "https://localhost:8080/"
        },
        "id": "fKK1ViuMZ1MT",
        "outputId": "07b2180a-0564-4655-aba3-6da75c19fb22"
      },
      "execution_count": 48,
      "outputs": [
        {
          "output_type": "stream",
          "name": "stdout",
          "text": [
            "La primera matriz a multiplicar es \n",
            "[[1 2 3]\n",
            " [3 2 1]]\n",
            "\n",
            "La segunda matriz a multiplicar es \n",
            "[[ 0  2]\n",
            " [ 1 -1]\n",
            " [ 0  1]]\n"
          ]
        }
      ]
    },
    {
      "cell_type": "code",
      "source": [
        "t_dim_A = A.shape\n",
        "t_dim_B = B.shape\n",
        "\n",
        "#Multiplicar AxB:\n",
        "print(f\"El tamaño de las dimensiones de la matriz A es {t_dim_m_A}\")\n",
        "print(f\"El tamaño de las dimensiones de la matriz B es {t_dim_m_B}\")\n",
        "\n",
        "#Verificar las dimensiones de ambas matrices\n",
        "if t_dim_A[1] == t_dim_B[0]:\n",
        "  mat_C = np.dot(A,B)\n",
        "  print(f\"El resultado de la multiplicación de AxB es: \\n{mat_C}\")\n",
        "else:\n",
        "  print(\"No es posible multiplicar las matrices\")\n",
        "\n",
        "#Multiplicar BxA:\n",
        "if t_dim_B[1] == t_dim_A[0]:\n",
        "  mat_D = np.dot(B,A)\n",
        "  print(f\"El resultado de la multiplicación de BxA es: \\n{mat_D}\")\n",
        "else:\n",
        "  print(\"No es posible multiplicar las matrices\")"
      ],
      "metadata": {
        "colab": {
          "base_uri": "https://localhost:8080/"
        },
        "id": "Vv5RxxbJaU8i",
        "outputId": "ab41d68b-c570-48a9-a4f6-2c65b420cc2d"
      },
      "execution_count": 51,
      "outputs": [
        {
          "output_type": "stream",
          "name": "stdout",
          "text": [
            "El tamaño de las dimensiones de la matriz A es (3, 3)\n",
            "El tamaño de las dimensiones de la matriz B es (3, 2)\n",
            "El resultado de la multiplicación de AxB es: \n",
            "[[2 3]\n",
            " [2 5]]\n",
            "El resultado de la multiplicación de BxA es: \n",
            "[[ 6  4  2]\n",
            " [-2  0  2]\n",
            " [ 3  2  1]]\n"
          ]
        }
      ]
    },
    {
      "cell_type": "markdown",
      "source": [
        "Actividad 37"
      ],
      "metadata": {
        "id": "UReJAcj4hyVp"
      }
    },
    {
      "cell_type": "code",
      "source": [
        "print(f\"Dado el siguiente arreglo: \\n{mat_11}\")\n",
        "print(f\"\\n\\nQue tiene {mat_11.ndim} dimensiones\")\n",
        "print(f\"\\nCuyos tamaños de dimensiones son: {mat_11.shape}\")\n",
        "print(f\"\\nY tiene {mat_11.size} elementos\")"
      ],
      "metadata": {
        "colab": {
          "base_uri": "https://localhost:8080/"
        },
        "id": "9oDvBMsHhpEq",
        "outputId": "5327b283-ccbc-45fb-d714-2dba02f2265d"
      },
      "execution_count": 53,
      "outputs": [
        {
          "output_type": "stream",
          "name": "stdout",
          "text": [
            "Dado el siguiente arreglo: \n",
            "[[[ 0  1  2  3  4]\n",
            "  [ 5  6  7  8  9]\n",
            "  [10 11 12 13 14]]\n",
            "\n",
            " [[15 16 17 18 19]\n",
            "  [20 21 22 23 24]\n",
            "  [25 26 27 28 29]]]\n",
            "\n",
            "\n",
            "Que tiene 3 dimensiones\n",
            "\n",
            "Cuyos tamaños de dimensiones son: (2, 3, 5)\n",
            "\n",
            "Y tiene 30 elementos\n"
          ]
        }
      ]
    },
    {
      "cell_type": "code",
      "source": [
        "print(f\"La segunda matriz del arreglo es \\n {mat_11[1]}\")"
      ],
      "metadata": {
        "colab": {
          "base_uri": "https://localhost:8080/"
        },
        "id": "WI4lvK_dhzwV",
        "outputId": "ff921bb6-3363-4112-dcfa-9b5d0f44d6d6"
      },
      "execution_count": 54,
      "outputs": [
        {
          "output_type": "stream",
          "name": "stdout",
          "text": [
            "La segunda matriz del arreglo es \n",
            " [[15 16 17 18 19]\n",
            " [20 21 22 23 24]\n",
            " [25 26 27 28 29]]\n"
          ]
        }
      ]
    },
    {
      "cell_type": "code",
      "source": [
        "print(f\"El cuarto elemento de la segunda fila de la segunda matriz es\\n {mat_11[1][1][3]}\")"
      ],
      "metadata": {
        "colab": {
          "base_uri": "https://localhost:8080/"
        },
        "id": "ywgnlI5_ipof",
        "outputId": "686a707d-3b38-47bb-b67a-aa61ee6c4e7a"
      },
      "execution_count": 56,
      "outputs": [
        {
          "output_type": "stream",
          "name": "stdout",
          "text": [
            "El cuarto elemento de la segunda fila de la segunda matriz es\n",
            " 23\n"
          ]
        }
      ]
    },
    {
      "cell_type": "code",
      "source": [
        "print(f\"El primer, segundo y tercer elementos de la tercera fila en la primera matriz son\\n {mat_11[0][2][[1,2,3]]}\")"
      ],
      "metadata": {
        "colab": {
          "base_uri": "https://localhost:8080/"
        },
        "id": "R9nbMyNnjoLZ",
        "outputId": "550d575f-f663-4b93-fc78-fa19ed8c3d0e"
      },
      "execution_count": 59,
      "outputs": [
        {
          "output_type": "stream",
          "name": "stdout",
          "text": [
            "El primer, segundo y tercer elementos de la tercera fila en la primera matriz son\n",
            " [11 12 13]\n"
          ]
        }
      ]
    },
    {
      "cell_type": "code",
      "source": [
        "print(f\"El primer, segundo y tercer elementos de la tercera fila en la primera matriz son\\n {mat_11[0][2][1:4]}\")"
      ],
      "metadata": {
        "colab": {
          "base_uri": "https://localhost:8080/"
        },
        "id": "K26j2RQkk68U",
        "outputId": "3f91d56e-589d-4cfb-ede1-9bfaa29b80cb"
      },
      "execution_count": 60,
      "outputs": [
        {
          "output_type": "stream",
          "name": "stdout",
          "text": [
            "El primer, segundo y tercer elementos de la tercera fila en la primera matriz son\n",
            " [11 12 13]\n"
          ]
        }
      ]
    },
    {
      "cell_type": "code",
      "source": [
        "#Primera matriz, tercera fila, elementos 11, 12\n",
        "tmp_1 = mat_11[0][2][1:3]\n",
        "print(tmp_1)\n",
        "\n",
        "#Primera matriz, tercera fila, elementos 13, 14\n",
        "tmp_2 = mat_11[0][2][3:5]\n",
        "print(tmp_2)\n",
        "\n",
        "print(type(tmp_1))\n",
        "print(type(tmp_2))"
      ],
      "metadata": {
        "colab": {
          "base_uri": "https://localhost:8080/"
        },
        "id": "xlsZ-6F6mvkv",
        "outputId": "34ae8345-c4c3-4a64-af5f-70e7399cc07f"
      },
      "execution_count": 66,
      "outputs": [
        {
          "output_type": "stream",
          "name": "stdout",
          "text": [
            "[11 12]\n",
            "[13 14]\n",
            "<class 'numpy.ndarray'>\n",
            "<class 'numpy.ndarray'>\n"
          ]
        }
      ]
    },
    {
      "cell_type": "code",
      "source": [
        "#Concatenar dos matrices de una dimension y el resultado es una matriz de una dimension\n",
        "np.concatenate([tmp_1,tmp_2],axis=0)"
      ],
      "metadata": {
        "colab": {
          "base_uri": "https://localhost:8080/"
        },
        "id": "QckQYvGynTqf",
        "outputId": "45fa6411-7216-44e3-b20a-74236df71056"
      },
      "execution_count": 64,
      "outputs": [
        {
          "output_type": "execute_result",
          "data": {
            "text/plain": [
              "array([11, 12, 13, 14])"
            ]
          },
          "metadata": {},
          "execution_count": 64
        }
      ]
    },
    {
      "cell_type": "code",
      "source": [
        "tmp_3 = np.concatenate([tmp_1,tmp_2],axis=0)\n",
        "for i in tmp_3:\n",
        "  if i != 13:\n",
        "    print(i)\n",
        "  else:\n",
        "    print(\"Fuera del rango\")"
      ],
      "metadata": {
        "colab": {
          "base_uri": "https://localhost:8080/"
        },
        "id": "GO7vy1h7ncFw",
        "outputId": "07d9be53-3d65-407c-f7ba-d7bdd2cf0e23"
      },
      "execution_count": 65,
      "outputs": [
        {
          "output_type": "stream",
          "name": "stdout",
          "text": [
            "11\n",
            "12\n",
            "Fuera del rango\n",
            "14\n"
          ]
        }
      ]
    },
    {
      "cell_type": "markdown",
      "source": [
        "Actividad 38"
      ],
      "metadata": {
        "id": "hrCqgh_fpsVU"
      }
    },
    {
      "cell_type": "code",
      "source": [
        "# Diccionario\n",
        "import pandas as pd\n",
        "d_tmp = {\n",
        "    'edad':[35,50,23,42],\n",
        "    'exp':[10,25,2,15],\n",
        "    'nhijos':[1,3,0,2],\n",
        "    'imp':[3500,6000,50,1000],\n",
        "    'ing':[12000,30000,1500,2800]\n",
        "}\n",
        "# Convierto el Diccionario en un DataFrame (Base de datos)\n",
        "df_tmp = pd.DataFrame(d_tmp)\n",
        "df_tmp.head(2)"
      ],
      "metadata": {
        "colab": {
          "base_uri": "https://localhost:8080/",
          "height": 112
        },
        "id": "NY_LWGwbpqx5",
        "outputId": "32388126-16fb-46b7-90ce-0290e5311051"
      },
      "execution_count": 69,
      "outputs": [
        {
          "output_type": "execute_result",
          "data": {
            "text/plain": [
              "   edad  exp  nhijos   imp    ing\n",
              "0    35   10       1  3500  12000\n",
              "1    50   25       3  6000  30000"
            ],
            "text/html": [
              "\n",
              "  <div id=\"df-fbe3fcd2-6c1b-4317-910e-96337d573095\" class=\"colab-df-container\">\n",
              "    <div>\n",
              "<style scoped>\n",
              "    .dataframe tbody tr th:only-of-type {\n",
              "        vertical-align: middle;\n",
              "    }\n",
              "\n",
              "    .dataframe tbody tr th {\n",
              "        vertical-align: top;\n",
              "    }\n",
              "\n",
              "    .dataframe thead th {\n",
              "        text-align: right;\n",
              "    }\n",
              "</style>\n",
              "<table border=\"1\" class=\"dataframe\">\n",
              "  <thead>\n",
              "    <tr style=\"text-align: right;\">\n",
              "      <th></th>\n",
              "      <th>edad</th>\n",
              "      <th>exp</th>\n",
              "      <th>nhijos</th>\n",
              "      <th>imp</th>\n",
              "      <th>ing</th>\n",
              "    </tr>\n",
              "  </thead>\n",
              "  <tbody>\n",
              "    <tr>\n",
              "      <th>0</th>\n",
              "      <td>35</td>\n",
              "      <td>10</td>\n",
              "      <td>1</td>\n",
              "      <td>3500</td>\n",
              "      <td>12000</td>\n",
              "    </tr>\n",
              "    <tr>\n",
              "      <th>1</th>\n",
              "      <td>50</td>\n",
              "      <td>25</td>\n",
              "      <td>3</td>\n",
              "      <td>6000</td>\n",
              "      <td>30000</td>\n",
              "    </tr>\n",
              "  </tbody>\n",
              "</table>\n",
              "</div>\n",
              "    <div class=\"colab-df-buttons\">\n",
              "\n",
              "  <div class=\"colab-df-container\">\n",
              "    <button class=\"colab-df-convert\" onclick=\"convertToInteractive('df-fbe3fcd2-6c1b-4317-910e-96337d573095')\"\n",
              "            title=\"Convert this dataframe to an interactive table.\"\n",
              "            style=\"display:none;\">\n",
              "\n",
              "  <svg xmlns=\"http://www.w3.org/2000/svg\" height=\"24px\" viewBox=\"0 -960 960 960\">\n",
              "    <path d=\"M120-120v-720h720v720H120Zm60-500h600v-160H180v160Zm220 220h160v-160H400v160Zm0 220h160v-160H400v160ZM180-400h160v-160H180v160Zm440 0h160v-160H620v160ZM180-180h160v-160H180v160Zm440 0h160v-160H620v160Z\"/>\n",
              "  </svg>\n",
              "    </button>\n",
              "\n",
              "  <style>\n",
              "    .colab-df-container {\n",
              "      display:flex;\n",
              "      gap: 12px;\n",
              "    }\n",
              "\n",
              "    .colab-df-convert {\n",
              "      background-color: #E8F0FE;\n",
              "      border: none;\n",
              "      border-radius: 50%;\n",
              "      cursor: pointer;\n",
              "      display: none;\n",
              "      fill: #1967D2;\n",
              "      height: 32px;\n",
              "      padding: 0 0 0 0;\n",
              "      width: 32px;\n",
              "    }\n",
              "\n",
              "    .colab-df-convert:hover {\n",
              "      background-color: #E2EBFA;\n",
              "      box-shadow: 0px 1px 2px rgba(60, 64, 67, 0.3), 0px 1px 3px 1px rgba(60, 64, 67, 0.15);\n",
              "      fill: #174EA6;\n",
              "    }\n",
              "\n",
              "    .colab-df-buttons div {\n",
              "      margin-bottom: 4px;\n",
              "    }\n",
              "\n",
              "    [theme=dark] .colab-df-convert {\n",
              "      background-color: #3B4455;\n",
              "      fill: #D2E3FC;\n",
              "    }\n",
              "\n",
              "    [theme=dark] .colab-df-convert:hover {\n",
              "      background-color: #434B5C;\n",
              "      box-shadow: 0px 1px 3px 1px rgba(0, 0, 0, 0.15);\n",
              "      filter: drop-shadow(0px 1px 2px rgba(0, 0, 0, 0.3));\n",
              "      fill: #FFFFFF;\n",
              "    }\n",
              "  </style>\n",
              "\n",
              "    <script>\n",
              "      const buttonEl =\n",
              "        document.querySelector('#df-fbe3fcd2-6c1b-4317-910e-96337d573095 button.colab-df-convert');\n",
              "      buttonEl.style.display =\n",
              "        google.colab.kernel.accessAllowed ? 'block' : 'none';\n",
              "\n",
              "      async function convertToInteractive(key) {\n",
              "        const element = document.querySelector('#df-fbe3fcd2-6c1b-4317-910e-96337d573095');\n",
              "        const dataTable =\n",
              "          await google.colab.kernel.invokeFunction('convertToInteractive',\n",
              "                                                    [key], {});\n",
              "        if (!dataTable) return;\n",
              "\n",
              "        const docLinkHtml = 'Like what you see? Visit the ' +\n",
              "          '<a target=\"_blank\" href=https://colab.research.google.com/notebooks/data_table.ipynb>data table notebook</a>'\n",
              "          + ' to learn more about interactive tables.';\n",
              "        element.innerHTML = '';\n",
              "        dataTable['output_type'] = 'display_data';\n",
              "        await google.colab.output.renderOutput(dataTable, element);\n",
              "        const docLink = document.createElement('div');\n",
              "        docLink.innerHTML = docLinkHtml;\n",
              "        element.appendChild(docLink);\n",
              "      }\n",
              "    </script>\n",
              "  </div>\n",
              "\n",
              "\n",
              "    <div id=\"df-3d537f60-497a-4c25-b226-8f9490d79591\">\n",
              "      <button class=\"colab-df-quickchart\" onclick=\"quickchart('df-3d537f60-497a-4c25-b226-8f9490d79591')\"\n",
              "                title=\"Suggest charts\"\n",
              "                style=\"display:none;\">\n",
              "\n",
              "<svg xmlns=\"http://www.w3.org/2000/svg\" height=\"24px\"viewBox=\"0 0 24 24\"\n",
              "     width=\"24px\">\n",
              "    <g>\n",
              "        <path d=\"M19 3H5c-1.1 0-2 .9-2 2v14c0 1.1.9 2 2 2h14c1.1 0 2-.9 2-2V5c0-1.1-.9-2-2-2zM9 17H7v-7h2v7zm4 0h-2V7h2v10zm4 0h-2v-4h2v4z\"/>\n",
              "    </g>\n",
              "</svg>\n",
              "      </button>\n",
              "\n",
              "<style>\n",
              "  .colab-df-quickchart {\n",
              "      --bg-color: #E8F0FE;\n",
              "      --fill-color: #1967D2;\n",
              "      --hover-bg-color: #E2EBFA;\n",
              "      --hover-fill-color: #174EA6;\n",
              "      --disabled-fill-color: #AAA;\n",
              "      --disabled-bg-color: #DDD;\n",
              "  }\n",
              "\n",
              "  [theme=dark] .colab-df-quickchart {\n",
              "      --bg-color: #3B4455;\n",
              "      --fill-color: #D2E3FC;\n",
              "      --hover-bg-color: #434B5C;\n",
              "      --hover-fill-color: #FFFFFF;\n",
              "      --disabled-bg-color: #3B4455;\n",
              "      --disabled-fill-color: #666;\n",
              "  }\n",
              "\n",
              "  .colab-df-quickchart {\n",
              "    background-color: var(--bg-color);\n",
              "    border: none;\n",
              "    border-radius: 50%;\n",
              "    cursor: pointer;\n",
              "    display: none;\n",
              "    fill: var(--fill-color);\n",
              "    height: 32px;\n",
              "    padding: 0;\n",
              "    width: 32px;\n",
              "  }\n",
              "\n",
              "  .colab-df-quickchart:hover {\n",
              "    background-color: var(--hover-bg-color);\n",
              "    box-shadow: 0 1px 2px rgba(60, 64, 67, 0.3), 0 1px 3px 1px rgba(60, 64, 67, 0.15);\n",
              "    fill: var(--button-hover-fill-color);\n",
              "  }\n",
              "\n",
              "  .colab-df-quickchart-complete:disabled,\n",
              "  .colab-df-quickchart-complete:disabled:hover {\n",
              "    background-color: var(--disabled-bg-color);\n",
              "    fill: var(--disabled-fill-color);\n",
              "    box-shadow: none;\n",
              "  }\n",
              "\n",
              "  .colab-df-spinner {\n",
              "    border: 2px solid var(--fill-color);\n",
              "    border-color: transparent;\n",
              "    border-bottom-color: var(--fill-color);\n",
              "    animation:\n",
              "      spin 1s steps(1) infinite;\n",
              "  }\n",
              "\n",
              "  @keyframes spin {\n",
              "    0% {\n",
              "      border-color: transparent;\n",
              "      border-bottom-color: var(--fill-color);\n",
              "      border-left-color: var(--fill-color);\n",
              "    }\n",
              "    20% {\n",
              "      border-color: transparent;\n",
              "      border-left-color: var(--fill-color);\n",
              "      border-top-color: var(--fill-color);\n",
              "    }\n",
              "    30% {\n",
              "      border-color: transparent;\n",
              "      border-left-color: var(--fill-color);\n",
              "      border-top-color: var(--fill-color);\n",
              "      border-right-color: var(--fill-color);\n",
              "    }\n",
              "    40% {\n",
              "      border-color: transparent;\n",
              "      border-right-color: var(--fill-color);\n",
              "      border-top-color: var(--fill-color);\n",
              "    }\n",
              "    60% {\n",
              "      border-color: transparent;\n",
              "      border-right-color: var(--fill-color);\n",
              "    }\n",
              "    80% {\n",
              "      border-color: transparent;\n",
              "      border-right-color: var(--fill-color);\n",
              "      border-bottom-color: var(--fill-color);\n",
              "    }\n",
              "    90% {\n",
              "      border-color: transparent;\n",
              "      border-bottom-color: var(--fill-color);\n",
              "    }\n",
              "  }\n",
              "</style>\n",
              "\n",
              "      <script>\n",
              "        async function quickchart(key) {\n",
              "          const quickchartButtonEl =\n",
              "            document.querySelector('#' + key + ' button');\n",
              "          quickchartButtonEl.disabled = true;  // To prevent multiple clicks.\n",
              "          quickchartButtonEl.classList.add('colab-df-spinner');\n",
              "          try {\n",
              "            const charts = await google.colab.kernel.invokeFunction(\n",
              "                'suggestCharts', [key], {});\n",
              "          } catch (error) {\n",
              "            console.error('Error during call to suggestCharts:', error);\n",
              "          }\n",
              "          quickchartButtonEl.classList.remove('colab-df-spinner');\n",
              "          quickchartButtonEl.classList.add('colab-df-quickchart-complete');\n",
              "        }\n",
              "        (() => {\n",
              "          let quickchartButtonEl =\n",
              "            document.querySelector('#df-3d537f60-497a-4c25-b226-8f9490d79591 button');\n",
              "          quickchartButtonEl.style.display =\n",
              "            google.colab.kernel.accessAllowed ? 'block' : 'none';\n",
              "        })();\n",
              "      </script>\n",
              "    </div>\n",
              "\n",
              "    </div>\n",
              "  </div>\n"
            ],
            "application/vnd.google.colaboratory.intrinsic+json": {
              "type": "dataframe",
              "variable_name": "df_tmp",
              "summary": "{\n  \"name\": \"df_tmp\",\n  \"rows\": 4,\n  \"fields\": [\n    {\n      \"column\": \"edad\",\n      \"properties\": {\n        \"dtype\": \"number\",\n        \"std\": 11,\n        \"min\": 23,\n        \"max\": 50,\n        \"num_unique_values\": 4,\n        \"samples\": [\n          50,\n          42,\n          35\n        ],\n        \"semantic_type\": \"\",\n        \"description\": \"\"\n      }\n    },\n    {\n      \"column\": \"exp\",\n      \"properties\": {\n        \"dtype\": \"number\",\n        \"std\": 9,\n        \"min\": 2,\n        \"max\": 25,\n        \"num_unique_values\": 4,\n        \"samples\": [\n          25,\n          15,\n          10\n        ],\n        \"semantic_type\": \"\",\n        \"description\": \"\"\n      }\n    },\n    {\n      \"column\": \"nhijos\",\n      \"properties\": {\n        \"dtype\": \"number\",\n        \"std\": 1,\n        \"min\": 0,\n        \"max\": 3,\n        \"num_unique_values\": 4,\n        \"samples\": [\n          3,\n          2,\n          1\n        ],\n        \"semantic_type\": \"\",\n        \"description\": \"\"\n      }\n    },\n    {\n      \"column\": \"imp\",\n      \"properties\": {\n        \"dtype\": \"number\",\n        \"std\": 2672,\n        \"min\": 50,\n        \"max\": 6000,\n        \"num_unique_values\": 4,\n        \"samples\": [\n          6000,\n          1000,\n          3500\n        ],\n        \"semantic_type\": \"\",\n        \"description\": \"\"\n      }\n    },\n    {\n      \"column\": \"ing\",\n      \"properties\": {\n        \"dtype\": \"number\",\n        \"std\": 13142,\n        \"min\": 1500,\n        \"max\": 30000,\n        \"num_unique_values\": 4,\n        \"samples\": [\n          30000,\n          2800,\n          12000\n        ],\n        \"semantic_type\": \"\",\n        \"description\": \"\"\n      }\n    }\n  ]\n}"
            }
          },
          "metadata": {},
          "execution_count": 69
        }
      ]
    },
    {
      "cell_type": "code",
      "source": [
        "arr_tmp = df_tmp.values\n",
        "print(f\"El arreglo es \\n{arr_tmp}\")\n",
        "print(f\"El tipo de objeto es {type(arr_tmp)}\")\n",
        "print(f\"El arreglo tiene \\n{arr_tmp.ndim} dimensiones\")\n",
        "print(f\"El tamaño de las dimensiones es \\n{arr_tmp.shape}\")\n",
        "print(f\"La cantidad de elementos es \\n{arr_tmp.size}\")"
      ],
      "metadata": {
        "colab": {
          "base_uri": "https://localhost:8080/"
        },
        "id": "k2atKR8hp4o2",
        "outputId": "a0c2ac63-4520-4344-d7ac-9108a98c8aaa"
      },
      "execution_count": 70,
      "outputs": [
        {
          "output_type": "stream",
          "name": "stdout",
          "text": [
            "El arreglo es \n",
            "[[   35    10     1  3500 12000]\n",
            " [   50    25     3  6000 30000]\n",
            " [   23     2     0    50  1500]\n",
            " [   42    15     2  1000  2800]]\n",
            "El tipo de objeto es <class 'numpy.ndarray'>\n",
            "El arreglo tiene \n",
            "2 dimensiones\n",
            "El tamaño de las dimensiones es \n",
            "(4, 5)\n",
            "La cantidad de elementos es \n",
            "20\n"
          ]
        }
      ]
    },
    {
      "cell_type": "code",
      "source": [
        "#Edad y años del primer y tercer registro\n",
        "r1 = arr_tmp[0][:2]\n",
        "r3 = arr_tmp[2][:2]"
      ],
      "metadata": {
        "id": "dPqVjIKWqWZ2"
      },
      "execution_count": 73,
      "outputs": []
    },
    {
      "cell_type": "code",
      "source": [
        "print(f\"La edad y años de experiencia del primer registro son: \\n{r1}\")\n",
        "print(f\"La edad y años de experiencia del tercer registro son: \\n{r3}\")"
      ],
      "metadata": {
        "colab": {
          "base_uri": "https://localhost:8080/"
        },
        "id": "jBOzjJg5qwra",
        "outputId": "e91763cd-46e5-4f94-f148-adb5a2335c13"
      },
      "execution_count": 74,
      "outputs": [
        {
          "output_type": "stream",
          "name": "stdout",
          "text": [
            "La edad y años de experiencia del primer registro son: \n",
            "[35 10]\n",
            "La edad y años de experiencia del tercer registro son: \n",
            "[23  2]\n"
          ]
        }
      ]
    },
    {
      "cell_type": "markdown",
      "source": [
        "Cual es el maximo ingreso"
      ],
      "metadata": {
        "id": "VdGJqJlKtKLw"
      }
    },
    {
      "cell_type": "code",
      "source": [
        "max_i = arr_tmp[:,4].max()\n",
        "max_i_1 = arr_tmp[:,-1].max()\n",
        "print(f\"El maximo de los ingresos es: \\n{max_i}\")\n",
        "print(f\"El maximo de los ingresos es (de otra manera): \\n{max_i_1}\")"
      ],
      "metadata": {
        "colab": {
          "base_uri": "https://localhost:8080/"
        },
        "id": "CWi5Jf5itCnW",
        "outputId": "5159b94b-d252-467b-ba36-4985903bdebf"
      },
      "execution_count": 76,
      "outputs": [
        {
          "output_type": "stream",
          "name": "stdout",
          "text": [
            "El maximo de los ingresos es: \n",
            "30000\n",
            "El maximo de los ingresos es (de otra manera): \n",
            "30000\n"
          ]
        }
      ]
    },
    {
      "cell_type": "markdown",
      "source": [
        "Cual es el promedio de los ingresos"
      ],
      "metadata": {
        "id": "pOo96clutrvm"
      }
    },
    {
      "cell_type": "code",
      "source": [
        "mean_i = arr_tmp[:,4].mean()\n",
        "mean_i_1 = arr_tmp[:,-1].mean()\n",
        "print(f\"El promedio de los ingresos es: \\n{mean_i}\")\n",
        "print(f\"El promedio de los ingresos es (de otra manera): \\n{mean_i_1}\")"
      ],
      "metadata": {
        "colab": {
          "base_uri": "https://localhost:8080/"
        },
        "id": "JwkM3vbrtt1S",
        "outputId": "8daeab9e-8861-4c0d-9cc5-9481fa3b8429"
      },
      "execution_count": 78,
      "outputs": [
        {
          "output_type": "stream",
          "name": "stdout",
          "text": [
            "El promedio de los ingresos es: \n",
            "11575.0\n",
            "El promedio de los ingresos es (de otra manera): \n",
            "11575.0\n"
          ]
        }
      ]
    },
    {
      "cell_type": "markdown",
      "source": [
        "Listas y arreglos NumPy"
      ],
      "metadata": {
        "id": "goJmOygUt6Gl"
      }
    },
    {
      "cell_type": "code",
      "source": [
        "lista_ = list(range(1_000_000)) #lista de 1 millón de valores\n",
        "\n",
        "array = np.array(lista_) #se convierte la lista en un arreglo NumPy"
      ],
      "metadata": {
        "id": "5_VK3pSlt8Ym"
      },
      "execution_count": 79,
      "outputs": []
    },
    {
      "cell_type": "code",
      "source": [
        "import time\n",
        "start = time.time()\n",
        "[i*2 for i in lista_]\n",
        "print(\"Cálculo con listas\",time.time()-start)"
      ],
      "metadata": {
        "colab": {
          "base_uri": "https://localhost:8080/"
        },
        "id": "Y7LQhDGeuHpP",
        "outputId": "a1594470-fb30-4cbb-a43f-bea120ec06c5"
      },
      "execution_count": 80,
      "outputs": [
        {
          "output_type": "stream",
          "name": "stdout",
          "text": [
            "Cálculo con listas 0.08372902870178223\n"
          ]
        }
      ]
    }
  ]
}