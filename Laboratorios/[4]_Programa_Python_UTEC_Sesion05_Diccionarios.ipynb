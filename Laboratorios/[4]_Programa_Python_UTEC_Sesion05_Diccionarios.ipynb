{
  "nbformat": 4,
  "nbformat_minor": 0,
  "metadata": {
    "colab": {
      "provenance": [],
      "include_colab_link": true
    },
    "kernelspec": {
      "name": "python3",
      "display_name": "Python 3"
    },
    "language_info": {
      "name": "python"
    }
  },
  "cells": [
    {
      "cell_type": "markdown",
      "metadata": {
        "id": "view-in-github",
        "colab_type": "text"
      },
      "source": [
        "<a href=\"https://colab.research.google.com/github/hubblej28/curso_python_utec/blob/main/Laboratorios/%5B4%5D_Programa_Python_UTEC_Sesion05_Diccionarios.ipynb\" target=\"_parent\"><img src=\"https://colab.research.google.com/assets/colab-badge.svg\" alt=\"Open In Colab\"/></a>"
      ]
    },
    {
      "cell_type": "markdown",
      "source": [
        "# Diccionarios"
      ],
      "metadata": {
        "id": "FJ-tqOCBf5l8"
      }
    },
    {
      "cell_type": "markdown",
      "source": [
        "A partir de un resultado de una libreria"
      ],
      "metadata": {
        "id": "2FlqJO8uVj5P"
      }
    },
    {
      "cell_type": "code",
      "source": [],
      "metadata": {
        "id": "ufXdjksBVjKY"
      },
      "execution_count": null,
      "outputs": []
    },
    {
      "cell_type": "code",
      "execution_count": null,
      "metadata": {
        "id": "9b6dksRZfwcO"
      },
      "outputs": [],
      "source": [
        "texto = \"David\""
      ]
    },
    {
      "cell_type": "code",
      "source": [
        "from collections import Counter\n",
        "\n",
        "frecuencia = Counter(texto)\n",
        "\n",
        "d_frecuencia = dict(frecuencia)"
      ],
      "metadata": {
        "id": "v4V24XIQf7UV"
      },
      "execution_count": null,
      "outputs": []
    },
    {
      "cell_type": "code",
      "source": [
        "print(f\"El diccionario d_frecuencia es \\n{d_frecuencia}\")\n",
        "print(f\"El tipo de objeto es {type(d_frecuencia)}\")"
      ],
      "metadata": {
        "colab": {
          "base_uri": "https://localhost:8080/"
        },
        "id": "HcssaSi7geQr",
        "outputId": "72804d95-be37-45c8-f5cc-11bd69aed1a4"
      },
      "execution_count": null,
      "outputs": [
        {
          "output_type": "stream",
          "name": "stdout",
          "text": [
            "El diccionario d_frecuencia es \n",
            "{'D': 1, 'a': 1, 'v': 1, 'i': 1, 'd': 1}\n",
            "El tipo de objeto es <class 'dict'>\n"
          ]
        }
      ]
    },
    {
      "cell_type": "code",
      "source": [
        "print(f\"La clave U del Diccionario es {d_frecuencia['U']}\")"
      ],
      "metadata": {
        "colab": {
          "base_uri": "https://localhost:8080/",
          "height": 144
        },
        "id": "2S-htzuygqYG",
        "outputId": "e0837c5d-2576-4606-d33b-67da3796b590"
      },
      "execution_count": null,
      "outputs": [
        {
          "output_type": "error",
          "ename": "KeyError",
          "evalue": "'U'",
          "traceback": [
            "\u001b[0;31m---------------------------------------------------------------------------\u001b[0m",
            "\u001b[0;31mKeyError\u001b[0m                                  Traceback (most recent call last)",
            "\u001b[0;32m/tmp/ipython-input-3589077759.py\u001b[0m in \u001b[0;36m<cell line: 0>\u001b[0;34m()\u001b[0m\n\u001b[0;32m----> 1\u001b[0;31m \u001b[0mprint\u001b[0m\u001b[0;34m(\u001b[0m\u001b[0;34mf\"La clave U del Diccionario es {d_frecuencia['U']}\"\u001b[0m\u001b[0;34m)\u001b[0m\u001b[0;34m\u001b[0m\u001b[0;34m\u001b[0m\u001b[0m\n\u001b[0m",
            "\u001b[0;31mKeyError\u001b[0m: 'U'"
          ]
        }
      ]
    },
    {
      "cell_type": "markdown",
      "source": [
        "A partir del uso de la librería pandas"
      ],
      "metadata": {
        "id": "tc4p26DCVoMP"
      }
    },
    {
      "cell_type": "code",
      "source": [
        "import pandas as pd\n",
        "\n",
        "df = pd.read_csv(\"clientes.csv\", sep=\";\")"
      ],
      "metadata": {
        "id": "Spmc733-hEgD"
      },
      "execution_count": null,
      "outputs": []
    },
    {
      "cell_type": "code",
      "source": [
        "print(f\"El objeto es del tipo {type(df)}\")"
      ],
      "metadata": {
        "id": "ovU1mxFuWJO4",
        "outputId": "123b10d4-1e15-492e-ee80-2680105e721a",
        "colab": {
          "base_uri": "https://localhost:8080/"
        }
      },
      "execution_count": null,
      "outputs": [
        {
          "output_type": "stream",
          "name": "stdout",
          "text": [
            "El objeto es del tipo <class 'pandas.core.frame.DataFrame'>\n"
          ]
        }
      ]
    },
    {
      "cell_type": "code",
      "source": [
        "df"
      ],
      "metadata": {
        "id": "CETh7dX0Wf5w",
        "outputId": "8224f3f5-786a-47f5-d6ce-6cb48b1868f8",
        "colab": {
          "base_uri": "https://localhost:8080/",
          "height": 300
        }
      },
      "execution_count": null,
      "outputs": [
        {
          "output_type": "execute_result",
          "data": {
            "text/plain": [
              "    ID  EDAD  INGRESOS RIESGO  LINEA_TC\n",
              "0  123    36      1348      A     49924\n",
              "1  234    52      9479      A     28454\n",
              "2  345    60      7511      B     14250\n",
              "3  456    40      7992      C     32064\n",
              "4  567    58      2675      C      1485\n",
              "5  678    47      7086      D     29157\n",
              "6  789    31      4704      E     14945\n",
              "7  999    42      6245      E      8798"
            ],
            "text/html": [
              "\n",
              "  <div id=\"df-41e925d3-f31b-4e52-96ae-75ed0e61f501\" class=\"colab-df-container\">\n",
              "    <div>\n",
              "<style scoped>\n",
              "    .dataframe tbody tr th:only-of-type {\n",
              "        vertical-align: middle;\n",
              "    }\n",
              "\n",
              "    .dataframe tbody tr th {\n",
              "        vertical-align: top;\n",
              "    }\n",
              "\n",
              "    .dataframe thead th {\n",
              "        text-align: right;\n",
              "    }\n",
              "</style>\n",
              "<table border=\"1\" class=\"dataframe\">\n",
              "  <thead>\n",
              "    <tr style=\"text-align: right;\">\n",
              "      <th></th>\n",
              "      <th>ID</th>\n",
              "      <th>EDAD</th>\n",
              "      <th>INGRESOS</th>\n",
              "      <th>RIESGO</th>\n",
              "      <th>LINEA_TC</th>\n",
              "    </tr>\n",
              "  </thead>\n",
              "  <tbody>\n",
              "    <tr>\n",
              "      <th>0</th>\n",
              "      <td>123</td>\n",
              "      <td>36</td>\n",
              "      <td>1348</td>\n",
              "      <td>A</td>\n",
              "      <td>49924</td>\n",
              "    </tr>\n",
              "    <tr>\n",
              "      <th>1</th>\n",
              "      <td>234</td>\n",
              "      <td>52</td>\n",
              "      <td>9479</td>\n",
              "      <td>A</td>\n",
              "      <td>28454</td>\n",
              "    </tr>\n",
              "    <tr>\n",
              "      <th>2</th>\n",
              "      <td>345</td>\n",
              "      <td>60</td>\n",
              "      <td>7511</td>\n",
              "      <td>B</td>\n",
              "      <td>14250</td>\n",
              "    </tr>\n",
              "    <tr>\n",
              "      <th>3</th>\n",
              "      <td>456</td>\n",
              "      <td>40</td>\n",
              "      <td>7992</td>\n",
              "      <td>C</td>\n",
              "      <td>32064</td>\n",
              "    </tr>\n",
              "    <tr>\n",
              "      <th>4</th>\n",
              "      <td>567</td>\n",
              "      <td>58</td>\n",
              "      <td>2675</td>\n",
              "      <td>C</td>\n",
              "      <td>1485</td>\n",
              "    </tr>\n",
              "    <tr>\n",
              "      <th>5</th>\n",
              "      <td>678</td>\n",
              "      <td>47</td>\n",
              "      <td>7086</td>\n",
              "      <td>D</td>\n",
              "      <td>29157</td>\n",
              "    </tr>\n",
              "    <tr>\n",
              "      <th>6</th>\n",
              "      <td>789</td>\n",
              "      <td>31</td>\n",
              "      <td>4704</td>\n",
              "      <td>E</td>\n",
              "      <td>14945</td>\n",
              "    </tr>\n",
              "    <tr>\n",
              "      <th>7</th>\n",
              "      <td>999</td>\n",
              "      <td>42</td>\n",
              "      <td>6245</td>\n",
              "      <td>E</td>\n",
              "      <td>8798</td>\n",
              "    </tr>\n",
              "  </tbody>\n",
              "</table>\n",
              "</div>\n",
              "    <div class=\"colab-df-buttons\">\n",
              "\n",
              "  <div class=\"colab-df-container\">\n",
              "    <button class=\"colab-df-convert\" onclick=\"convertToInteractive('df-41e925d3-f31b-4e52-96ae-75ed0e61f501')\"\n",
              "            title=\"Convert this dataframe to an interactive table.\"\n",
              "            style=\"display:none;\">\n",
              "\n",
              "  <svg xmlns=\"http://www.w3.org/2000/svg\" height=\"24px\" viewBox=\"0 -960 960 960\">\n",
              "    <path d=\"M120-120v-720h720v720H120Zm60-500h600v-160H180v160Zm220 220h160v-160H400v160Zm0 220h160v-160H400v160ZM180-400h160v-160H180v160Zm440 0h160v-160H620v160ZM180-180h160v-160H180v160Zm440 0h160v-160H620v160Z\"/>\n",
              "  </svg>\n",
              "    </button>\n",
              "\n",
              "  <style>\n",
              "    .colab-df-container {\n",
              "      display:flex;\n",
              "      gap: 12px;\n",
              "    }\n",
              "\n",
              "    .colab-df-convert {\n",
              "      background-color: #E8F0FE;\n",
              "      border: none;\n",
              "      border-radius: 50%;\n",
              "      cursor: pointer;\n",
              "      display: none;\n",
              "      fill: #1967D2;\n",
              "      height: 32px;\n",
              "      padding: 0 0 0 0;\n",
              "      width: 32px;\n",
              "    }\n",
              "\n",
              "    .colab-df-convert:hover {\n",
              "      background-color: #E2EBFA;\n",
              "      box-shadow: 0px 1px 2px rgba(60, 64, 67, 0.3), 0px 1px 3px 1px rgba(60, 64, 67, 0.15);\n",
              "      fill: #174EA6;\n",
              "    }\n",
              "\n",
              "    .colab-df-buttons div {\n",
              "      margin-bottom: 4px;\n",
              "    }\n",
              "\n",
              "    [theme=dark] .colab-df-convert {\n",
              "      background-color: #3B4455;\n",
              "      fill: #D2E3FC;\n",
              "    }\n",
              "\n",
              "    [theme=dark] .colab-df-convert:hover {\n",
              "      background-color: #434B5C;\n",
              "      box-shadow: 0px 1px 3px 1px rgba(0, 0, 0, 0.15);\n",
              "      filter: drop-shadow(0px 1px 2px rgba(0, 0, 0, 0.3));\n",
              "      fill: #FFFFFF;\n",
              "    }\n",
              "  </style>\n",
              "\n",
              "    <script>\n",
              "      const buttonEl =\n",
              "        document.querySelector('#df-41e925d3-f31b-4e52-96ae-75ed0e61f501 button.colab-df-convert');\n",
              "      buttonEl.style.display =\n",
              "        google.colab.kernel.accessAllowed ? 'block' : 'none';\n",
              "\n",
              "      async function convertToInteractive(key) {\n",
              "        const element = document.querySelector('#df-41e925d3-f31b-4e52-96ae-75ed0e61f501');\n",
              "        const dataTable =\n",
              "          await google.colab.kernel.invokeFunction('convertToInteractive',\n",
              "                                                    [key], {});\n",
              "        if (!dataTable) return;\n",
              "\n",
              "        const docLinkHtml = 'Like what you see? Visit the ' +\n",
              "          '<a target=\"_blank\" href=https://colab.research.google.com/notebooks/data_table.ipynb>data table notebook</a>'\n",
              "          + ' to learn more about interactive tables.';\n",
              "        element.innerHTML = '';\n",
              "        dataTable['output_type'] = 'display_data';\n",
              "        await google.colab.output.renderOutput(dataTable, element);\n",
              "        const docLink = document.createElement('div');\n",
              "        docLink.innerHTML = docLinkHtml;\n",
              "        element.appendChild(docLink);\n",
              "      }\n",
              "    </script>\n",
              "  </div>\n",
              "\n",
              "\n",
              "    <div id=\"df-8b173ffb-5cad-4728-8301-c2c28c6af749\">\n",
              "      <button class=\"colab-df-quickchart\" onclick=\"quickchart('df-8b173ffb-5cad-4728-8301-c2c28c6af749')\"\n",
              "                title=\"Suggest charts\"\n",
              "                style=\"display:none;\">\n",
              "\n",
              "<svg xmlns=\"http://www.w3.org/2000/svg\" height=\"24px\"viewBox=\"0 0 24 24\"\n",
              "     width=\"24px\">\n",
              "    <g>\n",
              "        <path d=\"M19 3H5c-1.1 0-2 .9-2 2v14c0 1.1.9 2 2 2h14c1.1 0 2-.9 2-2V5c0-1.1-.9-2-2-2zM9 17H7v-7h2v7zm4 0h-2V7h2v10zm4 0h-2v-4h2v4z\"/>\n",
              "    </g>\n",
              "</svg>\n",
              "      </button>\n",
              "\n",
              "<style>\n",
              "  .colab-df-quickchart {\n",
              "      --bg-color: #E8F0FE;\n",
              "      --fill-color: #1967D2;\n",
              "      --hover-bg-color: #E2EBFA;\n",
              "      --hover-fill-color: #174EA6;\n",
              "      --disabled-fill-color: #AAA;\n",
              "      --disabled-bg-color: #DDD;\n",
              "  }\n",
              "\n",
              "  [theme=dark] .colab-df-quickchart {\n",
              "      --bg-color: #3B4455;\n",
              "      --fill-color: #D2E3FC;\n",
              "      --hover-bg-color: #434B5C;\n",
              "      --hover-fill-color: #FFFFFF;\n",
              "      --disabled-bg-color: #3B4455;\n",
              "      --disabled-fill-color: #666;\n",
              "  }\n",
              "\n",
              "  .colab-df-quickchart {\n",
              "    background-color: var(--bg-color);\n",
              "    border: none;\n",
              "    border-radius: 50%;\n",
              "    cursor: pointer;\n",
              "    display: none;\n",
              "    fill: var(--fill-color);\n",
              "    height: 32px;\n",
              "    padding: 0;\n",
              "    width: 32px;\n",
              "  }\n",
              "\n",
              "  .colab-df-quickchart:hover {\n",
              "    background-color: var(--hover-bg-color);\n",
              "    box-shadow: 0 1px 2px rgba(60, 64, 67, 0.3), 0 1px 3px 1px rgba(60, 64, 67, 0.15);\n",
              "    fill: var(--button-hover-fill-color);\n",
              "  }\n",
              "\n",
              "  .colab-df-quickchart-complete:disabled,\n",
              "  .colab-df-quickchart-complete:disabled:hover {\n",
              "    background-color: var(--disabled-bg-color);\n",
              "    fill: var(--disabled-fill-color);\n",
              "    box-shadow: none;\n",
              "  }\n",
              "\n",
              "  .colab-df-spinner {\n",
              "    border: 2px solid var(--fill-color);\n",
              "    border-color: transparent;\n",
              "    border-bottom-color: var(--fill-color);\n",
              "    animation:\n",
              "      spin 1s steps(1) infinite;\n",
              "  }\n",
              "\n",
              "  @keyframes spin {\n",
              "    0% {\n",
              "      border-color: transparent;\n",
              "      border-bottom-color: var(--fill-color);\n",
              "      border-left-color: var(--fill-color);\n",
              "    }\n",
              "    20% {\n",
              "      border-color: transparent;\n",
              "      border-left-color: var(--fill-color);\n",
              "      border-top-color: var(--fill-color);\n",
              "    }\n",
              "    30% {\n",
              "      border-color: transparent;\n",
              "      border-left-color: var(--fill-color);\n",
              "      border-top-color: var(--fill-color);\n",
              "      border-right-color: var(--fill-color);\n",
              "    }\n",
              "    40% {\n",
              "      border-color: transparent;\n",
              "      border-right-color: var(--fill-color);\n",
              "      border-top-color: var(--fill-color);\n",
              "    }\n",
              "    60% {\n",
              "      border-color: transparent;\n",
              "      border-right-color: var(--fill-color);\n",
              "    }\n",
              "    80% {\n",
              "      border-color: transparent;\n",
              "      border-right-color: var(--fill-color);\n",
              "      border-bottom-color: var(--fill-color);\n",
              "    }\n",
              "    90% {\n",
              "      border-color: transparent;\n",
              "      border-bottom-color: var(--fill-color);\n",
              "    }\n",
              "  }\n",
              "</style>\n",
              "\n",
              "      <script>\n",
              "        async function quickchart(key) {\n",
              "          const quickchartButtonEl =\n",
              "            document.querySelector('#' + key + ' button');\n",
              "          quickchartButtonEl.disabled = true;  // To prevent multiple clicks.\n",
              "          quickchartButtonEl.classList.add('colab-df-spinner');\n",
              "          try {\n",
              "            const charts = await google.colab.kernel.invokeFunction(\n",
              "                'suggestCharts', [key], {});\n",
              "          } catch (error) {\n",
              "            console.error('Error during call to suggestCharts:', error);\n",
              "          }\n",
              "          quickchartButtonEl.classList.remove('colab-df-spinner');\n",
              "          quickchartButtonEl.classList.add('colab-df-quickchart-complete');\n",
              "        }\n",
              "        (() => {\n",
              "          let quickchartButtonEl =\n",
              "            document.querySelector('#df-8b173ffb-5cad-4728-8301-c2c28c6af749 button');\n",
              "          quickchartButtonEl.style.display =\n",
              "            google.colab.kernel.accessAllowed ? 'block' : 'none';\n",
              "        })();\n",
              "      </script>\n",
              "    </div>\n",
              "\n",
              "  <div id=\"id_174892c5-9105-4732-8101-d67aa004fb21\">\n",
              "    <style>\n",
              "      .colab-df-generate {\n",
              "        background-color: #E8F0FE;\n",
              "        border: none;\n",
              "        border-radius: 50%;\n",
              "        cursor: pointer;\n",
              "        display: none;\n",
              "        fill: #1967D2;\n",
              "        height: 32px;\n",
              "        padding: 0 0 0 0;\n",
              "        width: 32px;\n",
              "      }\n",
              "\n",
              "      .colab-df-generate:hover {\n",
              "        background-color: #E2EBFA;\n",
              "        box-shadow: 0px 1px 2px rgba(60, 64, 67, 0.3), 0px 1px 3px 1px rgba(60, 64, 67, 0.15);\n",
              "        fill: #174EA6;\n",
              "      }\n",
              "\n",
              "      [theme=dark] .colab-df-generate {\n",
              "        background-color: #3B4455;\n",
              "        fill: #D2E3FC;\n",
              "      }\n",
              "\n",
              "      [theme=dark] .colab-df-generate:hover {\n",
              "        background-color: #434B5C;\n",
              "        box-shadow: 0px 1px 3px 1px rgba(0, 0, 0, 0.15);\n",
              "        filter: drop-shadow(0px 1px 2px rgba(0, 0, 0, 0.3));\n",
              "        fill: #FFFFFF;\n",
              "      }\n",
              "    </style>\n",
              "    <button class=\"colab-df-generate\" onclick=\"generateWithVariable('df')\"\n",
              "            title=\"Generate code using this dataframe.\"\n",
              "            style=\"display:none;\">\n",
              "\n",
              "  <svg xmlns=\"http://www.w3.org/2000/svg\" height=\"24px\"viewBox=\"0 0 24 24\"\n",
              "       width=\"24px\">\n",
              "    <path d=\"M7,19H8.4L18.45,9,17,7.55,7,17.6ZM5,21V16.75L18.45,3.32a2,2,0,0,1,2.83,0l1.4,1.43a1.91,1.91,0,0,1,.58,1.4,1.91,1.91,0,0,1-.58,1.4L9.25,21ZM18.45,9,17,7.55Zm-12,3A5.31,5.31,0,0,0,4.9,8.1,5.31,5.31,0,0,0,1,6.5,5.31,5.31,0,0,0,4.9,4.9,5.31,5.31,0,0,0,6.5,1,5.31,5.31,0,0,0,8.1,4.9,5.31,5.31,0,0,0,12,6.5,5.46,5.46,0,0,0,6.5,12Z\"/>\n",
              "  </svg>\n",
              "    </button>\n",
              "    <script>\n",
              "      (() => {\n",
              "      const buttonEl =\n",
              "        document.querySelector('#id_174892c5-9105-4732-8101-d67aa004fb21 button.colab-df-generate');\n",
              "      buttonEl.style.display =\n",
              "        google.colab.kernel.accessAllowed ? 'block' : 'none';\n",
              "\n",
              "      buttonEl.onclick = () => {\n",
              "        google.colab.notebook.generateWithVariable('df');\n",
              "      }\n",
              "      })();\n",
              "    </script>\n",
              "  </div>\n",
              "\n",
              "    </div>\n",
              "  </div>\n"
            ],
            "application/vnd.google.colaboratory.intrinsic+json": {
              "type": "dataframe",
              "variable_name": "df",
              "summary": "{\n  \"name\": \"df\",\n  \"rows\": 8,\n  \"fields\": [\n    {\n      \"column\": \"ID\",\n      \"properties\": {\n        \"dtype\": \"number\",\n        \"std\": 293,\n        \"min\": 123,\n        \"max\": 999,\n        \"num_unique_values\": 8,\n        \"samples\": [\n          234,\n          678,\n          123\n        ],\n        \"semantic_type\": \"\",\n        \"description\": \"\"\n      }\n    },\n    {\n      \"column\": \"EDAD\",\n      \"properties\": {\n        \"dtype\": \"number\",\n        \"std\": 10,\n        \"min\": 31,\n        \"max\": 60,\n        \"num_unique_values\": 8,\n        \"samples\": [\n          52,\n          47,\n          36\n        ],\n        \"semantic_type\": \"\",\n        \"description\": \"\"\n      }\n    },\n    {\n      \"column\": \"INGRESOS\",\n      \"properties\": {\n        \"dtype\": \"number\",\n        \"std\": 2773,\n        \"min\": 1348,\n        \"max\": 9479,\n        \"num_unique_values\": 8,\n        \"samples\": [\n          9479,\n          7086,\n          1348\n        ],\n        \"semantic_type\": \"\",\n        \"description\": \"\"\n      }\n    },\n    {\n      \"column\": \"RIESGO\",\n      \"properties\": {\n        \"dtype\": \"string\",\n        \"num_unique_values\": 5,\n        \"samples\": [\n          \"B\",\n          \"E\",\n          \"C\"\n        ],\n        \"semantic_type\": \"\",\n        \"description\": \"\"\n      }\n    },\n    {\n      \"column\": \"LINEA_TC\",\n      \"properties\": {\n        \"dtype\": \"number\",\n        \"std\": 15481,\n        \"min\": 1485,\n        \"max\": 49924,\n        \"num_unique_values\": 8,\n        \"samples\": [\n          28454,\n          29157,\n          49924\n        ],\n        \"semantic_type\": \"\",\n        \"description\": \"\"\n      }\n    }\n  ]\n}"
            }
          },
          "metadata": {},
          "execution_count": 16
        }
      ]
    },
    {
      "cell_type": "code",
      "source": [
        "d_df = df.to_dict()"
      ],
      "metadata": {
        "id": "Cwpfkfx3YELg"
      },
      "execution_count": null,
      "outputs": []
    },
    {
      "cell_type": "code",
      "source": [
        "print(f\"El valor de la clave EDAD del diccionario es {d_df['EDAD']}\")"
      ],
      "metadata": {
        "id": "Y36ms-bOYJxo",
        "outputId": "1d0edd4b-2474-41b1-a97c-cc47a814d23a",
        "colab": {
          "base_uri": "https://localhost:8080/"
        }
      },
      "execution_count": null,
      "outputs": [
        {
          "output_type": "stream",
          "name": "stdout",
          "text": [
            "El valor de la clave EDAD del diccionario es {0: 36, 1: 52, 2: 60, 3: 40, 4: 58, 5: 47, 6: 31, 7: 42}\n"
          ]
        }
      ]
    },
    {
      "cell_type": "code",
      "source": [
        "print(f\"El tipo de clave Edad del diccionario es {type(d_df['EDAD'])}\")"
      ],
      "metadata": {
        "id": "-IyMxPzMYkbI",
        "outputId": "5b57bf7d-255a-4c99-909b-fbc37621c425",
        "colab": {
          "base_uri": "https://localhost:8080/"
        }
      },
      "execution_count": null,
      "outputs": [
        {
          "output_type": "stream",
          "name": "stdout",
          "text": [
            "El tipo de clave Edad del diccionario es <class 'dict'>\n"
          ]
        }
      ]
    },
    {
      "cell_type": "code",
      "source": [
        "d_df['EDAD'][2]"
      ],
      "metadata": {
        "id": "6bMXFshgY8u4",
        "outputId": "259a0904-afc1-4cdc-8553-c399adf82f2e",
        "colab": {
          "base_uri": "https://localhost:8080/"
        }
      },
      "execution_count": null,
      "outputs": [
        {
          "output_type": "execute_result",
          "data": {
            "text/plain": [
              "60"
            ]
          },
          "metadata": {},
          "execution_count": 27
        }
      ]
    },
    {
      "cell_type": "code",
      "source": [
        "dic1 = d_df['EDAD']\n",
        "dic1[2]"
      ],
      "metadata": {
        "id": "pGqTYAnWa5TZ",
        "outputId": "cd2d57ce-72f2-484c-e462-f797f7d51936",
        "colab": {
          "base_uri": "https://localhost:8080/"
        }
      },
      "execution_count": null,
      "outputs": [
        {
          "output_type": "execute_result",
          "data": {
            "text/plain": [
              "60"
            ]
          },
          "metadata": {},
          "execution_count": 28
        }
      ]
    },
    {
      "cell_type": "code",
      "source": [
        "dc_0 = {} #diccionario vacío\n",
        "print(f\"El tipo de objeto dc_0 es: {type(dc_0)}\")"
      ],
      "metadata": {
        "id": "W6iYOkhNcYfR",
        "outputId": "519f0010-c8b7-49d8-c0f5-d7ca1a850c81",
        "colab": {
          "base_uri": "https://localhost:8080/"
        }
      },
      "execution_count": null,
      "outputs": [
        {
          "output_type": "stream",
          "name": "stdout",
          "text": [
            "El tipo de objeto dc_0 es: <class 'dict'>\n"
          ]
        }
      ]
    },
    {
      "cell_type": "markdown",
      "source": [
        "Diccionario homogéneo: con claves (caracteres) y valores (enteros)"
      ],
      "metadata": {
        "id": "xUT-L5-ecv5p"
      }
    },
    {
      "cell_type": "code",
      "source": [
        "dc_1 = {\n",
        "    \"a\":1,\n",
        "    \"b\":2,\n",
        "    \"c\":3\n",
        "}\n",
        "\n",
        "print(f\"El objeto es {dc_1}\")\n",
        "print(f\"El tipo de objeto es {type(dc_1)}\")"
      ],
      "metadata": {
        "id": "oXxQtJakcuwp",
        "outputId": "4ea2c618-191c-4cb5-8073-018747570501",
        "colab": {
          "base_uri": "https://localhost:8080/"
        }
      },
      "execution_count": null,
      "outputs": [
        {
          "output_type": "stream",
          "name": "stdout",
          "text": [
            "El objeto es {'a': 1, 'b': 2, 'c': 3}\n",
            "El tipo de objeto es <class 'dict'>\n"
          ]
        }
      ]
    },
    {
      "cell_type": "markdown",
      "source": [
        "Diccionario heterogéneo: con claves (caracteres) y valores (distinto tipo)"
      ],
      "metadata": {
        "id": "imQq6YbsdKgT"
      }
    },
    {
      "cell_type": "code",
      "source": [
        "dc_2 = {\n",
        "    \"a\":{\"x\":100},\n",
        "    \"b\":[10,20,30],\n",
        "    \"c\":(1,2,3,4,5)\n",
        "}\n",
        "\n",
        "print(dc_2[\"a\"][\"x\"])"
      ],
      "metadata": {
        "id": "H5AtUqVkdNN4",
        "outputId": "8fe852a1-2cf5-41bf-8f3f-548165e23a6d",
        "colab": {
          "base_uri": "https://localhost:8080/"
        }
      },
      "execution_count": null,
      "outputs": [
        {
          "output_type": "stream",
          "name": "stdout",
          "text": [
            "100\n"
          ]
        }
      ]
    },
    {
      "cell_type": "markdown",
      "source": [
        "¿Los diccionarios pueden tener claves repetidas?"
      ],
      "metadata": {
        "id": "GdUWRbudexoK"
      }
    },
    {
      "cell_type": "code",
      "source": [
        "dc_3 = {\n",
        "    \"a\":100,\n",
        "    \"b\":200,\n",
        "    \"a\":300\n",
        "}\n",
        "\n",
        "print(f\"El diccionario es {dc_3}\")"
      ],
      "metadata": {
        "id": "7Hgq1pB8ew6a",
        "outputId": "0b9e8812-9cca-4c25-dccf-71f35c36c8c3",
        "colab": {
          "base_uri": "https://localhost:8080/"
        }
      },
      "execution_count": null,
      "outputs": [
        {
          "output_type": "stream",
          "name": "stdout",
          "text": [
            "El diccionario es {'a': 300, 'b': 200}\n"
          ]
        }
      ]
    },
    {
      "cell_type": "code",
      "source": [
        "dic_info = {\n",
        "    \"nombre\":\"Juan\",\n",
        "    \"apellido\":\"Díaz\",\n",
        "    \"edad\": 28,\n",
        "    \"profesión\":\"ingeniero\"\n",
        "}"
      ],
      "metadata": {
        "id": "UY8dFXF0fp6R"
      },
      "execution_count": null,
      "outputs": []
    },
    {
      "cell_type": "code",
      "source": [
        "dc_5 = {\n",
        "    1:100,\n",
        "    \"b\":200,\n",
        "    \"David\":\"instructor\"\n",
        "}\n",
        "\n",
        "print(f\"El diccionario es {dc_5}\")\n",
        "print(f\"El tipo del diccionario es {type(dc_5)}\")"
      ],
      "metadata": {
        "id": "RApkz_n7gtAh",
        "outputId": "0c4d2e27-04cd-4b16-af74-57ee17e7bb2d",
        "colab": {
          "base_uri": "https://localhost:8080/"
        }
      },
      "execution_count": null,
      "outputs": [
        {
          "output_type": "stream",
          "name": "stdout",
          "text": [
            "El diccionario es {1: 100, 'b': 200, 'David': 'instructor'}\n",
            "El tipo del diccionario es <class 'dict'>\n"
          ]
        }
      ]
    },
    {
      "cell_type": "code",
      "source": [
        "dc_6 = {\n",
        "    \"david\":1,\n",
        "    \"juan\":2,\n",
        "    \"pedro\":3\n",
        "}\n",
        "print(f\"El diccionario es {dc_6}\")\n",
        "print(f\"El tipo del diccionario es {type(dc_6)}\")"
      ],
      "metadata": {
        "id": "i7AceNoHhAZq",
        "outputId": "f326914b-ed0a-4746-d018-af8b427f4372",
        "colab": {
          "base_uri": "https://localhost:8080/"
        }
      },
      "execution_count": null,
      "outputs": [
        {
          "output_type": "stream",
          "name": "stdout",
          "text": [
            "El diccionario es {'david': 1, 'juan': 2, 'pedro': 3}\n",
            "El tipo del diccionario es <class 'dict'>\n"
          ]
        }
      ]
    },
    {
      "cell_type": "code",
      "source": [
        "dict_super = {\n",
        "    \"item\":[\"agua\", \"menestras\", \"azúcar\", \"carne\", \"manzanas\"],\n",
        "    \"cantidad\":[2, 4, 3, 4, 7],\n",
        "    \"precio\":[20, 10, 10, 30, 7]\n",
        "}\n",
        "\n",
        "print(f\"El diccionario de mis compras en el supermercado es:\\n{dict_super}\")\n",
        "print(f\"El tipo de objeto es:\\n{type(dict_super)}\")\n",
        "\n",
        "manz = dict_super['item'].index(\"manzanas\")\n",
        "print(f\"El precio de las manzanas es: {dict_super['precio'][manz]}\")"
      ],
      "metadata": {
        "id": "MQQCT96AhL56",
        "outputId": "df5cd3e1-6de1-48f1-d776-f9f8377576bf",
        "colab": {
          "base_uri": "https://localhost:8080/"
        }
      },
      "execution_count": null,
      "outputs": [
        {
          "output_type": "stream",
          "name": "stdout",
          "text": [
            "El diccionario de mis compras en el supermercado es:\n",
            "{'item': ['agua', 'menestras', 'azúcar', 'carne', 'manzanas'], 'cantidad': [2, 4, 3, 4, 7], 'precio': [20, 10, 10, 30, 7]}\n",
            "El tipo de objeto es:\n",
            "<class 'dict'>\n",
            "El precio de las manzanas es: 7\n"
          ]
        }
      ]
    },
    {
      "cell_type": "markdown",
      "source": [
        "Método items()"
      ],
      "metadata": {
        "id": "lcHMgQYAr1YN"
      }
    },
    {
      "cell_type": "code",
      "source": [
        "dc_1"
      ],
      "metadata": {
        "id": "Q1YbgTFKr3BT",
        "outputId": "d1f288a8-6469-43aa-da36-03a107a1183d",
        "colab": {
          "base_uri": "https://localhost:8080/"
        }
      },
      "execution_count": null,
      "outputs": [
        {
          "output_type": "execute_result",
          "data": {
            "text/plain": [
              "{'a': 1, 'b': 2, 'c': 3}"
            ]
          },
          "metadata": {},
          "execution_count": 54
        }
      ]
    },
    {
      "cell_type": "code",
      "source": [
        "dc_1.items()"
      ],
      "metadata": {
        "id": "MciFapnQsPZr",
        "outputId": "648f2369-dd66-4793-824c-2bb9a6a06213",
        "colab": {
          "base_uri": "https://localhost:8080/"
        }
      },
      "execution_count": null,
      "outputs": [
        {
          "output_type": "execute_result",
          "data": {
            "text/plain": [
              "dict_items([('a', 1), ('b', 2), ('c', 3)])"
            ]
          },
          "metadata": {},
          "execution_count": 55
        }
      ]
    },
    {
      "cell_type": "code",
      "source": [
        "type(dc_1.items())"
      ],
      "metadata": {
        "id": "3dCibU32sYOU",
        "outputId": "de72375d-d6d0-4610-eeb7-7bc4b764212f",
        "colab": {
          "base_uri": "https://localhost:8080/"
        }
      },
      "execution_count": null,
      "outputs": [
        {
          "output_type": "execute_result",
          "data": {
            "text/plain": [
              "dict_items"
            ]
          },
          "metadata": {},
          "execution_count": 56
        }
      ]
    },
    {
      "cell_type": "code",
      "source": [
        "for c,v in dc_1.items():\n",
        "  print(f\"La clave {c} tiene el valor {v}.\")"
      ],
      "metadata": {
        "id": "PmTrK1v9sp8r",
        "outputId": "2b2459c1-fed8-4413-8537-4f057009e47e",
        "colab": {
          "base_uri": "https://localhost:8080/"
        }
      },
      "execution_count": null,
      "outputs": [
        {
          "output_type": "stream",
          "name": "stdout",
          "text": [
            "La clave a tiene el valor 1.\n",
            "La clave b tiene el valor 2.\n",
            "La clave c tiene el valor 3.\n"
          ]
        }
      ]
    },
    {
      "cell_type": "code",
      "source": [
        "dc_3"
      ],
      "metadata": {
        "id": "i_VTDvDNtBCb",
        "outputId": "a54945ae-bbc1-40d7-948d-44e1616cb70a",
        "colab": {
          "base_uri": "https://localhost:8080/"
        }
      },
      "execution_count": null,
      "outputs": [
        {
          "output_type": "execute_result",
          "data": {
            "text/plain": [
              "{'a': 300, 'b': 200}"
            ]
          },
          "metadata": {},
          "execution_count": 59
        }
      ]
    },
    {
      "cell_type": "code",
      "source": [
        "dc_3.items()"
      ],
      "metadata": {
        "id": "chVJkyqVtSZL",
        "outputId": "40a402d9-4c99-44b3-bca2-a7c1ee8dad85",
        "colab": {
          "base_uri": "https://localhost:8080/"
        }
      },
      "execution_count": null,
      "outputs": [
        {
          "output_type": "execute_result",
          "data": {
            "text/plain": [
              "dict_items([('a', 300), ('b', 200)])"
            ]
          },
          "metadata": {},
          "execution_count": 63
        }
      ]
    },
    {
      "cell_type": "code",
      "source": [
        "l_dc_3 = list(dc_3.items())"
      ],
      "metadata": {
        "id": "aHLyTqNPtDbD"
      },
      "execution_count": null,
      "outputs": []
    },
    {
      "cell_type": "code",
      "source": [
        "l_dc_3"
      ],
      "metadata": {
        "id": "VTyUrdT8tOPs",
        "outputId": "98a659df-fda8-45a8-e86b-be85060e72f1",
        "colab": {
          "base_uri": "https://localhost:8080/"
        }
      },
      "execution_count": null,
      "outputs": [
        {
          "output_type": "execute_result",
          "data": {
            "text/plain": [
              "[('a', 300), ('b', 200)]"
            ]
          },
          "metadata": {},
          "execution_count": 62
        }
      ]
    },
    {
      "cell_type": "code",
      "source": [
        "for c,v in l_dc_3:\n",
        "   print(f\"La clave {c} tiene el valor {v}.\")"
      ],
      "metadata": {
        "id": "o6NrBHBstxFb",
        "outputId": "f668d6b1-e9d9-4334-d00e-4bd220089500",
        "colab": {
          "base_uri": "https://localhost:8080/"
        }
      },
      "execution_count": null,
      "outputs": [
        {
          "output_type": "stream",
          "name": "stdout",
          "text": [
            "La clave a tiene el valor 300.\n",
            "La clave b tiene el valor 200.\n"
          ]
        }
      ]
    },
    {
      "cell_type": "markdown",
      "source": [
        "Cómo eliminar los elementos de un diccionario"
      ],
      "metadata": {
        "id": "mElrbbrkuvss"
      }
    },
    {
      "cell_type": "code",
      "source": [
        "print(f\"El diccionario es {dic_info}\")"
      ],
      "metadata": {
        "id": "x-F1RugMuyRs",
        "outputId": "2af390bd-648c-495d-d4a2-143ae9e0c52f",
        "colab": {
          "base_uri": "https://localhost:8080/"
        }
      },
      "execution_count": null,
      "outputs": [
        {
          "output_type": "stream",
          "name": "stdout",
          "text": [
            "El diccionario es {'nombre': 'Juan', 'apellido': 'Díaz', 'edad': 28, 'profesión': 'ingeniero'}\n"
          ]
        }
      ]
    },
    {
      "cell_type": "code",
      "source": [
        "#El método .clear() permite eliminar todos los pares clave:valor del diccionario\n",
        "dic_info.clear()\n",
        "print(f\"El diccionario es {dic_info}\")"
      ],
      "metadata": {
        "id": "qjy4RkPTu_os",
        "outputId": "cc930414-2429-481b-95b6-8ee38f79159f",
        "colab": {
          "base_uri": "https://localhost:8080/"
        }
      },
      "execution_count": null,
      "outputs": [
        {
          "output_type": "stream",
          "name": "stdout",
          "text": [
            "El diccionario es {}\n"
          ]
        }
      ]
    },
    {
      "cell_type": "markdown",
      "source": [
        "Copia de un diccionario"
      ],
      "metadata": {
        "id": "ErzAWtXrwAOk"
      }
    },
    {
      "cell_type": "code",
      "source": [
        "original = {\n",
        "    \"nombre\": \"Juan\",\n",
        "    \"hobbies\": [\"lectura\", \"ciclismo\", \"música\"]\n",
        "}\n",
        "print(f\"El diccionario es {original}\")"
      ],
      "metadata": {
        "id": "ZrVaqw4EwBns",
        "outputId": "167460ba-c13e-412f-8b09-2bb4e257006c",
        "colab": {
          "base_uri": "https://localhost:8080/"
        }
      },
      "execution_count": null,
      "outputs": [
        {
          "output_type": "stream",
          "name": "stdout",
          "text": [
            "El diccionario es {'nombre': 'Juan', 'hobbies': ['lectura', 'ciclismo', 'música']}\n"
          ]
        }
      ]
    },
    {
      "cell_type": "markdown",
      "source": [
        "Crear una copia simple"
      ],
      "metadata": {
        "id": "7nZVujbswU-s"
      }
    },
    {
      "cell_type": "code",
      "source": [
        "copia_s = original.copy()\n",
        "print(f\"El diccionario es {copia_s}\")\n",
        "print(f\"El tipo es {type(copia_s)}\")"
      ],
      "metadata": {
        "id": "I98hxFlFwUa0",
        "outputId": "3317a72e-504b-46bd-cda0-ce6b22aa4ebb",
        "colab": {
          "base_uri": "https://localhost:8080/"
        }
      },
      "execution_count": null,
      "outputs": [
        {
          "output_type": "stream",
          "name": "stdout",
          "text": [
            "El diccionario es {'nombre': 'Juan', 'hobbies': ['lectura', 'ciclismo', 'música']}\n",
            "El tipo es <class 'dict'>\n"
          ]
        }
      ]
    },
    {
      "cell_type": "markdown",
      "source": [
        "Crear una copia profunda"
      ],
      "metadata": {
        "id": "WJNr3mYVwpsm"
      }
    },
    {
      "cell_type": "code",
      "source": [
        "import copy\n",
        "\n",
        "copia_p = copy.deepcopy(original)\n",
        "print(f\"El diccionario es {copia_p}\")\n",
        "print(f\"El tipo es {type(copia_p)}\")"
      ],
      "metadata": {
        "id": "7e4aQk50wrT9",
        "outputId": "f48561e8-0d04-4cbe-dc69-6439695b05ca",
        "colab": {
          "base_uri": "https://localhost:8080/"
        }
      },
      "execution_count": null,
      "outputs": [
        {
          "output_type": "stream",
          "name": "stdout",
          "text": [
            "El diccionario es {'nombre': 'Juan', 'hobbies': ['lectura', 'ciclismo', 'música']}\n",
            "El tipo es <class 'dict'>\n"
          ]
        }
      ]
    },
    {
      "cell_type": "code",
      "source": [
        "copia_s['hobbies']"
      ],
      "metadata": {
        "id": "VHOKiInaxB58",
        "outputId": "e2d69d7e-8df9-467e-e612-6c53f723e63a",
        "colab": {
          "base_uri": "https://localhost:8080/"
        }
      },
      "execution_count": null,
      "outputs": [
        {
          "output_type": "execute_result",
          "data": {
            "text/plain": [
              "['lectura', 'ciclismo', 'música']"
            ]
          },
          "metadata": {},
          "execution_count": 81
        }
      ]
    },
    {
      "cell_type": "code",
      "source": [
        "type(copia_s['hobbies'])"
      ],
      "metadata": {
        "id": "YkD6btE_x72s",
        "outputId": "797c27f0-cde7-46a8-9751-368f77439ab6",
        "colab": {
          "base_uri": "https://localhost:8080/"
        }
      },
      "execution_count": null,
      "outputs": [
        {
          "output_type": "execute_result",
          "data": {
            "text/plain": [
              "list"
            ]
          },
          "metadata": {},
          "execution_count": 82
        }
      ]
    },
    {
      "cell_type": "code",
      "source": [
        "copia_s['hobbies'].append('caminata')\n",
        "print(f\"El diccionario actualizado es {copia_s}\")"
      ],
      "metadata": {
        "id": "WSx7jycLx-4k",
        "outputId": "e7640192-675a-4f4f-cc41-3217bf9d1978",
        "colab": {
          "base_uri": "https://localhost:8080/"
        }
      },
      "execution_count": null,
      "outputs": [
        {
          "output_type": "stream",
          "name": "stdout",
          "text": [
            "El diccionario actualizado es {'nombre': 'Juan', 'hobbies': ['lectura', 'ciclismo', 'música', 'caminata']}\n"
          ]
        }
      ]
    },
    {
      "cell_type": "code",
      "source": [
        "copia_p['hobbies'].append('natación')\n",
        "print(f\"El diccionario actualizado es {copia_p}\")"
      ],
      "metadata": {
        "id": "zl2EzXdCyMjc",
        "outputId": "8788689e-3949-4547-ce66-13e46ad9b625",
        "colab": {
          "base_uri": "https://localhost:8080/"
        }
      },
      "execution_count": null,
      "outputs": [
        {
          "output_type": "stream",
          "name": "stdout",
          "text": [
            "El diccionario actualizado es {'nombre': 'Juan', 'hobbies': ['lectura', 'ciclismo', 'música', 'natación']}\n"
          ]
        }
      ]
    },
    {
      "cell_type": "code",
      "source": [
        "# La copia simple afecta a la lista original\n",
        "print(f\"El diccionario actualizado es {original}\")"
      ],
      "metadata": {
        "id": "PRMuq1a9yxUO",
        "outputId": "32401031-a829-4e62-f952-3f66ecf44741",
        "colab": {
          "base_uri": "https://localhost:8080/"
        }
      },
      "execution_count": null,
      "outputs": [
        {
          "output_type": "stream",
          "name": "stdout",
          "text": [
            "El diccionario actualizado es {'nombre': 'Juan', 'hobbies': ['lectura', 'ciclismo', 'música', 'caminata']}\n"
          ]
        }
      ]
    },
    {
      "cell_type": "markdown",
      "source": [
        "Actividad N031"
      ],
      "metadata": {
        "id": "_vadK7tb1Izl"
      }
    },
    {
      "cell_type": "code",
      "source": [
        "print(f\"El diccionario con mi info personal es\\n{dic_info}\")\n",
        "dic_info_copy = dic_info.copy()\n",
        "dic_info_copy['profesión'] = 'arqueólogo'\n",
        "\n",
        "print(f\"El diccionario con mi info personal modificado es\\n{dic_info_copy}\")"
      ],
      "metadata": {
        "id": "-e9V-eZSz_It",
        "outputId": "9e97fe96-3550-4cc4-f231-69022d5abeaa",
        "colab": {
          "base_uri": "https://localhost:8080/"
        }
      },
      "execution_count": null,
      "outputs": [
        {
          "output_type": "stream",
          "name": "stdout",
          "text": [
            "El diccionario con mi info personal es\n",
            "{'nombre': 'Juan', 'apellido': 'Díaz', 'edad': 28, 'profesión': 'ingeniero'}\n",
            "El diccionario con mi info personal modificado es\n",
            "{'nombre': 'Juan', 'apellido': 'Díaz', 'edad': 28, 'profesión': 'arqueólogo'}\n"
          ]
        }
      ]
    },
    {
      "cell_type": "markdown",
      "source": [
        "Método keys()"
      ],
      "metadata": {
        "id": "YvWTvLQg2bIm"
      }
    },
    {
      "cell_type": "code",
      "source": [
        "dic_prod = {\n",
        "    \"detergente\":70,\n",
        "    \"arroz\":20,\n",
        "    \"aceite\":10\n",
        "}\n",
        "\n",
        "print(f\"El diccionario es {dic_prod}\")"
      ],
      "metadata": {
        "id": "yBAbv_qi2dHt",
        "outputId": "f12b6e30-7b45-407d-cf79-d118c027034d",
        "colab": {
          "base_uri": "https://localhost:8080/"
        }
      },
      "execution_count": null,
      "outputs": [
        {
          "output_type": "stream",
          "name": "stdout",
          "text": [
            "El diccionario es {'detergente': 70, 'arroz': 20, 'aceite': 10}\n"
          ]
        }
      ]
    },
    {
      "cell_type": "code",
      "source": [
        "dic_prod.items()"
      ],
      "metadata": {
        "id": "z8iotm1R2olN",
        "outputId": "175e2024-2e93-4532-b652-b23d02650838",
        "colab": {
          "base_uri": "https://localhost:8080/"
        }
      },
      "execution_count": null,
      "outputs": [
        {
          "output_type": "execute_result",
          "data": {
            "text/plain": [
              "dict_items([('detergente', 70), ('arroz', 20), ('aceite', 10)])"
            ]
          },
          "metadata": {},
          "execution_count": 94
        }
      ]
    },
    {
      "cell_type": "code",
      "source": [
        "dic_prod.keys()"
      ],
      "metadata": {
        "id": "WTjUZQuJ2rgg",
        "outputId": "4839e560-0396-4fd2-ff41-bfd6a01cc201",
        "colab": {
          "base_uri": "https://localhost:8080/"
        }
      },
      "execution_count": null,
      "outputs": [
        {
          "output_type": "execute_result",
          "data": {
            "text/plain": [
              "dict_keys(['detergente', 'arroz', 'aceite'])"
            ]
          },
          "metadata": {},
          "execution_count": 95
        }
      ]
    },
    {
      "cell_type": "code",
      "source": [
        "x = 1\n",
        "for i in dic_prod.keys():\n",
        "  print(f\"La clave {x} es {i}.\")\n",
        "  x = x + 1"
      ],
      "metadata": {
        "id": "VY5U1vaC3J0G",
        "outputId": "1b739be1-ca16-4d89-d8df-a40163988cf2",
        "colab": {
          "base_uri": "https://localhost:8080/"
        }
      },
      "execution_count": null,
      "outputs": [
        {
          "output_type": "stream",
          "name": "stdout",
          "text": [
            "La clave 1 es detergente.\n",
            "La clave 2 es arroz.\n",
            "La clave 3 es aceite.\n"
          ]
        }
      ]
    },
    {
      "cell_type": "code",
      "source": [
        "prod = 'menestra'\n",
        "if prod in dic_prod.keys():\n",
        "  print(f\"El producto {prod} está incluido en el diccionario.\")\n",
        "else:\n",
        "  print(f\"El producto {prod} no está incluido en el diccionario.\")"
      ],
      "metadata": {
        "id": "6sjlhicf3aZ1",
        "outputId": "4d799a3d-d2cd-4423-f015-dbf2a343dd87",
        "colab": {
          "base_uri": "https://localhost:8080/"
        }
      },
      "execution_count": null,
      "outputs": [
        {
          "output_type": "stream",
          "name": "stdout",
          "text": [
            "El producto menestra no está incluido en el diccionario.\n"
          ]
        }
      ]
    },
    {
      "cell_type": "code",
      "source": [
        "dic_prod[\"cereal\"] = 20 # actualizando diccionario\n",
        "\n",
        "print(f\"El diccionario actualizado es {dic_prod}\")"
      ],
      "metadata": {
        "id": "uW7FpckN4M2V",
        "outputId": "c220c5da-7c01-449c-8830-7dd830302fbe",
        "colab": {
          "base_uri": "https://localhost:8080/"
        }
      },
      "execution_count": null,
      "outputs": [
        {
          "output_type": "stream",
          "name": "stdout",
          "text": [
            "El diccionario actualizado es {'detergente': 70, 'arroz': 20, 'aceite': 10, 'cereal': 20}\n"
          ]
        }
      ]
    },
    {
      "cell_type": "code",
      "source": [
        "x = 1\n",
        "for i in dic_prod.keys():\n",
        "  print(f\"La clave {x} es {i}.\")\n",
        "  x = x + 1"
      ],
      "metadata": {
        "id": "vdecr_0O4Z32",
        "outputId": "989e6832-2eef-49a6-9691-58fd15242bd7",
        "colab": {
          "base_uri": "https://localhost:8080/"
        }
      },
      "execution_count": null,
      "outputs": [
        {
          "output_type": "stream",
          "name": "stdout",
          "text": [
            "La clave 1 es detergente.\n",
            "La clave 2 es arroz.\n",
            "La clave 3 es aceite.\n",
            "La clave 4 es cereal.\n"
          ]
        }
      ]
    },
    {
      "cell_type": "markdown",
      "source": [
        "Método values()"
      ],
      "metadata": {
        "id": "65g5CjA84zLt"
      }
    },
    {
      "cell_type": "code",
      "source": [
        "dic_prod.values()"
      ],
      "metadata": {
        "id": "HB3EbyO640dt",
        "outputId": "5aa315f5-b650-4782-eedf-76482a43db63",
        "colab": {
          "base_uri": "https://localhost:8080/"
        }
      },
      "execution_count": null,
      "outputs": [
        {
          "output_type": "execute_result",
          "data": {
            "text/plain": [
              "dict_values([70, 20, 10, 20])"
            ]
          },
          "metadata": {},
          "execution_count": 103
        }
      ]
    },
    {
      "cell_type": "markdown",
      "source": [
        "Crear un diccionario con la info de 5 deportistas, clave es nombre del deportista y el valor el deporte que practica.\n",
        "Acceder a los pares clave valor.\n",
        "Acceder a las claves.\n",
        "Acceder a los valores."
      ],
      "metadata": {
        "id": "N2J98Ge05ULV"
      }
    },
    {
      "cell_type": "code",
      "source": [
        "deportistas = {\n",
        "    \"Nate Hills\" : \"ciclismo de montaña\",\n",
        "    \"Leo Messi\" : \"fútbol\",\n",
        "    \"Rafael Nadal\": \"tenis\",\n",
        "    \"Kilian Bron\": \"freeride\",\n",
        "    \"Marcelo Gutierrez\": \"downhill\"\n",
        "}\n",
        "\n",
        "for c,v in deportistas.items():\n",
        "  print(f\"El deportista {c} es reconocido en {v}.\")\n",
        "print(\"\\n\")\n",
        "print(\"La lista de deportistas que conozco son:\")\n",
        "for i in deportistas.keys():\n",
        "  print(f\"{i}\")\n",
        "print(\"\\n\")\n",
        "print(\"La lista de deportes de mi preferencia es:\")\n",
        "for i in deportistas.values():\n",
        "  print(f\"{i}\")"
      ],
      "metadata": {
        "id": "yEqgnDby5h84",
        "outputId": "ffe2d0e3-480e-4fe6-d895-9234e563a73c",
        "colab": {
          "base_uri": "https://localhost:8080/"
        }
      },
      "execution_count": null,
      "outputs": [
        {
          "output_type": "stream",
          "name": "stdout",
          "text": [
            "El deportista Nate Hills es reconocido en ciclismo de montaña.\n",
            "El deportista Leo Messi es reconocido en fútbol.\n",
            "El deportista Rafael Nadal es reconocido en tenis.\n",
            "El deportista Kilian Bron es reconocido en freeride.\n",
            "El deportista Marcelo Gutierrez es reconocido en downhill.\n",
            "\n",
            "\n",
            "La lista de deportistas que conozco son:\n",
            "Nate Hills\n",
            "Leo Messi\n",
            "Rafael Nadal\n",
            "Kilian Bron\n",
            "Marcelo Gutierrez\n",
            "\n",
            "\n",
            "La lista de deportes de mi preferencia es:\n",
            "ciclismo de montaña\n",
            "fútbol\n",
            "tenis\n",
            "freeride\n",
            "downhill\n"
          ]
        }
      ]
    },
    {
      "cell_type": "markdown",
      "source": [
        "Actividad 032"
      ],
      "metadata": {
        "id": "knZ-oEEoGU5y"
      }
    },
    {
      "cell_type": "code",
      "source": [
        "dic_minas = {\n",
        "    \"Mina\":[\"Escondida\", \"Grasberg\", \"Collahuasi\", \"Antamina\", \"Cerro Verde\", \"Las Bambas\"],\n",
        "    \"País\":(\"Chile\",\"Indonesia\",\"Chile\",\"Perú\",\"Perú\",\"Perú\"),\n",
        "    \"Producción anual\":(\"1,281,400 t (2023)\", \"816,466 t (2023)\", \"563,390 t (2023)\",\"434,238 t (2024)\", \"449,096 t (2024)\",\"~400,000 t (2021)\")\n",
        "\n",
        "}"
      ],
      "metadata": {
        "id": "SP6TMRYhGQuu"
      },
      "execution_count": 6,
      "outputs": []
    },
    {
      "cell_type": "code",
      "source": [
        "dic_minas[\"Mina\"]"
      ],
      "metadata": {
        "id": "r_BsSXsxIoMd",
        "outputId": "2d274e66-2837-4d06-c222-f39dff473565",
        "colab": {
          "base_uri": "https://localhost:8080/"
        }
      },
      "execution_count": 7,
      "outputs": [
        {
          "output_type": "execute_result",
          "data": {
            "text/plain": [
              "['Escondida',\n",
              " 'Grasberg',\n",
              " 'Collahuasi',\n",
              " 'Antamina',\n",
              " 'Cerro Verde',\n",
              " 'Las Bambas']"
            ]
          },
          "metadata": {},
          "execution_count": 7
        }
      ]
    },
    {
      "cell_type": "code",
      "source": [
        "len(dic_minas[\"Mina\"])"
      ],
      "metadata": {
        "id": "kOTA4yDxIxGJ",
        "outputId": "246f679c-abf6-4ee5-a19b-3a8df6cdd08b",
        "colab": {
          "base_uri": "https://localhost:8080/"
        }
      },
      "execution_count": 8,
      "outputs": [
        {
          "output_type": "execute_result",
          "data": {
            "text/plain": [
              "6"
            ]
          },
          "metadata": {},
          "execution_count": 8
        }
      ]
    },
    {
      "cell_type": "code",
      "source": [
        "for i in range(len(dic_minas[\"Mina\"])):\n",
        "  m = dic_minas[\"Mina\"][i]\n",
        "  p = dic_minas[\"País\"][i]\n",
        "  pr = dic_minas[\"Producción anual\"][i]\n",
        "  print(m, \"|\", p, \"|\", pr)"
      ],
      "metadata": {
        "id": "toyrwhFbJTIt",
        "outputId": "79280e13-3b13-44dc-8e5a-d57aa9c83343",
        "colab": {
          "base_uri": "https://localhost:8080/"
        }
      },
      "execution_count": 9,
      "outputs": [
        {
          "output_type": "stream",
          "name": "stdout",
          "text": [
            "Escondida | Chile | 1,281,400 t (2023)\n",
            "Grasberg | Indonesia | 816,466 t (2023)\n",
            "Collahuasi | Chile | 563,390 t (2023)\n",
            "Antamina | Perú | 434,238 t (2024)\n",
            "Cerro Verde | Perú | 449,096 t (2024)\n",
            "Las Bambas | Perú | ~400,000 t (2021)\n"
          ]
        }
      ]
    },
    {
      "cell_type": "code",
      "source": [
        "notas_estudiantes = {\n",
        "    \"Ana\":[18,16,19],\n",
        "    \"Luis\":[12,13,11],\n",
        "    \"Carla\":[14,15,14]\n",
        "}"
      ],
      "metadata": {
        "id": "ZnoEptATLg3E"
      },
      "execution_count": 10,
      "outputs": []
    },
    {
      "cell_type": "code",
      "source": [
        "for c,v in notas_estudiantes.items():\n",
        "  promedio = sum(v)/len(v)\n",
        "  print(f\"El promedio de notas de {c} es {round(promedio,2)}\")"
      ],
      "metadata": {
        "id": "dWas9VsRcjI0",
        "outputId": "4330de6c-a8f6-4808-e21a-31d7efcb75e0",
        "colab": {
          "base_uri": "https://localhost:8080/"
        }
      },
      "execution_count": 12,
      "outputs": [
        {
          "output_type": "stream",
          "name": "stdout",
          "text": [
            "El promedio de notas de Ana es 17.67\n",
            "El promedio de notas de Luis es 12.0\n",
            "El promedio de notas de Carla es 14.33\n"
          ]
        }
      ]
    }
  ]
}