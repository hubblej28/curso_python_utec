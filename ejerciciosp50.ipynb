{
  "nbformat": 4,
  "nbformat_minor": 0,
  "metadata": {
    "colab": {
      "provenance": [],
      "authorship_tag": "ABX9TyNhNbSQ5dyNXzXxs27jGVT2",
      "include_colab_link": true
    },
    "kernelspec": {
      "name": "python3",
      "display_name": "Python 3"
    },
    "language_info": {
      "name": "python"
    }
  },
  "cells": [
    {
      "cell_type": "markdown",
      "metadata": {
        "id": "view-in-github",
        "colab_type": "text"
      },
      "source": [
        "<a href=\"https://colab.research.google.com/github/hubblej28/curso_python_utec/blob/main/ejerciciosp50.ipynb\" target=\"_parent\"><img src=\"https://colab.research.google.com/assets/colab-badge.svg\" alt=\"Open In Colab\"/></a>"
      ]
    },
    {
      "cell_type": "code",
      "execution_count": 6,
      "metadata": {
        "colab": {
          "base_uri": "https://localhost:8080/"
        },
        "id": "Wk5dlw4TdJnU",
        "outputId": "d768c181-490b-47ed-8b09-cecd6e3c1ca3"
      },
      "outputs": [
        {
          "output_type": "stream",
          "name": "stdout",
          "text": [
            "hubbLE\n",
            "Hello Hubble\n"
          ]
        }
      ],
      "source": [
        "name=input().title()\n",
        "print('Hello '+name)"
      ]
    },
    {
      "cell_type": "code",
      "source": [
        "name"
      ],
      "metadata": {
        "colab": {
          "base_uri": "https://localhost:8080/",
          "height": 36
        },
        "id": "dN6qtDJxd7f2",
        "outputId": "03ae8c3d-6a28-4a32-f91c-029d3a23b3f1"
      },
      "execution_count": 5,
      "outputs": [
        {
          "output_type": "execute_result",
          "data": {
            "text/plain": [
              "'Hubble'"
            ],
            "application/vnd.google.colaboratory.intrinsic+json": {
              "type": "string"
            }
          },
          "metadata": {},
          "execution_count": 5
        }
      ]
    },
    {
      "cell_type": "code",
      "source": [
        "first_name=\"Hubble\"\n",
        "last_name=\"Diaz\"\n",
        "full_name= first_name+\" \"+last_name\n",
        "print(full_name)\n",
        "type(first_name)"
      ],
      "metadata": {
        "colab": {
          "base_uri": "https://localhost:8080/"
        },
        "id": "YZcAiv3uewdX",
        "outputId": "9438d739-ea3e-4336-b278-cef71cccfe23"
      },
      "execution_count": 10,
      "outputs": [
        {
          "output_type": "stream",
          "name": "stdout",
          "text": [
            "Hubble Diaz\n"
          ]
        },
        {
          "output_type": "execute_result",
          "data": {
            "text/plain": [
              "str"
            ]
          },
          "metadata": {},
          "execution_count": 10
        }
      ]
    },
    {
      "cell_type": "code",
      "source": [
        "first_name=\"Hubble\"\n",
        "last_name=\"Diaz\"\n",
        "full_name= f'{first_name} {last_name}'\n",
        "print(full_name.title())\n",
        "type(full_name)"
      ],
      "metadata": {
        "colab": {
          "base_uri": "https://localhost:8080/"
        },
        "id": "UEKvFvJxfzsH",
        "outputId": "6151ff6f-63c3-4ea8-950f-104d72bed7b9"
      },
      "execution_count": 12,
      "outputs": [
        {
          "output_type": "stream",
          "name": "stdout",
          "text": [
            "Hubble Diaz\n"
          ]
        },
        {
          "output_type": "execute_result",
          "data": {
            "text/plain": [
              "str"
            ]
          },
          "metadata": {},
          "execution_count": 12
        }
      ]
    },
    {
      "cell_type": "code",
      "source": [
        "department = \"    WFM  \"\n",
        "department.strip()"
      ],
      "metadata": {
        "colab": {
          "base_uri": "https://localhost:8080/",
          "height": 36
        },
        "id": "gfIGnkVtgW-_",
        "outputId": "7203fe52-f9cc-42ff-f891-b3022d4c953d"
      },
      "execution_count": 15,
      "outputs": [
        {
          "output_type": "execute_result",
          "data": {
            "text/plain": [
              "'WFM'"
            ],
            "application/vnd.google.colaboratory.intrinsic+json": {
              "type": "string"
            }
          },
          "metadata": {},
          "execution_count": 15
        }
      ]
    },
    {
      "cell_type": "code",
      "source": [
        "message= \"probando single quote.\"\n",
        "print(message)"
      ],
      "metadata": {
        "colab": {
          "base_uri": "https://localhost:8080/"
        },
        "id": "XHsXYS7ihG9Q",
        "outputId": "f80288dd-ee46-404f-b621-7af4babe4afb"
      },
      "execution_count": 18,
      "outputs": [
        {
          "output_type": "stream",
          "name": "stdout",
          "text": [
            "probando single quote.\n"
          ]
        }
      ]
    },
    {
      "cell_type": "code",
      "source": [
        "message = \"One of Python's strengths is its diverse community.\"\n",
        "print(message)"
      ],
      "metadata": {
        "colab": {
          "base_uri": "https://localhost:8080/"
        },
        "id": "ehyNl6AOhTDn",
        "outputId": "86ab33b4-6dee-4f65-b781-bbc58fed8b0e"
      },
      "execution_count": 20,
      "outputs": [
        {
          "output_type": "stream",
          "name": "stdout",
          "text": [
            "One of Python's strengths is its diverse community.\n"
          ]
        }
      ]
    },
    {
      "cell_type": "code",
      "source": [
        "0.2+0.1"
      ],
      "metadata": {
        "colab": {
          "base_uri": "https://localhost:8080/"
        },
        "id": "6NGhC1xAiGjX",
        "outputId": "86a49c96-11fd-4725-c65f-746c248402bf"
      },
      "execution_count": 21,
      "outputs": [
        {
          "output_type": "execute_result",
          "data": {
            "text/plain": [
              "0.30000000000000004"
            ]
          },
          "metadata": {},
          "execution_count": 21
        }
      ]
    },
    {
      "cell_type": "code",
      "source": [
        "0.52+0.48"
      ],
      "metadata": {
        "colab": {
          "base_uri": "https://localhost:8080/"
        },
        "id": "0kgAG9KniK3G",
        "outputId": "87407b1a-9342-4ad6-e10e-b0a618c4a45e"
      },
      "execution_count": 22,
      "outputs": [
        {
          "output_type": "execute_result",
          "data": {
            "text/plain": [
              "1.0"
            ]
          },
          "metadata": {},
          "execution_count": 22
        }
      ]
    },
    {
      "cell_type": "code",
      "source": [
        "age = 28\n",
        "message = \"Happy \" + str(age) + \"th Birthday!\"\n",
        "print(message)"
      ],
      "metadata": {
        "colab": {
          "base_uri": "https://localhost:8080/"
        },
        "id": "_Bugxl4oiT8u",
        "outputId": "df05ec99-5e47-47bc-f3fd-e088a9aa4712"
      },
      "execution_count": 23,
      "outputs": [
        {
          "output_type": "stream",
          "name": "stdout",
          "text": [
            "Happy 28th Birthday!\n"
          ]
        }
      ]
    },
    {
      "cell_type": "code",
      "source": [
        "3/2"
      ],
      "metadata": {
        "colab": {
          "base_uri": "https://localhost:8080/"
        },
        "id": "SPGlbCoEi8Zu",
        "outputId": "dacd851a-b2ca-4822-96ae-477e76148633"
      },
      "execution_count": 24,
      "outputs": [
        {
          "output_type": "execute_result",
          "data": {
            "text/plain": [
              "1.5"
            ]
          },
          "metadata": {},
          "execution_count": 24
        }
      ]
    },
    {
      "cell_type": "code",
      "source": [
        "3.0/2"
      ],
      "metadata": {
        "colab": {
          "base_uri": "https://localhost:8080/"
        },
        "id": "yZJBBj-wi93G",
        "outputId": "2d97ca7a-c2a7-481c-82d0-68857db4db54"
      },
      "execution_count": 25,
      "outputs": [
        {
          "output_type": "execute_result",
          "data": {
            "text/plain": [
              "1.5"
            ]
          },
          "metadata": {},
          "execution_count": 25
        }
      ]
    },
    {
      "cell_type": "code",
      "source": [
        "import this"
      ],
      "metadata": {
        "colab": {
          "base_uri": "https://localhost:8080/"
        },
        "id": "qrxtOTa5j6Gd",
        "outputId": "f7020142-d868-41c7-a3e8-449b2bbfaad4"
      },
      "execution_count": 26,
      "outputs": [
        {
          "output_type": "stream",
          "name": "stdout",
          "text": [
            "The Zen of Python, by Tim Peters\n",
            "\n",
            "Beautiful is better than ugly.\n",
            "Explicit is better than implicit.\n",
            "Simple is better than complex.\n",
            "Complex is better than complicated.\n",
            "Flat is better than nested.\n",
            "Sparse is better than dense.\n",
            "Readability counts.\n",
            "Special cases aren't special enough to break the rules.\n",
            "Although practicality beats purity.\n",
            "Errors should never pass silently.\n",
            "Unless explicitly silenced.\n",
            "In the face of ambiguity, refuse the temptation to guess.\n",
            "There should be one-- and preferably only one --obvious way to do it.\n",
            "Although that way may not be obvious at first unless you're Dutch.\n",
            "Now is better than never.\n",
            "Although never is often better than *right* now.\n",
            "If the implementation is hard to explain, it's a bad idea.\n",
            "If the implementation is easy to explain, it may be a good idea.\n",
            "Namespaces are one honking great idea -- let's do more of those!\n"
          ]
        }
      ]
    },
    {
      "cell_type": "code",
      "source": [
        "bicycles = ['yeti', 'santa cruz', 'pivot']\n",
        "print(bicycles[0].title())\n",
        "print(bicycles[-2].title())\n",
        "message = \"My current bike is a \" + bicycles[0].title() + \" Cycles \" + str(bicycles[0]).title() + \" Sb150\"\n",
        "print(message)"
      ],
      "metadata": {
        "colab": {
          "base_uri": "https://localhost:8080/"
        },
        "id": "wvb1k4iRk_Rs",
        "outputId": "fe679d75-86fe-4ed4-8292-39676002c845"
      },
      "execution_count": 37,
      "outputs": [
        {
          "output_type": "stream",
          "name": "stdout",
          "text": [
            "Yeti\n",
            "Santa Cruz\n",
            "My current bike is a Yeti Cycles Yeti Sb150\n"
          ]
        }
      ]
    },
    {
      "cell_type": "code",
      "source": [
        "colors = ['blue', 'red', 'black', 'gray']\n",
        "print(colors[2])\n",
        "colors[3] = 'white'\n",
        "print(colors)\n",
        "colors.append('cyan')\n",
        "colors.append('green')\n",
        "print(colors)\n",
        "colors.insert(1, 'brown')\n",
        "print(colors)\n",
        "del colors[1]\n",
        "print(colors)\n",
        "colors[3] ='gray'\n",
        "del colors[4]\n",
        "print(colors)\n",
        "del colors[4]\n",
        "print(colors)\n",
        "colors.append('yellow')\n",
        "popped_colors = colors.pop(3)\n",
        "print(popped_colors)\n",
        "message_1='last color I bought was ' + str(popped_colors)\n",
        "print(message_1)\n",
        "print(colors)\n",
        "colors.remove('yellow')\n",
        "colors.append('gray')\n",
        "print(colors)\n",
        "better_color = 'purple'\n",
        "colors.insert(2, better_color)\n",
        "colors.remove('black')\n",
        "print(colors)"
      ],
      "metadata": {
        "colab": {
          "base_uri": "https://localhost:8080/"
        },
        "id": "lxD8Y5r_nNM9",
        "outputId": "5b2626b7-5cea-4cb0-dde8-075ae2699f5f"
      },
      "execution_count": 63,
      "outputs": [
        {
          "output_type": "stream",
          "name": "stdout",
          "text": [
            "black\n",
            "['blue', 'red', 'black', 'white']\n",
            "['blue', 'red', 'black', 'white', 'cyan', 'green']\n",
            "['blue', 'brown', 'red', 'black', 'white', 'cyan', 'green']\n",
            "['blue', 'red', 'black', 'white', 'cyan', 'green']\n",
            "['blue', 'red', 'black', 'gray', 'green']\n",
            "['blue', 'red', 'black', 'gray']\n",
            "gray\n",
            "last color I bought was gray\n",
            "['blue', 'red', 'black', 'yellow']\n",
            "['blue', 'red', 'black', 'gray']\n",
            "['blue', 'red', 'purple', 'gray']\n"
          ]
        }
      ]
    },
    {
      "cell_type": "code",
      "source": [
        "characters = ['Regin', 'Volsung', 'Sigurd', 'Fafnir', 'Angrboda', 'Loki', 'Odin']\n",
        "characters.sort()\n",
        "print(characters)\n",
        "characters.sort(reverse=True)\n",
        "print(characters)\n",
        "characters.sort(reverse=True)\n",
        "print(sorted(characters))\n",
        "characters.remove('Angrboda')\n",
        "len(characters)"
      ],
      "metadata": {
        "colab": {
          "base_uri": "https://localhost:8080/"
        },
        "id": "UolyI6uotQPF",
        "outputId": "ac8cc351-c967-44e2-fa7a-ac0b4428a79a"
      },
      "execution_count": 71,
      "outputs": [
        {
          "output_type": "stream",
          "name": "stdout",
          "text": [
            "['Angrboda', 'Fafnir', 'Loki', 'Odin', 'Regin', 'Sigurd', 'Volsung']\n",
            "['Volsung', 'Sigurd', 'Regin', 'Odin', 'Loki', 'Fafnir', 'Angrboda']\n",
            "['Angrboda', 'Fafnir', 'Loki', 'Odin', 'Regin', 'Sigurd', 'Volsung']\n"
          ]
        },
        {
          "output_type": "execute_result",
          "data": {
            "text/plain": [
              "6"
            ]
          },
          "metadata": {},
          "execution_count": 71
        }
      ]
    },
    {
      "cell_type": "code",
      "source": [
        "places_to_visit=['Nepal', 'Athens', 'Cairo','Rome','Patagonia','Venice','Svalbard']\n",
        "print(places_to_visit)\n",
        "print(sorted(places_to_visit))\n",
        "print(places_to_visit)\n",
        "print(sorted(places_to_visit, reverse=True))\n",
        "print(places_to_visit)\n",
        "places_to_visit.reverse()\n",
        "print(places_to_visit)\n",
        "places_to_visit.reverse()\n",
        "print(places_to_visit)\n",
        "places_to_visit.sort()\n",
        "print(places_to_visit)\n",
        "places_to_visit.sort(reverse=True)\n",
        "print(places_to_visit)"
      ],
      "metadata": {
        "colab": {
          "base_uri": "https://localhost:8080/"
        },
        "id": "V4SHfuRAvtRW",
        "outputId": "8f69c7c8-e90b-4d39-fc83-2195144c65c2"
      },
      "execution_count": 82,
      "outputs": [
        {
          "output_type": "stream",
          "name": "stdout",
          "text": [
            "['Nepal', 'Athens', 'Cairo', 'Rome', 'Patagonia', 'Venice', 'Svalbard']\n",
            "['Athens', 'Cairo', 'Nepal', 'Patagonia', 'Rome', 'Svalbard', 'Venice']\n",
            "['Nepal', 'Athens', 'Cairo', 'Rome', 'Patagonia', 'Venice', 'Svalbard']\n",
            "['Venice', 'Svalbard', 'Rome', 'Patagonia', 'Nepal', 'Cairo', 'Athens']\n",
            "['Nepal', 'Athens', 'Cairo', 'Rome', 'Patagonia', 'Venice', 'Svalbard']\n",
            "['Svalbard', 'Venice', 'Patagonia', 'Rome', 'Cairo', 'Athens', 'Nepal']\n",
            "['Nepal', 'Athens', 'Cairo', 'Rome', 'Patagonia', 'Venice', 'Svalbard']\n",
            "['Athens', 'Cairo', 'Nepal', 'Patagonia', 'Rome', 'Svalbard', 'Venice']\n",
            "['Venice', 'Svalbard', 'Rome', 'Patagonia', 'Nepal', 'Cairo', 'Athens']\n"
          ]
        }
      ]
    },
    {
      "cell_type": "code",
      "source": [
        "people =['Nico','Vivi','Pepe','Emilio','Pedro','Cesar','Luciana']\n",
        "print(people)\n",
        "last_uninvited = people.pop()\n",
        "print('Sorry '+last_uninvited.title()+' you are not invited for dinner')\n",
        "last_uninvited = people.pop()\n",
        "print('Sorry '+last_uninvited.title()+' you are not invited for dinner')\n",
        "last_uninvited = people.pop()\n",
        "print('Sorry '+last_uninvited.title()+' you are not invited for dinner')\n",
        "last_uninvited = people.pop()\n",
        "print('Sorry '+last_uninvited.title()+' you are not invited for dinner')\n",
        "last_uninvited = people.pop()\n",
        "print('Sorry '+last_uninvited.title()+' you are not invited for dinner')\n",
        "print(people)\n",
        "len(people)"
      ],
      "metadata": {
        "colab": {
          "base_uri": "https://localhost:8080/"
        },
        "id": "ZudAwCma1lJ9",
        "outputId": "4b79b885-d264-4045-943d-127582516640"
      },
      "execution_count": 96,
      "outputs": [
        {
          "output_type": "stream",
          "name": "stdout",
          "text": [
            "['Nico', 'Vivi', 'Pepe', 'Emilio', 'Pedro', 'Cesar', 'Luciana']\n",
            "Sorry Luciana you are not invited for dinner\n",
            "Sorry Cesar you are not invited for dinner\n",
            "Sorry Pedro you are not invited for dinner\n",
            "Sorry Emilio you are not invited for dinner\n",
            "Sorry Pepe you are not invited for dinner\n",
            "['Nico', 'Vivi']\n"
          ]
        },
        {
          "output_type": "execute_result",
          "data": {
            "text/plain": [
              "2"
            ]
          },
          "metadata": {},
          "execution_count": 96
        }
      ]
    }
  ]
}