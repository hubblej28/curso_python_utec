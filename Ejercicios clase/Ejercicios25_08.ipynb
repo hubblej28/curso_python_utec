{
  "nbformat": 4,
  "nbformat_minor": 0,
  "metadata": {
    "colab": {
      "provenance": [],
      "authorship_tag": "ABX9TyMvyhIboWSsE5FwcYoS7flJ",
      "include_colab_link": true
    },
    "kernelspec": {
      "name": "python3",
      "display_name": "Python 3"
    },
    "language_info": {
      "name": "python"
    }
  },
  "cells": [
    {
      "cell_type": "markdown",
      "metadata": {
        "id": "view-in-github",
        "colab_type": "text"
      },
      "source": [
        "<a href=\"https://colab.research.google.com/github/hubblej28/curso_python_utec/blob/main/Ejercicios%20clase/Ejercicios25_08.ipynb\" target=\"_parent\"><img src=\"https://colab.research.google.com/assets/colab-badge.svg\" alt=\"Open In Colab\"/></a>"
      ]
    },
    {
      "cell_type": "code",
      "execution_count": 5,
      "metadata": {
        "colab": {
          "base_uri": "https://localhost:8080/"
        },
        "id": "TJrNq8LnzI4P",
        "outputId": "a21ea04c-c199-4953-f19d-188326a5e448"
      },
      "outputs": [
        {
          "output_type": "stream",
          "name": "stdout",
          "text": [
            "Juan\n",
            "Enrique\n",
            "Diaz\n"
          ]
        }
      ],
      "source": [
        "for x in [\"Juan\", \"Enrique\", \"Diaz\"]:\n",
        "  print(x)"
      ]
    },
    {
      "cell_type": "code",
      "source": [
        "numeros = [2500, 4000, 1500, 5000, 3200]\n",
        "x = 0\n",
        "for numero in numeros:\n",
        "  if numero > 3000:\n",
        "    x = x + 1\n",
        "print(x)"
      ],
      "metadata": {
        "colab": {
          "base_uri": "https://localhost:8080/"
        },
        "id": "pdJp_7bM0riS",
        "outputId": "13d99340-0319-4fe7-9016-00108345268d"
      },
      "execution_count": 20,
      "outputs": [
        {
          "output_type": "stream",
          "name": "stdout",
          "text": [
            "3\n"
          ]
        }
      ]
    },
    {
      "cell_type": "code",
      "source": [
        "for x in range(1,11):\n",
        "  print(x**2)"
      ],
      "metadata": {
        "colab": {
          "base_uri": "https://localhost:8080/"
        },
        "id": "Yymre3wl4E-p",
        "outputId": "c2380a95-c769-4f80-c8be-3a67cf13a265"
      },
      "execution_count": 12,
      "outputs": [
        {
          "output_type": "stream",
          "name": "stdout",
          "text": [
            "1\n",
            "4\n",
            "9\n",
            "16\n",
            "25\n",
            "36\n",
            "49\n",
            "64\n",
            "81\n",
            "100\n"
          ]
        }
      ]
    },
    {
      "cell_type": "code",
      "source": [
        "cuadrados = [i * i for i in range(1, 11)]\n",
        "print(cuadrados)"
      ],
      "metadata": {
        "colab": {
          "base_uri": "https://localhost:8080/"
        },
        "id": "LvpLhyrS7gEM",
        "outputId": "9b3f1ebc-4373-449e-fe36-4af77c3f09ce"
      },
      "execution_count": 21,
      "outputs": [
        {
          "output_type": "stream",
          "name": "stdout",
          "text": [
            "[1, 4, 9, 16, 25, 36, 49, 64, 81, 100]\n"
          ]
        }
      ]
    },
    {
      "cell_type": "code",
      "source": [
        "campanas = [\n",
        "    {\"Campaña\":\"A\", \"Clics\":950, \"Impresiones\": 9500, \"Conversiones\": 4000, \"Presupuesto\": 7000},\n",
        "    {\"Campaña\":\"B\",\"Clics\":1500,\"Impresiones\": 7000,\"Conversiones\": 5000,\"Presupuesto\": 8000},\n",
        "    {\"Campaña\":\"C\",\"Clics\":2000,\"Impresiones\": 5000,\"Conversiones\": 3000,\"Presupuesto\": 65000},\n",
        "    {\"Campaña\":\"D\",\"Clics\":6000,\"Impresiones\": 9000,\"Conversiones\": 4500,\"Presupuesto\": 8500}\n",
        "]\n",
        "for operaciones in campanas:\n",
        "    CTR = operaciones[\"Clics\"]/operaciones[\"Impresiones\"]\n",
        "\n",
        "    if CTR > 0.3:\n",
        "      clasif = \"buena\"\n",
        "    elif CTR > 0.1:\n",
        "      clasif = \"regular\"\n",
        "    else:\n",
        "      clasif = \"mala\"\n",
        "\n",
        "    print (f\"Campaña: {operaciones[\"Campaña\"]} {clasif}\")\n"
      ],
      "metadata": {
        "colab": {
          "base_uri": "https://localhost:8080/"
        },
        "id": "S3UqfzCGI8xb",
        "outputId": "a6fb9b61-1041-4342-a917-3fa0d65d65f0"
      },
      "execution_count": 46,
      "outputs": [
        {
          "output_type": "stream",
          "name": "stdout",
          "text": [
            "Campaña: A mala\n",
            "Campaña: B regular\n",
            "Campaña: C buena\n",
            "Campaña: D buena\n"
          ]
        }
      ]
    },
    {
      "cell_type": "code",
      "source": [
        "campanas = [\n",
        "    {\"Campaña\":\"A\", \"Clics\":950, \"Impresiones\": 95000, \"Conversiones\": 4000, \"Presupuesto\": 7000},\n",
        "    {\"Campaña\":\"B\",\"Clics\":1500,\"Impresiones\": 70000,\"Conversiones\": 5000,\"Presupuesto\": 8000},\n",
        "    {\"Campaña\":\"C\",\"Clics\":2000,\"Impresiones\": 50000,\"Conversiones\": 3000,\"Presupuesto\": 6500},\n",
        "    {\"Campaña\":\"D\",\"Clics\":6000,\"Impresiones\": 90000,\"Conversiones\": 4500,\"Presupuesto\": 8500}\n",
        "]\n",
        "for operaciones in campanas:\n",
        "    CTR = (operaciones['Clics']/operaciones['Impresiones'])*100\n",
        "\n",
        "    if CTR > 3:\n",
        "      clasif = \"buena\"\n",
        "    elif CTR > 1:\n",
        "      clasif = \"regular\"\n",
        "    else:\n",
        "      clasif = \"mala\"\n",
        "\n",
        "    print(f\"Clasificación de campaña {operaciones['Campaña']}:\\nCTR: {round(CTR,2)}% --> {clasif}\\n\")\n"
      ],
      "metadata": {
        "colab": {
          "base_uri": "https://localhost:8080/"
        },
        "id": "JM3GOtn8RxWv",
        "outputId": "26fb2520-2cd9-4d55-9f16-95d5668ff81e"
      },
      "execution_count": 73,
      "outputs": [
        {
          "output_type": "stream",
          "name": "stdout",
          "text": [
            "Clasificación de campaña A:\n",
            "CTR: 1.0% --> mala\n",
            "\n",
            "Clasificación de campaña B:\n",
            "CTR: 2.14% --> regular\n",
            "\n",
            "Clasificación de campaña C:\n",
            "CTR: 4.0% --> buena\n",
            "\n",
            "Clasificación de campaña D:\n",
            "CTR: 6.67% --> buena\n",
            "\n"
          ]
        }
      ]
    },
    {
      "cell_type": "code",
      "source": [
        "solicitudes = [\n",
        "    {'Nombre':'Juan', 'Ingreso': 8000, 'Score': 900, 'Deuda': 1200, 'Tipo':'Normal'},\n",
        "    {'Nombre':'Pedro', 'Ingreso': 8500, 'Score': 699, 'Deuda': 3200, 'Tipo':'Normal'},\n",
        "    {'Nombre':'Julio', 'Ingreso': 9700, 'Score': 750, 'Deuda': 2200, 'Tipo':'Premium'},\n",
        "    {'Nombre':'César', 'Ingreso': 6900, 'Score': 650, 'Deuda': 100, 'Tipo':'Premium'}\n",
        "]\n",
        "\n",
        "for x in solicitudes:\n",
        "  if x['Ingreso']>= 5000 and x['Score'] >= 700 and x['Deuda'] <= (x['Ingreso']*0.4):\n",
        "    estado = \"Crédito aprobado\"\n",
        "  else:\n",
        "    estado = \"Crédito desaprobado\"\n",
        "\n",
        "  if estado == \"Crédito aprobado\":\n",
        "\n",
        "    if x['Tipo'] == 'Premium' and x['Ingreso'] > 5000:\n",
        "      tasa = \"8%\"\n",
        "    else:\n",
        "      tasa = \"12%\"\n",
        "  else:\n",
        "    tasa = \"No corresponde tasa\"\n",
        "\n",
        "  print(f\"Solicitud de: {x['Nombre']}\\nEstado de crédito: {estado}\\nTasa correspondiente: {tasa}\\n\")\n"
      ],
      "metadata": {
        "colab": {
          "base_uri": "https://localhost:8080/"
        },
        "id": "AUEmsu0ceYSU",
        "outputId": "20e90bdb-91dd-4032-a3f7-f326951f5213"
      },
      "execution_count": 79,
      "outputs": [
        {
          "output_type": "stream",
          "name": "stdout",
          "text": [
            "Solicitud de: Juan\n",
            "Estado de crédito: Crédito aprobado\n",
            "Tasa correspondiente: 12%\n",
            "\n",
            "Solicitud de: Pedro\n",
            "Estado de crédito: Crédito desaprobado\n",
            "Tasa correspondiente: No corresponde tasa\n",
            "\n",
            "Solicitud de: Julio\n",
            "Estado de crédito: Crédito aprobado\n",
            "Tasa correspondiente: 8%\n",
            "\n",
            "Solicitud de: César\n",
            "Estado de crédito: Crédito desaprobado\n",
            "Tasa correspondiente: No corresponde tasa\n",
            "\n"
          ]
        }
      ]
    }
  ]
}