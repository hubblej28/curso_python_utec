{
  "nbformat": 4,
  "nbformat_minor": 0,
  "metadata": {
    "colab": {
      "provenance": [],
      "authorship_tag": "ABX9TyNoHPnlabwJolOJc2wsupzg",
      "include_colab_link": true
    },
    "kernelspec": {
      "name": "python3",
      "display_name": "Python 3"
    },
    "language_info": {
      "name": "python"
    }
  },
  "cells": [
    {
      "cell_type": "markdown",
      "metadata": {
        "id": "view-in-github",
        "colab_type": "text"
      },
      "source": [
        "<a href=\"https://colab.research.google.com/github/hubblej28/curso_python_utec/blob/main/Laboratorios_Sesion03_Listas.ipynb\" target=\"_parent\"><img src=\"https://colab.research.google.com/assets/colab-badge.svg\" alt=\"Open In Colab\"/></a>"
      ]
    },
    {
      "cell_type": "markdown",
      "source": [
        "Actividad 019"
      ],
      "metadata": {
        "id": "UrjiQg1H_E3K"
      }
    },
    {
      "cell_type": "code",
      "execution_count": 5,
      "metadata": {
        "colab": {
          "base_uri": "https://localhost:8080/"
        },
        "id": "Ovh2I6IM8VZp",
        "outputId": "0a4fa551-2627-442e-b3b5-cab4b50a8016"
      },
      "outputs": [
        {
          "output_type": "stream",
          "name": "stdout",
          "text": [
            "Sin comprension:  [4, 16, 36, 64, 100, 144, 196, 256, 324, 400]\n",
            "Con comprension:  [4, 16, 36, 64, 100, 144, 196, 256, 324, 400]\n"
          ]
        }
      ],
      "source": [
        "pares = list(range(2,22,2))\n",
        "cuadrados=[]\n",
        "for par in pares:\n",
        "  cuadrado = par**2\n",
        "  cuadrados.append(cuadrado)\n",
        "print(\"Sin comprension: \",cuadrados)\n",
        "\n",
        "##con comprension\n",
        "cuadrados_2 = [i**2 for i in pares]\n",
        "print(\"Con comprension: \",cuadrados_2)"
      ]
    },
    {
      "cell_type": "markdown",
      "source": [
        "Actividad 020"
      ],
      "metadata": {
        "id": "NnRFD4XQC9dS"
      }
    },
    {
      "cell_type": "code",
      "source": [
        "correlativosn = []\n",
        "for i in pares:\n",
        "  suma = i + 5\n",
        "  correlativosn.append(suma)\n",
        "\n",
        "print(correlativosn)"
      ],
      "metadata": {
        "colab": {
          "base_uri": "https://localhost:8080/"
        },
        "id": "MwVnjVyUC-tR",
        "outputId": "da91710c-b799-49ab-915a-9c04a69d486d"
      },
      "execution_count": 7,
      "outputs": [
        {
          "output_type": "stream",
          "name": "stdout",
          "text": [
            "[7, 9, 11, 13, 15, 17, 19, 21, 23, 25]\n"
          ]
        }
      ]
    },
    {
      "cell_type": "markdown",
      "source": [
        "Actividad 021"
      ],
      "metadata": {
        "id": "iwFh3A0gGIlS"
      }
    },
    {
      "cell_type": "code",
      "source": [
        "universidades = ['urp', 'utec', 'ulima', 'pucp', 'esan', 'udep']\n",
        "universidades [-3:]"
      ],
      "metadata": {
        "colab": {
          "base_uri": "https://localhost:8080/"
        },
        "id": "H6HcFdaVGKRL",
        "outputId": "de135ab5-9694-4d15-f670-e4917a582f7a"
      },
      "execution_count": 9,
      "outputs": [
        {
          "output_type": "execute_result",
          "data": {
            "text/plain": [
              "['pucp', 'esan', 'udep']"
            ]
          },
          "metadata": {},
          "execution_count": 9
        }
      ]
    },
    {
      "cell_type": "code",
      "source": [
        "estudios = universidades\n",
        "universidades.append('harvard')\n",
        "estudios.append('mit')\n",
        "print(universidades)"
      ],
      "metadata": {
        "colab": {
          "base_uri": "https://localhost:8080/"
        },
        "id": "ZeNMvQeFHrqa",
        "outputId": "e9db8c58-dc73-4255-e686-506ac76c9f10"
      },
      "execution_count": 10,
      "outputs": [
        {
          "output_type": "stream",
          "name": "stdout",
          "text": [
            "['urp', 'utec', 'ulima', 'pucp', 'esan', 'udep', 'harvard', 'mit']\n"
          ]
        }
      ]
    },
    {
      "cell_type": "markdown",
      "source": [
        "Reto 1"
      ],
      "metadata": {
        "id": "BpIMk3l-LVRL"
      }
    },
    {
      "cell_type": "code",
      "source": [
        "lista_x = list(range(12,202,2))\n",
        "print(lista_x)"
      ],
      "metadata": {
        "colab": {
          "base_uri": "https://localhost:8080/"
        },
        "id": "FQCtA2WEI56q",
        "outputId": "ac8a1100-beb5-4411-bc8d-5b8b7e5c395d"
      },
      "execution_count": 15,
      "outputs": [
        {
          "output_type": "stream",
          "name": "stdout",
          "text": [
            "[12, 14, 16, 18, 20, 22, 24, 26, 28, 30, 32, 34, 36, 38, 40, 42, 44, 46, 48, 50, 52, 54, 56, 58, 60, 62, 64, 66, 68, 70, 72, 74, 76, 78, 80, 82, 84, 86, 88, 90, 92, 94, 96, 98, 100, 102, 104, 106, 108, 110, 112, 114, 116, 118, 120, 122, 124, 126, 128, 130, 132, 134, 136, 138, 140, 142, 144, 146, 148, 150, 152, 154, 156, 158, 160, 162, 164, 166, 168, 170, 172, 174, 176, 178, 180, 182, 184, 186, 188, 190, 192, 194, 196, 198, 200]\n"
          ]
        }
      ]
    },
    {
      "cell_type": "code",
      "source": [
        "el_1 = lista_x.pop() ##elimina el ultimo elemento de la lista y permite almacenarlo en otro objeto\n",
        "el_2 = lista_x.pop(0) ##elimina el elemento de indice 0 y permite almacenarlo en otro objeto\n",
        "\n",
        "numeros_eliminados = []\n",
        "numeros_eliminados.append (el_2)\n",
        "numeros_eliminados.append (el_1)\n",
        "print(numeros_eliminados)"
      ],
      "metadata": {
        "colab": {
          "base_uri": "https://localhost:8080/"
        },
        "id": "tah8GWe4Kd8r",
        "outputId": "32af526a-d421-4d98-c3ba-d85c72164904"
      },
      "execution_count": 16,
      "outputs": [
        {
          "output_type": "stream",
          "name": "stdout",
          "text": [
            "[12, 200]\n"
          ]
        }
      ]
    },
    {
      "cell_type": "code",
      "source": [
        "min(lista_x)"
      ],
      "metadata": {
        "colab": {
          "base_uri": "https://localhost:8080/"
        },
        "id": "ifXt-Xk8LJej",
        "outputId": "ac06f50c-b1cd-4390-b36a-384f5ec41a95"
      },
      "execution_count": 17,
      "outputs": [
        {
          "output_type": "execute_result",
          "data": {
            "text/plain": [
              "14"
            ]
          },
          "metadata": {},
          "execution_count": 17
        }
      ]
    },
    {
      "cell_type": "markdown",
      "source": [
        "Reto 2"
      ],
      "metadata": {
        "id": "o4W3wmQ-LRrr"
      }
    },
    {
      "cell_type": "code",
      "source": [
        "nro_elementos = int(input(\"Ingrese el numero de elementos: \"))\n",
        "i= 1\n",
        "lista = []\n",
        "while i <= nro_elementos:\n",
        "  elementos = int(input(f\"Ingrese valor{i}: \"))\n",
        "  lista.append(elementos)\n",
        "  i = i + 1\n",
        "print (lista)\n",
        "minimo = min(lista)\n",
        "print(minimo)\n",
        "maximo = max(lista)\n",
        "print(maximo)\n",
        "promedio = int(sum(lista)/nro_elementos)\n",
        "print(promedio)"
      ],
      "metadata": {
        "colab": {
          "base_uri": "https://localhost:8080/"
        },
        "id": "AVs-zFDqLUXi",
        "outputId": "0f1d9530-a341-428f-d877-9a8fc7a7f096"
      },
      "execution_count": 34,
      "outputs": [
        {
          "output_type": "stream",
          "name": "stdout",
          "text": [
            "Ingrese el numero de elementos: 3\n",
            "Ingrese valor1: 1\n",
            "Ingrese valor2: 3\n",
            "Ingrese valor3: 5\n",
            "[1, 3, 5]\n",
            "1\n",
            "5\n",
            "3\n"
          ]
        }
      ]
    },
    {
      "cell_type": "markdown",
      "source": [
        "Reto003"
      ],
      "metadata": {
        "id": "9MB4pf3eVtXl"
      }
    },
    {
      "cell_type": "code",
      "source": [
        "lista_x1=[\"A\",\"B\",\"b\",\"c\",\"E\",\"E\",\"f\"]\n",
        "elemento_eliminar = input(\"Ingrese elemento a eliminar: \")\n",
        "\n",
        "lista_pivot = []\n",
        "for i in lista_x1:\n",
        "  if i!= elemento_eliminar:\n",
        "    lista_pivot.append(i)\n",
        "\n",
        "print(lista_pivot)"
      ],
      "metadata": {
        "colab": {
          "base_uri": "https://localhost:8080/"
        },
        "id": "zxbjaygDVuYt",
        "outputId": "47b6bf0b-74d7-40b5-a0da-eb38bec454c2"
      },
      "execution_count": 35,
      "outputs": [
        {
          "output_type": "stream",
          "name": "stdout",
          "text": [
            "Ingrese elemento a eliminar: f\n",
            "['A', 'B', 'b', 'c', 'E', 'E']\n"
          ]
        }
      ]
    }
  ]
}